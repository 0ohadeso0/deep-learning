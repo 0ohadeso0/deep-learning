{
 "cells": [
  {
   "cell_type": "markdown",
   "metadata": {},
   "source": [
    "# Introduction to PyTorch\n",
    "\n",
    "In this notebook, you'll get introduced to [PyTorch](http://pytorch.org/), a framework for building and training neural networks. PyTorch in a lot of ways behaves like the arrays you love from Numpy. These Numpy arrays, after all, are just tensors. PyTorch takes these tensors and makes it simple to move them to GPUs for the faster processing needed when training neural networks. It also provides a module that automatically calculates gradients (for backpropagation!) and another module specifically for building neural networks. All together, PyTorch ends up being more coherent with Python and the Numpy/Scipy stack, compared to TensorFlow and other frameworks.\n",
    "\n",
    "Here I'll show you how to train a fully connected network and a convolutional network on MNIST. Along the way, you'll learn how to work with tensors in PyTorch and how to calculate gradients. First off, import some modules."
   ]
  },
  {
   "cell_type": "code",
   "execution_count": 12,
   "metadata": {
    "collapsed": true
   },
   "outputs": [],
   "source": [
    "%matplotlib inline\n",
    "%config InlineBackend.figure_format = 'retina'\n",
    "\n",
    "import numpy as np\n",
    "import torch\n",
    "\n",
    "from helper import view_classify"
   ]
  },
  {
   "cell_type": "markdown",
   "metadata": {},
   "source": [
    "First, let's see how we work with PyTorch tensors."
   ]
  },
  {
   "cell_type": "code",
   "execution_count": 13,
   "metadata": {},
   "outputs": [
    {
     "data": {
      "text/plain": [
       "\n",
       " 0.7670  0.1579\n",
       " 0.7087  0.1989\n",
       " 0.2796  0.1454\n",
       "[torch.FloatTensor of size 3x2]"
      ]
     },
     "execution_count": 13,
     "metadata": {},
     "output_type": "execute_result"
    }
   ],
   "source": [
    "x = torch.rand(3, 2)\n",
    "x"
   ]
  },
  {
   "cell_type": "code",
   "execution_count": 14,
   "metadata": {},
   "outputs": [
    {
     "data": {
      "text/plain": [
       "\n",
       " 1  1\n",
       " 1  1\n",
       " 1  1\n",
       "[torch.FloatTensor of size 3x2]"
      ]
     },
     "execution_count": 14,
     "metadata": {},
     "output_type": "execute_result"
    }
   ],
   "source": [
    "y = torch.ones(x.size())\n",
    "y"
   ]
  },
  {
   "cell_type": "code",
   "execution_count": 15,
   "metadata": {},
   "outputs": [
    {
     "data": {
      "text/plain": [
       "\n",
       " 1.7670  1.1579\n",
       " 1.7087  1.1989\n",
       " 1.2796  1.1454\n",
       "[torch.FloatTensor of size 3x2]"
      ]
     },
     "execution_count": 15,
     "metadata": {},
     "output_type": "execute_result"
    }
   ],
   "source": [
    "z = x + y\n",
    "z"
   ]
  },
  {
   "cell_type": "markdown",
   "metadata": {},
   "source": [
    "In general PyTorch tensors behave similar to Numpy arrays. They are zero indexed and support slicing."
   ]
  },
  {
   "cell_type": "code",
   "execution_count": 16,
   "metadata": {},
   "outputs": [
    {
     "data": {
      "text/plain": [
       "\n",
       " 1.7670\n",
       " 1.1579\n",
       "[torch.FloatTensor of size 2]"
      ]
     },
     "execution_count": 16,
     "metadata": {},
     "output_type": "execute_result"
    }
   ],
   "source": [
    "z[0]"
   ]
  },
  {
   "cell_type": "code",
   "execution_count": 17,
   "metadata": {},
   "outputs": [
    {
     "data": {
      "text/plain": [
       "\n",
       " 1.1579\n",
       " 1.1989\n",
       " 1.1454\n",
       "[torch.FloatTensor of size 3x1]"
      ]
     },
     "execution_count": 17,
     "metadata": {},
     "output_type": "execute_result"
    }
   ],
   "source": [
    "z[:, 1:]"
   ]
  },
  {
   "cell_type": "markdown",
   "metadata": {},
   "source": [
    "Tensors typically have two forms of methods, one method that returns another tensor and another method that performs the operation in place. That is, the values in memory for that tensor are changed without creating a new tensor. In-place functions are always followed by an underscore, for example `z.add()` and `z.add_()`."
   ]
  },
  {
   "cell_type": "code",
   "execution_count": 18,
   "metadata": {},
   "outputs": [
    {
     "data": {
      "text/plain": [
       "\n",
       " 2.7670  2.1579\n",
       " 2.7087  2.1989\n",
       " 2.2796  2.1454\n",
       "[torch.FloatTensor of size 3x2]"
      ]
     },
     "execution_count": 18,
     "metadata": {},
     "output_type": "execute_result"
    }
   ],
   "source": [
    "# Return a new tensor with the cosines of z\n",
    "z.add(1)"
   ]
  },
  {
   "cell_type": "code",
   "execution_count": 19,
   "metadata": {},
   "outputs": [
    {
     "data": {
      "text/plain": [
       "\n",
       " 1.7670  1.1579\n",
       " 1.7087  1.1989\n",
       " 1.2796  1.1454\n",
       "[torch.FloatTensor of size 3x2]"
      ]
     },
     "execution_count": 19,
     "metadata": {},
     "output_type": "execute_result"
    }
   ],
   "source": [
    "# z tensor is unchanged\n",
    "z"
   ]
  },
  {
   "cell_type": "code",
   "execution_count": 20,
   "metadata": {},
   "outputs": [
    {
     "data": {
      "text/plain": [
       "\n",
       " 2.7670  2.1579\n",
       " 2.7087  2.1989\n",
       " 2.2796  2.1454\n",
       "[torch.FloatTensor of size 3x2]"
      ]
     },
     "execution_count": 20,
     "metadata": {},
     "output_type": "execute_result"
    }
   ],
   "source": [
    "# Add 1 and update z tensor in-place\n",
    "z.add_(1)"
   ]
  },
  {
   "cell_type": "code",
   "execution_count": 21,
   "metadata": {},
   "outputs": [
    {
     "data": {
      "text/plain": [
       "\n",
       " 2.7670  2.1579\n",
       " 2.7087  2.1989\n",
       " 2.2796  2.1454\n",
       "[torch.FloatTensor of size 3x2]"
      ]
     },
     "execution_count": 21,
     "metadata": {},
     "output_type": "execute_result"
    }
   ],
   "source": [
    "# z has been updated\n",
    "z"
   ]
  },
  {
   "cell_type": "markdown",
   "metadata": {},
   "source": [
    "### Reshaping\n",
    "\n",
    "Reshaping tensors is a really common operation. First to get the size and shape of a tensor use `.size()`. Then, to reshape a tensor, use `.resize_()`. Notice the underscore, reshaping is an in-place operation."
   ]
  },
  {
   "cell_type": "code",
   "execution_count": 22,
   "metadata": {},
   "outputs": [
    {
     "data": {
      "text/plain": [
       "torch.Size([3, 2])"
      ]
     },
     "execution_count": 22,
     "metadata": {},
     "output_type": "execute_result"
    }
   ],
   "source": [
    "z.size()"
   ]
  },
  {
   "cell_type": "code",
   "execution_count": 23,
   "metadata": {},
   "outputs": [
    {
     "data": {
      "text/plain": [
       "\n",
       " 2.7670  2.1579  2.7087\n",
       " 2.1989  2.2796  2.1454\n",
       "[torch.FloatTensor of size 2x3]"
      ]
     },
     "execution_count": 23,
     "metadata": {},
     "output_type": "execute_result"
    }
   ],
   "source": [
    "z.resize_(2, 3)"
   ]
  },
  {
   "cell_type": "code",
   "execution_count": 24,
   "metadata": {},
   "outputs": [
    {
     "data": {
      "text/plain": [
       "\n",
       " 2.7670  2.1579  2.7087\n",
       " 2.1989  2.2796  2.1454\n",
       "[torch.FloatTensor of size 2x3]"
      ]
     },
     "execution_count": 24,
     "metadata": {},
     "output_type": "execute_result"
    }
   ],
   "source": [
    "z"
   ]
  },
  {
   "cell_type": "markdown",
   "metadata": {},
   "source": [
    "## Numpy to Torch and back\n",
    "\n",
    "Converting between Numpy arrays and Torch tensors is super simple and useful. To create a tensor from a Numpy array, use `torch.from_numpy()`. To convert a tensor to a Numpy array, use the `.numpy()` method."
   ]
  },
  {
   "cell_type": "code",
   "execution_count": 25,
   "metadata": {},
   "outputs": [
    {
     "data": {
      "text/plain": [
       "array([[ 0.52770697,  0.26250083,  0.62563449],\n",
       "       [ 0.63262674,  0.20938955,  0.82373549],\n",
       "       [ 0.66267703,  0.32672406,  0.43019385],\n",
       "       [ 0.89554271,  0.23079439,  0.11049253]])"
      ]
     },
     "execution_count": 25,
     "metadata": {},
     "output_type": "execute_result"
    }
   ],
   "source": [
    "a = np.random.rand(4,3)\n",
    "a"
   ]
  },
  {
   "cell_type": "code",
   "execution_count": 26,
   "metadata": {},
   "outputs": [
    {
     "data": {
      "text/plain": [
       "\n",
       " 0.5277  0.2625  0.6256\n",
       " 0.6326  0.2094  0.8237\n",
       " 0.6627  0.3267  0.4302\n",
       " 0.8955  0.2308  0.1105\n",
       "[torch.DoubleTensor of size 4x3]"
      ]
     },
     "execution_count": 26,
     "metadata": {},
     "output_type": "execute_result"
    }
   ],
   "source": [
    "b = torch.from_numpy(a)\n",
    "b"
   ]
  },
  {
   "cell_type": "code",
   "execution_count": 27,
   "metadata": {},
   "outputs": [
    {
     "data": {
      "text/plain": [
       "array([[ 0.52770697,  0.26250083,  0.62563449],\n",
       "       [ 0.63262674,  0.20938955,  0.82373549],\n",
       "       [ 0.66267703,  0.32672406,  0.43019385],\n",
       "       [ 0.89554271,  0.23079439,  0.11049253]])"
      ]
     },
     "execution_count": 27,
     "metadata": {},
     "output_type": "execute_result"
    }
   ],
   "source": [
    "b.numpy()"
   ]
  },
  {
   "cell_type": "markdown",
   "metadata": {},
   "source": [
    "The memory is shared between the Numpy array and Torch tensor, so if you change the values in-place of one object, the other will change as well."
   ]
  },
  {
   "cell_type": "code",
   "execution_count": 28,
   "metadata": {},
   "outputs": [
    {
     "data": {
      "text/plain": [
       "\n",
       " 1.0554  0.5250  1.2513\n",
       " 1.2653  0.4188  1.6475\n",
       " 1.3254  0.6534  0.8604\n",
       " 1.7911  0.4616  0.2210\n",
       "[torch.DoubleTensor of size 4x3]"
      ]
     },
     "execution_count": 28,
     "metadata": {},
     "output_type": "execute_result"
    }
   ],
   "source": [
    "# Multiply PyTorch Tensor by 2, in place\n",
    "b.mul_(2)"
   ]
  },
  {
   "cell_type": "code",
   "execution_count": 29,
   "metadata": {},
   "outputs": [
    {
     "data": {
      "text/plain": [
       "array([[ 1.05541394,  0.52500165,  1.25126898],\n",
       "       [ 1.26525348,  0.4187791 ,  1.64747097],\n",
       "       [ 1.32535407,  0.65344811,  0.86038771],\n",
       "       [ 1.79108541,  0.46158878,  0.22098507]])"
      ]
     },
     "execution_count": 29,
     "metadata": {},
     "output_type": "execute_result"
    }
   ],
   "source": [
    "# Numpy array matches new values from Tensor\n",
    "a"
   ]
  },
  {
   "cell_type": "markdown",
   "metadata": {},
   "source": [
    "## Autograd\n",
    "\n",
    "Torch provides a module, `autograd`, for automatically calculating the gradient of tensors. It does this by keeping track of operations performed on tensors. For PyTorch to track operations, you need to wrap a tensor with the `Variable` class from `torch.autograd`. You can get the tensor back with the `.data` attribute of the Variable.\n",
    "\n",
    "The gradients are computed with respect to some variable `z` with `z.backward()`. This does a backward pass through the operations that created `z`."
   ]
  },
  {
   "cell_type": "code",
   "execution_count": 30,
   "metadata": {
    "collapsed": true
   },
   "outputs": [],
   "source": [
    "from torch.autograd import Variable"
   ]
  },
  {
   "cell_type": "code",
   "execution_count": 31,
   "metadata": {},
   "outputs": [
    {
     "data": {
      "text/plain": [
       "Variable containing:\n",
       " 1  1\n",
       " 1  1\n",
       "[torch.FloatTensor of size 2x2]"
      ]
     },
     "execution_count": 31,
     "metadata": {},
     "output_type": "execute_result"
    }
   ],
   "source": [
    "x = torch.ones(2,2)\n",
    "x = Variable(x, requires_grad=True)\n",
    "x"
   ]
  },
  {
   "cell_type": "code",
   "execution_count": 32,
   "metadata": {},
   "outputs": [
    {
     "data": {
      "text/plain": [
       "Variable containing:\n",
       " 12  12\n",
       " 12  12\n",
       "[torch.FloatTensor of size 2x2]"
      ]
     },
     "execution_count": 32,
     "metadata": {},
     "output_type": "execute_result"
    }
   ],
   "source": [
    "y = 3*(x+1)**2\n",
    "y"
   ]
  },
  {
   "cell_type": "markdown",
   "metadata": {},
   "source": [
    "Below we can see the operation that created `y`, a `MulConstant` op."
   ]
  },
  {
   "cell_type": "code",
   "execution_count": 33,
   "metadata": {},
   "outputs": [
    {
     "data": {
      "text/plain": [
       "<torch.autograd._functions.basic_ops.MulConstant at 0x7f3b38aaa9e8>"
      ]
     },
     "execution_count": 33,
     "metadata": {},
     "output_type": "execute_result"
    }
   ],
   "source": [
    "y.creator"
   ]
  },
  {
   "cell_type": "code",
   "execution_count": 34,
   "metadata": {},
   "outputs": [
    {
     "data": {
      "text/plain": [
       "Variable containing:\n",
       " 12\n",
       "[torch.FloatTensor of size 1]"
      ]
     },
     "execution_count": 34,
     "metadata": {},
     "output_type": "execute_result"
    }
   ],
   "source": [
    "z = y.mean()\n",
    "z"
   ]
  },
  {
   "cell_type": "markdown",
   "metadata": {},
   "source": [
    "Again, we can check out how `z` was created, with a `Mean` operation."
   ]
  },
  {
   "cell_type": "code",
   "execution_count": 35,
   "metadata": {},
   "outputs": [
    {
     "data": {
      "text/plain": [
       "<torch.autograd._functions.reduce.Mean at 0x7f3b38aaa748>"
      ]
     },
     "execution_count": 35,
     "metadata": {},
     "output_type": "execute_result"
    }
   ],
   "source": [
    "z.creator"
   ]
  },
  {
   "cell_type": "markdown",
   "metadata": {},
   "source": [
    "Since we haven't performed a backward pass, `x` doesn't have a gradient yet."
   ]
  },
  {
   "cell_type": "code",
   "execution_count": 36,
   "metadata": {
    "collapsed": true
   },
   "outputs": [],
   "source": [
    "x.grad"
   ]
  },
  {
   "cell_type": "markdown",
   "metadata": {},
   "source": [
    "Now we can calculate the gradients of `z` with respect to `x` with `z.backward()`."
   ]
  },
  {
   "cell_type": "code",
   "execution_count": 37,
   "metadata": {
    "collapsed": true
   },
   "outputs": [],
   "source": [
    "z.backward()"
   ]
  },
  {
   "cell_type": "code",
   "execution_count": 38,
   "metadata": {},
   "outputs": [
    {
     "data": {
      "text/plain": [
       "Variable containing:\n",
       " 3  3\n",
       " 3  3\n",
       "[torch.FloatTensor of size 2x2]"
      ]
     },
     "execution_count": 38,
     "metadata": {},
     "output_type": "execute_result"
    }
   ],
   "source": [
    "x.grad"
   ]
  },
  {
   "cell_type": "markdown",
   "metadata": {},
   "source": [
    "These gradients calculations are particularly useful for neural networks. For training we need the gradients of the weights with respect to the cost. With PyTorch, we run data forward through the network to calculate the cost, then, go backwards to calculate the gradients with respect to the cost. Once we have the gradients we can make a gradient descent step. \n",
    "\n",
    "## Classifying MNIST with PyTorch\n",
    "\n",
    "Next I'll show you how to use this pattern to build a neural network with PyTorch. First up, we need to get our dataset. This is provided through the `torchvision` package. The code below will download the MNIST dataset, then create train and test datasets for us."
   ]
  },
  {
   "cell_type": "code",
   "execution_count": 39,
   "metadata": {
    "collapsed": true
   },
   "outputs": [],
   "source": [
    "%matplotlib inline\n",
    "\n",
    "import matplotlib.pyplot as plt\n",
    "from torchvision import datasets, transforms"
   ]
  },
  {
   "cell_type": "code",
   "execution_count": 40,
   "metadata": {
    "collapsed": true
   },
   "outputs": [],
   "source": [
    "# Define a transform to normalize the data\n",
    "transform = transforms.Compose([transforms.ToTensor(),\n",
    "                              transforms.Normalize((0.5, 0.5, 0.5), (0.5, 0.5, 0.5)),\n",
    "                             ])\n",
    "# Download and load the training data\n",
    "trainset = datasets.MNIST('MNIST_data/', download=True, train=True, transform=transform)\n",
    "trainloader = torch.utils.data.DataLoader(trainset, batch_size=64, shuffle=True)\n",
    "\n",
    "# Download and load the test data\n",
    "testset = datasets.MNIST('MNIST_data/', download=True, train=False, transform=transform)\n",
    "testloader = torch.utils.data.DataLoader(testset, batch_size=64, shuffle=True)"
   ]
  },
  {
   "cell_type": "code",
   "execution_count": 41,
   "metadata": {
    "collapsed": true
   },
   "outputs": [],
   "source": [
    "dataiter = iter(trainloader)\n",
    "images, labels = dataiter.next()"
   ]
  },
  {
   "cell_type": "markdown",
   "metadata": {},
   "source": [
    "We have the training data loaded into `trainloader` and we make that an iterator with `iter(trainloader)`. We'd use this to loop through the dataset for training, but here I'm just grabbing the first batch so we can check out the data. We can see below that `images` is just a tensor with size (64, 1, 28, 28). So, 64 images per batch, 1 color channel, and 28x28 images."
   ]
  },
  {
   "cell_type": "code",
   "execution_count": 42,
   "metadata": {},
   "outputs": [
    {
     "data": {
      "text/plain": [
       "torch.Size([64, 1, 28, 28])"
      ]
     },
     "execution_count": 42,
     "metadata": {},
     "output_type": "execute_result"
    }
   ],
   "source": [
    "images.size()"
   ]
  },
  {
   "cell_type": "code",
   "execution_count": 43,
   "metadata": {},
   "outputs": [
    {
     "data": {
      "text/plain": [
       "<matplotlib.image.AxesImage at 0x7f3b300a3a20>"
      ]
     },
     "execution_count": 43,
     "metadata": {},
     "output_type": "execute_result"
    },
    {
     "data": {
      "image/png": "[encoded data removed]",
      "text/plain": [
       "<matplotlib.figure.Figure at 0x7f3b301020f0>"
      ]
     },
     "metadata": {
      "image/png": {
       "height": 250,
       "width": 253
      }
     },
     "output_type": "display_data"
    }
   ],
   "source": [
    "plt.imshow(images[2].numpy().squeeze(), cmap='Greys_r')"
   ]
  },
  {
   "cell_type": "markdown",
   "metadata": {},
   "source": [
    "## Building networks with PyTorch\n",
    "\n",
    "Here I'll use PyTorch to build a simple feedfoward network to classify the MNIST images. This network will be trained on the dataset, then we can use it to classify the test images.\n",
    "\n",
    "To build a neural network with PyTorch, you use the `torch.nn` module. The network itself is a class inheriting from `torch.nn.Module`. You define each of the operations separately, like `nn.Linear(784, 200)` for a fully connected linear layer with 784 inputs and 200 units.\n",
    "\n",
    "The class needs to include a `forward` method that implements the forward pass through the network. In this method, you pass some input tensor `x` through each of the operations you defined earlier. The `torch.nn` module also has functional equivalents for things like ReLUs in `torch.nn.functional`. This module is usually imported as `F`. Then to use a ReLU activation on some layer (which is just a tensor), you'd do `F.relu(x)`.\n",
    "\n",
    "So, for this network, I'll build it with three fully connected layers, then a softmax output for predicting classes."
   ]
  },
  {
   "cell_type": "code",
   "execution_count": 44,
   "metadata": {
    "collapsed": true
   },
   "outputs": [],
   "source": [
    "from torch import nn\n",
    "from torch import optim\n",
    "import torch.nn.functional as F\n",
    "from torch.autograd import Variable"
   ]
  },
  {
   "cell_type": "code",
   "execution_count": 45,
   "metadata": {},
   "outputs": [
    {
     "data": {
      "text/plain": [
       "Network (\n",
       "  (fc1): Linear (784 -> 200)\n",
       "  (fc2): Linear (200 -> 50)\n",
       "  (fc3): Linear (50 -> 10)\n",
       ")"
      ]
     },
     "execution_count": 45,
     "metadata": {},
     "output_type": "execute_result"
    }
   ],
   "source": [
    "class Network(nn.Module):\n",
    "    def __init__(self):\n",
    "        super().__init__()\n",
    "        # Defining the layers, 200, 50, 10 units each\n",
    "        self.fc1 = nn.Linear(784, 200)\n",
    "        self.fc2 = nn.Linear(200, 50)\n",
    "        # Output layer, 10 units - one for each digit\n",
    "        self.fc3 = nn.Linear(50, 10)\n",
    "        \n",
    "    def forward(self, x):\n",
    "        ''' Forward pass through the network, returns the output logits '''\n",
    "        \n",
    "        x = self.fc1(x)\n",
    "        x = F.relu(x)\n",
    "        x = self.fc2(x)\n",
    "        x = F.relu(x)\n",
    "        x = self.fc3(x)\n",
    "        \n",
    "        return x\n",
    "    \n",
    "    def predict(self, x):\n",
    "        ''' This function for predicts classes by calculating the softmax '''\n",
    "        logits = self.forward(x)\n",
    "        return F.softmax(logits)\n",
    "\n",
    "net = Network()\n",
    "net"
   ]
  },
  {
   "cell_type": "markdown",
   "metadata": {},
   "source": [
    "### Initializing weights and biases\n",
    "\n",
    "The weights and such are automatically initialized for you, but it's possible to customize how they are initialized. The weights and biases are tensors attached to the layer you defined, you can get them with `net.fc1.weight` for instance."
   ]
  },
  {
   "cell_type": "code",
   "execution_count": 46,
   "metadata": {},
   "outputs": [
    {
     "name": "stdout",
     "output_type": "stream",
     "text": [
      "Parameter containing:\n",
      " 3.3264e-02 -7.9339e-03  5.7724e-03  ...   3.7738e-03 -9.6151e-03 -2.3292e-02\n",
      " 2.0090e-02  2.2167e-02 -6.9689e-03  ...  -3.0251e-03  2.7098e-03  1.9272e-02\n",
      " 1.6246e-02 -2.5586e-02  1.9203e-03  ...   1.6843e-02 -1.0014e-02 -1.1585e-02\n",
      "                ...                   ⋱                   ...                \n",
      " 6.4571e-03  1.6407e-02 -3.4607e-02  ...  -2.8894e-02 -2.9916e-02  2.9006e-02\n",
      "-3.0395e-02 -1.9366e-02 -1.2421e-02  ...  -2.6520e-02  2.6639e-02  1.5227e-02\n",
      "-1.7394e-03 -2.4010e-02 -3.2113e-02  ...   7.4121e-03 -2.1844e-02 -3.5535e-03\n",
      "[torch.FloatTensor of size 200x784]\n",
      "\n",
      "Parameter containing:\n",
      "1.00000e-02 *\n",
      " -1.1896\n",
      " -2.2386\n",
      "  1.9843\n",
      " -2.4376\n",
      "  0.7572\n",
      " -2.8251\n",
      "  1.9933\n",
      " -3.0642\n",
      " -0.5655\n",
      " -2.1259\n",
      " -0.4045\n",
      "  1.1649\n",
      "  2.2737\n",
      " -0.0310\n",
      "  0.6883\n",
      " -1.3900\n",
      " -2.6286\n",
      "  2.3982\n",
      "  1.7768\n",
      "  1.2594\n",
      " -1.8605\n",
      " -3.4929\n",
      "  3.3878\n",
      " -1.1430\n",
      " -0.3664\n",
      " -0.4987\n",
      " -0.8691\n",
      "  0.8261\n",
      " -3.4407\n",
      "  3.4405\n",
      " -2.9767\n",
      "  1.8299\n",
      " -1.5048\n",
      "  0.3683\n",
      "  2.1161\n",
      "  0.1669\n",
      " -2.2223\n",
      "  3.0264\n",
      " -2.0609\n",
      "  1.5192\n",
      " -1.4812\n",
      " -0.2021\n",
      "  3.4809\n",
      "  0.1792\n",
      " -1.2645\n",
      " -0.1561\n",
      " -2.5648\n",
      " -3.5471\n",
      " -3.2423\n",
      " -3.1112\n",
      "  1.0470\n",
      " -0.4754\n",
      "  2.2587\n",
      " -2.8732\n",
      "  0.8524\n",
      "  3.1915\n",
      " -3.5618\n",
      "  3.3170\n",
      "  1.2725\n",
      " -1.5718\n",
      "  0.9563\n",
      "  1.0812\n",
      "  1.9197\n",
      " -0.2555\n",
      " -0.8778\n",
      "  0.4020\n",
      "  3.1533\n",
      " -2.4102\n",
      " -2.0677\n",
      "  1.4626\n",
      "  2.6399\n",
      " -0.5162\n",
      "  2.3457\n",
      " -0.1470\n",
      "  3.3037\n",
      " -1.7059\n",
      " -1.7156\n",
      "  0.0803\n",
      " -0.3979\n",
      "  1.3165\n",
      "  0.0725\n",
      " -0.2032\n",
      " -0.5596\n",
      " -0.6407\n",
      " -1.3883\n",
      "  2.3217\n",
      "  2.9521\n",
      " -2.8643\n",
      "  2.5797\n",
      " -2.7978\n",
      "  2.0972\n",
      " -3.1730\n",
      " -1.0451\n",
      " -2.8365\n",
      "  1.7301\n",
      " -1.0678\n",
      "  0.1211\n",
      " -2.9595\n",
      "  0.2584\n",
      "  0.2687\n",
      " -0.0868\n",
      "  0.8693\n",
      "  0.9234\n",
      "  0.7417\n",
      "  2.7946\n",
      "  1.0699\n",
      "  0.7712\n",
      "  2.9632\n",
      "  1.6546\n",
      " -0.9867\n",
      " -2.9461\n",
      "  1.5013\n",
      "  2.8096\n",
      " -1.3535\n",
      "  1.1829\n",
      " -2.3919\n",
      " -2.3608\n",
      " -1.9533\n",
      "  0.5047\n",
      " -2.9898\n",
      " -1.5835\n",
      " -2.3990\n",
      "  3.1382\n",
      "  0.4668\n",
      "  2.4740\n",
      "  2.6966\n",
      " -2.3366\n",
      "  2.7379\n",
      " -0.1005\n",
      "  1.0164\n",
      "  1.9561\n",
      "  1.1979\n",
      " -0.3816\n",
      " -0.3208\n",
      " -0.2792\n",
      " -2.0026\n",
      " -1.2399\n",
      " -0.5525\n",
      "  1.4066\n",
      " -1.8387\n",
      "  2.3203\n",
      "  0.3961\n",
      "  0.9032\n",
      "  2.4481\n",
      " -2.5430\n",
      "  3.2866\n",
      "  0.7948\n",
      " -1.8859\n",
      " -1.7984\n",
      "  1.4819\n",
      " -0.3814\n",
      " -0.0607\n",
      " -0.3220\n",
      " -2.8219\n",
      "  2.7887\n",
      " -1.5418\n",
      " -1.9217\n",
      "  0.1364\n",
      "  0.5870\n",
      "  0.0171\n",
      "  0.0668\n",
      "  0.7411\n",
      " -2.5831\n",
      " -0.6806\n",
      " -1.6146\n",
      "  0.4222\n",
      "  1.4198\n",
      "  3.3351\n",
      " -2.2779\n",
      "  0.4887\n",
      " -0.6959\n",
      " -2.7090\n",
      " -0.5384\n",
      "  1.6887\n",
      " -2.0193\n",
      "  3.2457\n",
      "  2.4657\n",
      "  0.4024\n",
      "  2.4878\n",
      "  2.8173\n",
      "  3.0435\n",
      "  2.6709\n",
      " -2.2505\n",
      "  1.6901\n",
      "  1.8104\n",
      "  2.4696\n",
      " -0.1663\n",
      " -1.5595\n",
      " -2.3649\n",
      "  1.8605\n",
      "  2.3884\n",
      " -0.7414\n",
      "  1.8583\n",
      " -1.5724\n",
      "  1.7704\n",
      " -3.1824\n",
      "  2.6346\n",
      "  3.3309\n",
      " -1.6421\n",
      "  2.0250\n",
      "[torch.FloatTensor of size 200]\n",
      "\n"
     ]
    }
   ],
   "source": [
    "print(net.fc1.weight)\n",
    "print(net.fc1.bias)"
   ]
  },
  {
   "cell_type": "markdown",
   "metadata": {},
   "source": [
    "For custom initialization, we want to modify these tensors in place. These are actually autograd *Variables*, so we need to get back the actual tensors with `net.fc1.weight.data`. Once we have the tensors, we can fill them with zeros (for biases) or random normal values."
   ]
  },
  {
   "cell_type": "code",
   "execution_count": 47,
   "metadata": {
    "scrolled": true
   },
   "outputs": [
    {
     "data": {
      "text/plain": [
       "\n",
       " 0\n",
       " 0\n",
       " 0\n",
       " 0\n",
       " 0\n",
       " 0\n",
       " 0\n",
       " 0\n",
       " 0\n",
       " 0\n",
       " 0\n",
       " 0\n",
       " 0\n",
       " 0\n",
       " 0\n",
       " 0\n",
       " 0\n",
       " 0\n",
       " 0\n",
       " 0\n",
       " 0\n",
       " 0\n",
       " 0\n",
       " 0\n",
       " 0\n",
       " 0\n",
       " 0\n",
       " 0\n",
       " 0\n",
       " 0\n",
       " 0\n",
       " 0\n",
       " 0\n",
       " 0\n",
       " 0\n",
       " 0\n",
       " 0\n",
       " 0\n",
       " 0\n",
       " 0\n",
       " 0\n",
       " 0\n",
       " 0\n",
       " 0\n",
       " 0\n",
       " 0\n",
       " 0\n",
       " 0\n",
       " 0\n",
       " 0\n",
       " 0\n",
       " 0\n",
       " 0\n",
       " 0\n",
       " 0\n",
       " 0\n",
       " 0\n",
       " 0\n",
       " 0\n",
       " 0\n",
       " 0\n",
       " 0\n",
       " 0\n",
       " 0\n",
       " 0\n",
       " 0\n",
       " 0\n",
       " 0\n",
       " 0\n",
       " 0\n",
       " 0\n",
       " 0\n",
       " 0\n",
       " 0\n",
       " 0\n",
       " 0\n",
       " 0\n",
       " 0\n",
       " 0\n",
       " 0\n",
       " 0\n",
       " 0\n",
       " 0\n",
       " 0\n",
       " 0\n",
       " 0\n",
       " 0\n",
       " 0\n",
       " 0\n",
       " 0\n",
       " 0\n",
       " 0\n",
       " 0\n",
       " 0\n",
       " 0\n",
       " 0\n",
       " 0\n",
       " 0\n",
       " 0\n",
       " 0\n",
       " 0\n",
       " 0\n",
       " 0\n",
       " 0\n",
       " 0\n",
       " 0\n",
       " 0\n",
       " 0\n",
       " 0\n",
       " 0\n",
       " 0\n",
       " 0\n",
       " 0\n",
       " 0\n",
       " 0\n",
       " 0\n",
       " 0\n",
       " 0\n",
       " 0\n",
       " 0\n",
       " 0\n",
       " 0\n",
       " 0\n",
       " 0\n",
       " 0\n",
       " 0\n",
       " 0\n",
       " 0\n",
       " 0\n",
       " 0\n",
       " 0\n",
       " 0\n",
       " 0\n",
       " 0\n",
       " 0\n",
       " 0\n",
       " 0\n",
       " 0\n",
       " 0\n",
       " 0\n",
       " 0\n",
       " 0\n",
       " 0\n",
       " 0\n",
       " 0\n",
       " 0\n",
       " 0\n",
       " 0\n",
       " 0\n",
       " 0\n",
       " 0\n",
       " 0\n",
       " 0\n",
       " 0\n",
       " 0\n",
       " 0\n",
       " 0\n",
       " 0\n",
       " 0\n",
       " 0\n",
       " 0\n",
       " 0\n",
       " 0\n",
       " 0\n",
       " 0\n",
       " 0\n",
       " 0\n",
       " 0\n",
       " 0\n",
       " 0\n",
       " 0\n",
       " 0\n",
       " 0\n",
       " 0\n",
       " 0\n",
       " 0\n",
       " 0\n",
       " 0\n",
       " 0\n",
       " 0\n",
       " 0\n",
       " 0\n",
       " 0\n",
       " 0\n",
       " 0\n",
       " 0\n",
       " 0\n",
       " 0\n",
       " 0\n",
       " 0\n",
       " 0\n",
       " 0\n",
       " 0\n",
       " 0\n",
       " 0\n",
       " 0\n",
       " 0\n",
       " 0\n",
       " 0\n",
       " 0\n",
       "[torch.FloatTensor of size 200]"
      ]
     },
     "execution_count": 47,
     "metadata": {},
     "output_type": "execute_result"
    }
   ],
   "source": [
    "# Set biases to all zeros\n",
    "net.fc1.bias.data.fill_(0)"
   ]
  },
  {
   "cell_type": "code",
   "execution_count": 48,
   "metadata": {},
   "outputs": [
    {
     "data": {
      "text/plain": [
       "\n",
       " 3.1695e-03  1.2845e-03  3.0442e-02  ...  -3.9486e-03  1.5851e-03 -1.4823e-02\n",
       " 3.5068e-04 -1.3633e-02 -2.1187e-03  ...  -1.6964e-02  1.6373e-03  1.7396e-02\n",
       "-1.8313e-03 -2.7785e-02 -1.7641e-03  ...   3.4854e-03  4.5554e-03 -6.1380e-03\n",
       "                ...                   ⋱                   ...                \n",
       " 2.8676e-03 -2.4962e-04 -1.3215e-03  ...   7.3096e-03  1.3483e-02  7.8936e-03\n",
       "-4.3441e-03 -8.0730e-05  6.0334e-03  ...  -2.0728e-03  2.2293e-03  1.0356e-02\n",
       " 9.6312e-03 -8.2562e-04 -8.9345e-03  ...   7.5561e-03 -4.8055e-03  1.4761e-02\n",
       "[torch.FloatTensor of size 200x784]"
      ]
     },
     "execution_count": 48,
     "metadata": {},
     "output_type": "execute_result"
    }
   ],
   "source": [
    "# sample from random normal with standard dev = 0.01\n",
    "net.fc1.weight.data.normal_(std=0.01)"
   ]
  },
  {
   "cell_type": "markdown",
   "metadata": {},
   "source": [
    "## Training the network!\n",
    "\n",
    "The first thing we need to do for training is define our loss function. In PyTorch, you'll usually see this as `criterion`. Here we're using softmax output, so we want to use `criterion = nn.CrossEntropyLoss()` as our loss. Later when training, you use `loss = criterion(output, targets)` to calculate the actual loss.\n",
    "\n",
    "We also need to define the optimizer we're using, SGD or Adam, or something along those lines. Here I'll just use SGD with `torch.optim.SGD`, passing in the network parameters and the learning rate."
   ]
  },
  {
   "cell_type": "code",
   "execution_count": 49,
   "metadata": {
    "collapsed": true
   },
   "outputs": [],
   "source": [
    "criterion = nn.CrossEntropyLoss()\n",
    "optimizer = optim.SGD(net.parameters(), lr=0.01)"
   ]
  },
  {
   "cell_type": "markdown",
   "metadata": {},
   "source": [
    "First, let's consider just one learning step before looping through all the data. The general process with PyTorch:\n",
    "\n",
    "* Make a forward pass through the network to get the logits \n",
    "* Use the logits to calculate the loss\n",
    "* Perform a backward pass through the network with `loss.backward()` to calculate the gradients\n",
    "* Take a step with the optimizer to update the weights\n",
    "\n",
    "Below I'll go through one training step and print out the weights and gradients so you can see how it changes."
   ]
  },
  {
   "cell_type": "code",
   "execution_count": 50,
   "metadata": {},
   "outputs": [
    {
     "name": "stdout",
     "output_type": "stream",
     "text": [
      "Initial weights -  Parameter containing:\n",
      " 3.1695e-03  1.2845e-03  3.0442e-02  ...  -3.9486e-03  1.5851e-03 -1.4823e-02\n",
      " 3.5068e-04 -1.3633e-02 -2.1187e-03  ...  -1.6964e-02  1.6373e-03  1.7396e-02\n",
      "-1.8313e-03 -2.7785e-02 -1.7641e-03  ...   3.4854e-03  4.5554e-03 -6.1380e-03\n",
      "                ...                   ⋱                   ...                \n",
      " 2.8676e-03 -2.4962e-04 -1.3215e-03  ...   7.3096e-03  1.3483e-02  7.8936e-03\n",
      "-4.3441e-03 -8.0730e-05  6.0334e-03  ...  -2.0728e-03  2.2293e-03  1.0356e-02\n",
      " 9.6312e-03 -8.2562e-04 -8.9345e-03  ...   7.5561e-03 -4.8055e-03  1.4761e-02\n",
      "[torch.FloatTensor of size 200x784]\n",
      "\n",
      "Gradient - Variable containing:\n",
      "1.00000e-03 *\n",
      "-1.0263 -1.0263 -1.0263  ...  -1.0263 -1.0263 -1.0263\n",
      " 1.4308  1.4308  1.4308  ...   1.4308  1.4308  1.4308\n",
      "-1.7295 -1.7295 -1.7295  ...  -1.7295 -1.7295 -1.7295\n",
      "          ...             ⋱             ...          \n",
      "-1.4472 -1.4472 -1.4472  ...  -1.4472 -1.4472 -1.4472\n",
      "-0.1837 -0.1837 -0.1837  ...  -0.1837 -0.1837 -0.1837\n",
      "-0.2648 -0.2648 -0.2648  ...  -0.2648 -0.2648 -0.2648\n",
      "[torch.FloatTensor of size 200x784]\n",
      "\n"
     ]
    }
   ],
   "source": [
    "print('Initial weights - ', net.fc1.weight)\n",
    "\n",
    "dataiter = iter(trainloader)\n",
    "images, labels = dataiter.next()\n",
    "\n",
    "images.resize_(64, 784)\n",
    "\n",
    "# Create Variables for the inputs and targets\n",
    "inputs = Variable(images)\n",
    "targets = Variable(labels)\n",
    "\n",
    "# Clear the gradients from all Variables\n",
    "optimizer.zero_grad()\n",
    "\n",
    "# Forward pass, then backward pass, then update weights\n",
    "output = net.forward(inputs)\n",
    "loss = criterion(output, targets)\n",
    "loss.backward()\n",
    "print('Gradient -', net.fc1.weight.grad)\n",
    "optimizer.step()"
   ]
  },
  {
   "cell_type": "code",
   "execution_count": 51,
   "metadata": {},
   "outputs": [
    {
     "name": "stdout",
     "output_type": "stream",
     "text": [
      "Updated weights -  Parameter containing:\n",
      " 3.1798e-03  1.2948e-03  3.0452e-02  ...  -3.9383e-03  1.5954e-03 -1.4812e-02\n",
      " 3.3637e-04 -1.3647e-02 -2.1330e-03  ...  -1.6978e-02  1.6230e-03  1.7382e-02\n",
      "-1.8140e-03 -2.7767e-02 -1.7468e-03  ...   3.5026e-03  4.5727e-03 -6.1207e-03\n",
      "                ...                   ⋱                   ...                \n",
      " 2.8821e-03 -2.3515e-04 -1.3071e-03  ...   7.3241e-03  1.3498e-02  7.9081e-03\n",
      "-4.3423e-03 -7.8893e-05  6.0353e-03  ...  -2.0710e-03  2.2312e-03  1.0358e-02\n",
      " 9.6338e-03 -8.2297e-04 -8.9319e-03  ...   7.5588e-03 -4.8029e-03  1.4764e-02\n",
      "[torch.FloatTensor of size 200x784]\n",
      "\n"
     ]
    }
   ],
   "source": [
    "print('Updated weights - ', net.fc1.weight)"
   ]
  },
  {
   "cell_type": "markdown",
   "metadata": {},
   "source": [
    "### Training for real\n",
    "\n",
    "Now we'll put this algorithm into a loop so we can go through all the images. This is fairly straightforward. We'll loop through the mini-batches in our dataset, pass the data through the network to calculate the losses, get the gradients, then run the optimizer"
   ]
  },
  {
   "cell_type": "code",
   "execution_count": 52,
   "metadata": {
    "collapsed": true
   },
   "outputs": [],
   "source": [
    "net = Network()\n",
    "optimizer = optim.Adam(net.parameters(), lr=0.001)"
   ]
  },
  {
   "cell_type": "code",
   "execution_count": 53,
   "metadata": {},
   "outputs": [
    {
     "name": "stdout",
     "output_type": "stream",
     "text": [
      "Epoch: 1/1 Loss: 2.1913 Test accuracy: 0.3114\n",
      "Epoch: 1/1 Loss: 1.8000 Test accuracy: 0.5760\n",
      "Epoch: 1/1 Loss: 1.3524 Test accuracy: 0.7392\n",
      "Epoch: 1/1 Loss: 1.0660 Test accuracy: 0.7426\n",
      "Epoch: 1/1 Loss: 0.8039 Test accuracy: 0.7645\n",
      "Epoch: 1/1 Loss: 0.8032 Test accuracy: 0.8324\n",
      "Epoch: 1/1 Loss: 0.6363 Test accuracy: 0.8395\n",
      "Epoch: 1/1 Loss: 0.5773 Test accuracy: 0.8551\n",
      "Epoch: 1/1 Loss: 0.5506 Test accuracy: 0.8466\n",
      "Epoch: 1/1 Loss: 0.4807 Test accuracy: 0.8568\n",
      "Epoch: 1/1 Loss: 0.4500 Test accuracy: 0.8635\n",
      "Epoch: 1/1 Loss: 0.5211 Test accuracy: 0.8591\n",
      "Epoch: 1/1 Loss: 0.4892 Test accuracy: 0.8781\n",
      "Epoch: 1/1 Loss: 0.4343 Test accuracy: 0.8777\n",
      "Epoch: 1/1 Loss: 0.4462 Test accuracy: 0.8855\n",
      "Epoch: 1/1 Loss: 0.4058 Test accuracy: 0.8866\n",
      "Epoch: 1/1 Loss: 0.3406 Test accuracy: 0.8901\n",
      "Epoch: 1/1 Loss: 0.4090 Test accuracy: 0.8782\n",
      "Epoch: 1/1 Loss: 0.4288 Test accuracy: 0.8811\n",
      "Epoch: 1/1 Loss: 0.4045 Test accuracy: 0.8628\n",
      "Epoch: 1/1 Loss: 0.4435 Test accuracy: 0.8913\n",
      "Epoch: 1/1 Loss: 0.4232 Test accuracy: 0.8817\n",
      "Epoch: 1/1 Loss: 0.4033 Test accuracy: 0.8880\n",
      "Epoch: 1/1 Loss: 0.3968 Test accuracy: 0.8973\n",
      "Epoch: 1/1 Loss: 0.3799 Test accuracy: 0.8979\n",
      "Epoch: 1/1 Loss: 0.3659 Test accuracy: 0.8947\n",
      "Epoch: 1/1 Loss: 0.4057 Test accuracy: 0.8916\n",
      "Epoch: 1/1 Loss: 0.4492 Test accuracy: 0.8952\n",
      "Epoch: 1/1 Loss: 0.3817 Test accuracy: 0.8930\n",
      "Epoch: 1/1 Loss: 0.3616 Test accuracy: 0.9041\n",
      "Epoch: 1/1 Loss: 0.3254 Test accuracy: 0.9077\n",
      "Epoch: 1/1 Loss: 0.3499 Test accuracy: 0.8926\n",
      "Epoch: 1/1 Loss: 0.3705 Test accuracy: 0.8955\n",
      "Epoch: 1/1 Loss: 0.4104 Test accuracy: 0.8943\n",
      "Epoch: 1/1 Loss: 0.3544 Test accuracy: 0.8930\n",
      "Epoch: 1/1 Loss: 0.3156 Test accuracy: 0.9114\n",
      "Epoch: 1/1 Loss: 0.3223 Test accuracy: 0.9065\n",
      "Epoch: 1/1 Loss: 0.3730 Test accuracy: 0.9011\n",
      "Epoch: 1/1 Loss: 0.3589 Test accuracy: 0.9087\n",
      "Epoch: 1/1 Loss: 0.3245 Test accuracy: 0.9096\n",
      "Epoch: 1/1 Loss: 0.3239 Test accuracy: 0.9108\n",
      "Epoch: 1/1 Loss: 0.2750 Test accuracy: 0.9112\n",
      "Epoch: 1/1 Loss: 0.2540 Test accuracy: 0.9012\n",
      "Epoch: 1/1 Loss: 0.3976 Test accuracy: 0.8920\n",
      "Epoch: 1/1 Loss: 0.3410 Test accuracy: 0.9064\n",
      "Epoch: 1/1 Loss: 0.2884 Test accuracy: 0.9168\n",
      "Epoch: 1/1 Loss: 0.2614 Test accuracy: 0.9086\n",
      "Epoch: 1/1 Loss: 0.3570 Test accuracy: 0.9147\n",
      "Epoch: 1/1 Loss: 0.2895 Test accuracy: 0.9160\n",
      "Epoch: 1/1 Loss: 0.3253 Test accuracy: 0.9152\n",
      "Epoch: 1/1 Loss: 0.3076 Test accuracy: 0.9202\n",
      "Epoch: 1/1 Loss: 0.2694 Test accuracy: 0.9206\n",
      "Epoch: 1/1 Loss: 0.3145 Test accuracy: 0.9205\n",
      "Epoch: 1/1 Loss: 0.3212 Test accuracy: 0.9085\n",
      "Epoch: 1/1 Loss: 0.3444 Test accuracy: 0.9213\n",
      "Epoch: 1/1 Loss: 0.3077 Test accuracy: 0.9192\n",
      "Epoch: 1/1 Loss: 0.2625 Test accuracy: 0.9183\n",
      "Epoch: 1/1 Loss: 0.2819 Test accuracy: 0.9115\n",
      "Epoch: 1/1 Loss: 0.3302 Test accuracy: 0.9210\n",
      "Epoch: 1/1 Loss: 0.2437 Test accuracy: 0.9229\n",
      "Epoch: 1/1 Loss: 0.2175 Test accuracy: 0.9229\n",
      "Epoch: 1/1 Loss: 0.2598 Test accuracy: 0.9083\n",
      "Epoch: 1/1 Loss: 0.2287 Test accuracy: 0.9249\n",
      "Epoch: 1/1 Loss: 0.3165 Test accuracy: 0.9203\n",
      "Epoch: 1/1 Loss: 0.3085 Test accuracy: 0.9022\n",
      "Epoch: 1/1 Loss: 0.2958 Test accuracy: 0.9148\n",
      "Epoch: 1/1 Loss: 0.2523 Test accuracy: 0.9307\n",
      "Epoch: 1/1 Loss: 0.2615 Test accuracy: 0.9210\n",
      "Epoch: 1/1 Loss: 0.2895 Test accuracy: 0.9273\n",
      "Epoch: 1/1 Loss: 0.2537 Test accuracy: 0.9283\n",
      "Epoch: 1/1 Loss: 0.2528 Test accuracy: 0.9214\n",
      "Epoch: 1/1 Loss: 0.2780 Test accuracy: 0.9191\n",
      "Epoch: 1/1 Loss: 0.3126 Test accuracy: 0.9296\n",
      "Epoch: 1/1 Loss: 0.2763 Test accuracy: 0.9226\n",
      "Epoch: 1/1 Loss: 0.2345 Test accuracy: 0.9279\n",
      "Epoch: 1/1 Loss: 0.3161 Test accuracy: 0.9236\n",
      "Epoch: 1/1 Loss: 0.2792 Test accuracy: 0.9267\n",
      "Epoch: 1/1 Loss: 0.2779 Test accuracy: 0.9289\n",
      "Epoch: 1/1 Loss: 0.2548 Test accuracy: 0.9229\n",
      "Epoch: 1/1 Loss: 0.2594 Test accuracy: 0.9307\n",
      "Epoch: 1/1 Loss: 0.2572 Test accuracy: 0.9339\n",
      "Epoch: 1/1 Loss: 0.2698 Test accuracy: 0.9371\n",
      "Epoch: 1/1 Loss: 0.2675 Test accuracy: 0.9288\n",
      "Epoch: 1/1 Loss: 0.2631 Test accuracy: 0.9226\n",
      "Epoch: 1/1 Loss: 0.2463 Test accuracy: 0.9266\n",
      "Epoch: 1/1 Loss: 0.2368 Test accuracy: 0.9356\n",
      "Epoch: 1/1 Loss: 0.2425 Test accuracy: 0.9343\n",
      "Epoch: 1/1 Loss: 0.2049 Test accuracy: 0.9371\n",
      "Epoch: 1/1 Loss: 0.2229 Test accuracy: 0.9337\n",
      "Epoch: 1/1 Loss: 0.2539 Test accuracy: 0.9354\n",
      "Epoch: 1/1 Loss: 0.2939 Test accuracy: 0.9285\n",
      "Epoch: 1/1 Loss: 0.2802 Test accuracy: 0.9323\n",
      "Epoch: 1/1 Loss: 0.2379 Test accuracy: 0.9325\n"
     ]
    }
   ],
   "source": [
    "epochs = 1\n",
    "steps = 0\n",
    "running_loss = 0\n",
    "print_every = 10\n",
    "for e in range(epochs):\n",
    "    for images, labels in iter(trainloader):\n",
    "        steps += 1\n",
    "        # Flatten MNIST images into a 784 long vector\n",
    "        images.resize_(images.size()[0], 784)\n",
    "\n",
    "        inputs = Variable(images)\n",
    "        targets = Variable(labels)\n",
    "        optimizer.zero_grad()\n",
    "        \n",
    "        output = net.forward(inputs)\n",
    "        loss = criterion(output, targets)\n",
    "        loss.backward()\n",
    "        optimizer.step()\n",
    "        \n",
    "        running_loss += loss.data[0]\n",
    "        \n",
    "        if steps % print_every == 0:\n",
    "            # Test accuracy\n",
    "            accuracy = 0\n",
    "            for ii, (images, labels) in enumerate(testloader):\n",
    "                \n",
    "                images = images.resize_(images.size()[0], 784)\n",
    "                inputs = Variable(images, volatile=True)\n",
    "                \n",
    "                predicted = net.predict(inputs).data\n",
    "                equality = (labels == predicted.max(1)[1])\n",
    "                accuracy += equality.type_as(torch.FloatTensor()).mean()\n",
    "            \n",
    "            print(\"Epoch: {}/{}\".format(e+1, epochs),\n",
    "                  \"Loss: {:.4f}\".format(running_loss/print_every),\n",
    "                  \"Test accuracy: {:.4f}\".format(accuracy/(ii+1)))\n",
    "            running_loss = 0"
   ]
  },
  {
   "cell_type": "code",
   "execution_count": 56,
   "metadata": {
    "collapsed": true
   },
   "outputs": [],
   "source": [
    "dataiter = iter(testloader)\n",
    "images, labels = dataiter.next()"
   ]
  },
  {
   "cell_type": "code",
   "execution_count": 72,
   "metadata": {},
   "outputs": [
    {
     "data": {
      "image/png": "[encoded data removed]",
      "text/plain": [
       "<matplotlib.figure.Figure at 0x7f3b2b5d6518>"
      ]
     },
     "metadata": {
      "image/png": {
       "height": 197,
       "width": 370
      }
     },
     "output_type": "display_data"
    }
   ],
   "source": [
    "img = images[0]\n",
    "ps = net.predict(Variable(img.resize_(1, 784)))\n",
    "helper.view_classify(img.resize_(1, 28, 28), ps)"
   ]
  },
  {
   "cell_type": "markdown",
   "metadata": {},
   "source": [
    "## Convolutional Networks\n",
    "\n",
    "Next we'll check out how to build a convolutional network to classify MNIST images. It's pretty much the same as before, but we use `nn.Conv2d` for the convolutional layers and `nn.MaxPool2d` for the max-pooling layer. (Although max-pooling has fallen out of favor recently, but this is traditional so let's stick with it.)\n",
    "\n",
    "So here I'll build a convolutional network with two convolutional layers, with ReLU activations, and max-pooling after each. The first convolutional layer will have a depth of 10, use a 5x5 kernel, with a stride of 1 (so no downsampling). The second convolutional layer will have a depth of 20, use a 5x5 kernel, and a stride of 1 again. Both layers will have \"same\" padding, but it's done differently here than in TensorFlow. Instead of saying we want \"same\" padding and letting the framework pad the input tensors, we define how much padding we want on the tensors. The padding should be set to 2 then, since we are using 5x5 kernels and we want the center of the kernel to lie on the edges of the images. Then, there will be two pixels of the kernel falling over the edge of the images.\n",
    "\n",
    "We'll flatten the final convolutional layer and pass it to a fully connected layer. We can change the shape of the Variable `x` with `x.view`. This is then passed to the fully connected layer, which then goes to the output layer with 10 units."
   ]
  },
  {
   "cell_type": "code",
   "execution_count": 73,
   "metadata": {},
   "outputs": [],
   "source": [
    "class ConvNet(nn.Module):\n",
    "    def __init__(self, n_conv1=10, n_conv2=20):\n",
    "        super().__init__()\n",
    "        \n",
    "        self.n_conv1, self.n_conv2 = n_conv1, n_conv2\n",
    "        \n",
    "        # conv layer with depth n_conv1, 5x5 kernels, and \"same\" padding\n",
    "        self.conv1 = nn.Conv2d(1, n_conv1, 5, padding=2)\n",
    "        # conv layer with depth n_conv2, 5x5 kernels, and \"same\" padding\n",
    "        self.conv2 = nn.Conv2d(n_conv1, n_conv2, 5, padding=2)\n",
    "        self.pool = nn.MaxPool2d(2, 2)\n",
    "        \n",
    "        # The second convolutional layer will be 7x7x16, fc1 flattens it\n",
    "        self.fc1 = nn.Linear(n_conv2*7*7, 50)\n",
    "        self.fc2 = nn.Linear(50, 10)\n",
    "    \n",
    "    def forward(self, x):\n",
    "        # First conv layer, then ReLU, then max-pooling\n",
    "        x = F.relu(self.pool(self.conv1(x)))\n",
    "        # Second conv layer, then ReLU, then max-pooling\n",
    "        x = F.relu(self.pool(self.conv2(x)))\n",
    "        # Flatten conv layer by reshaping\n",
    "        x = x.view(-1, self.n_conv2*7*7)\n",
    "        # Fully connected layers\n",
    "        x = F.relu(self.fc1(x))\n",
    "        x = self.fc2(x)\n",
    "        #x = F.relu(self.fc3(x))\n",
    "        \n",
    "        return x\n",
    "    \n",
    "    def predict(self, x):\n",
    "        logits = self.forward(x)\n",
    "        return F.softmax(logits)"
   ]
  },
  {
   "cell_type": "markdown",
   "metadata": {},
   "source": [
    "The training code for this is basically the same, except we aren't reshaping the images. You're still running images through the network to calculate the loss, getting the gradients, then updating the parameters. The code below trains the network on your CPU, which takes a bit. Feel free to just run it for a bit, we'll get to using the GPU next."
   ]
  },
  {
   "cell_type": "code",
   "execution_count": 74,
   "metadata": {
    "collapsed": true
   },
   "outputs": [],
   "source": [
    "import time"
   ]
  },
  {
   "cell_type": "code",
   "execution_count": 40,
   "metadata": {},
   "outputs": [
    {
     "name": "stdout",
     "output_type": "stream",
     "text": [
      "Epoch: 1/1.. Loss: 2.1266.. Test accuracy: 0.5473.. 0.0572 s/batch\n",
      "Epoch: 1/1.. Loss: 1.2436.. Test accuracy: 0.7634.. 0.0484 s/batch\n",
      "Epoch: 1/1.. Loss: 0.6640.. Test accuracy: 0.8247.. 0.0500 s/batch\n",
      "Epoch: 1/1.. Loss: 0.4540.. Test accuracy: 0.8736.. 0.0409 s/batch\n",
      "Epoch: 1/1.. Loss: 0.3851.. Test accuracy: 0.9046.. 0.0462 s/batch\n",
      "Epoch: 1/1.. Loss: 0.3399.. Test accuracy: 0.9180.. 0.0547 s/batch\n",
      "Epoch: 1/1.. Loss: 0.2781.. Test accuracy: 0.9212.. 0.0596 s/batch\n",
      "Epoch: 1/1.. Loss: 0.2842.. Test accuracy: 0.9283.. 0.0413 s/batch\n",
      "Epoch: 1/1.. Loss: 0.2330.. Test accuracy: 0.9340.. 0.0491 s/batch\n",
      "Epoch: 1/1.. Loss: 0.2259.. Test accuracy: 0.9454.. 0.0490 s/batch\n",
      "Epoch: 1/1.. Loss: 0.1855.. Test accuracy: 0.9539.. 0.0583 s/batch\n",
      "Epoch: 1/1.. Loss: 0.1790.. Test accuracy: 0.9529.. 0.0353 s/batch\n",
      "Epoch: 1/1.. Loss: 0.1491.. Test accuracy: 0.9552.. 0.0542 s/batch\n",
      "Epoch: 1/1.. Loss: 0.1532.. Test accuracy: 0.9607.. 0.0860 s/batch\n",
      "Epoch: 1/1.. Loss: 0.1495.. Test accuracy: 0.9651.. 0.0450 s/batch\n",
      "Epoch: 1/1.. Loss: 0.1352.. Test accuracy: 0.9641.. 0.0551 s/batch\n",
      "Epoch: 1/1.. Loss: 0.1303.. Test accuracy: 0.9615.. 0.0368 s/batch\n",
      "Epoch: 1/1.. Loss: 0.1193.. Test accuracy: 0.9688.. 0.0359 s/batch\n",
      "Epoch: 1/1.. Loss: 0.1200.. Test accuracy: 0.9671.. 0.0406 s/batch\n",
      "Epoch: 1/1.. Loss: 0.1300.. Test accuracy: 0.9706.. 0.0546 s/batch\n",
      "Epoch: 1/1.. Loss: 0.1082.. Test accuracy: 0.9719.. 0.0453 s/batch\n",
      "Epoch: 1/1.. Loss: 0.1075.. Test accuracy: 0.9724.. 0.0454 s/batch\n",
      "Epoch: 1/1.. Loss: 0.1040.. Test accuracy: 0.9716.. 0.0575 s/batch\n"
     ]
    }
   ],
   "source": [
    "net = ConvNet()\n",
    "criterion = nn.CrossEntropyLoss()\n",
    "optimizer = optim.Adam(net.parameters(), lr=0.001)\n",
    "\n",
    "trainloader.batch_size = 128\n",
    "\n",
    "epochs = 1\n",
    "steps = 0\n",
    "running_loss = 0\n",
    "print_every = 20\n",
    "for e in range(epochs):\n",
    "    start = time.time()\n",
    "    for images, labels in iter(trainloader):\n",
    "        \n",
    "        steps += 1\n",
    "\n",
    "        inputs = Variable(images)\n",
    "        targets = Variable(labels)\n",
    "        optimizer.zero_grad()\n",
    "        \n",
    "        output = net.forward(inputs)\n",
    "        loss = criterion(output, targets)\n",
    "        loss.backward()\n",
    "        optimizer.step()\n",
    "        \n",
    "        running_loss += loss.data[0]\n",
    "        \n",
    "        if steps % print_every == 0:\n",
    "            stop = time.time()\n",
    "            # Test accuracy\n",
    "            accuracy = 0\n",
    "            for ii, (images, labels) in enumerate(testloader):\n",
    "                \n",
    "                #images = images.resize_(images.size()[0], 784)\n",
    "                inputs = Variable(images, volatile=True)\n",
    "                \n",
    "                predicted = net.predict(inputs).data\n",
    "                equality = (labels == predicted.max(1)[1])\n",
    "                accuracy += equality.type_as(torch.FloatTensor()).mean()\n",
    "            \n",
    "            print(\"Epoch: {}/{}..\".format(e+1, epochs),\n",
    "                  \"Loss: {:.4f}..\".format(running_loss/print_every),\n",
    "                  \"Test accuracy: {:.4f}..\".format(accuracy/(ii+1)),\n",
    "                  \"{:.4f} s/batch\".format((stop - start)/print_every)\n",
    "                 )\n",
    "            running_loss = 0\n",
    "            start = time.time()"
   ]
  },
  {
   "cell_type": "markdown",
   "metadata": {},
   "source": [
    "## Speeding things up\n",
    "\n",
    "We can greatly speed up our training by running the matrix operations on a GPU with CUDA. In PyTorch, we do this by sending the tensors to the GPU. First, you set the network to use the GPU with `net.cuda()`. Then, the input and target tensors are sent to the GPU, typically with some flag\n",
    "\n",
    "```\n",
    "if cuda == True:\n",
    "    inputs, targets = inputs.cuda(), targets.cuda()\n",
    "```\n",
    "\n",
    "And that's it. The output of the network will again be a tensor on the GPU, so to get it back to the CPU for further operations (such as with Numpy), you use `output = output.cpu()`. Similarly, to set the network back to running on the CPU, use `net.cpu()`."
   ]
  },
  {
   "cell_type": "code",
   "execution_count": 75,
   "metadata": {},
   "outputs": [
    {
     "name": "stdout",
     "output_type": "stream",
     "text": [
      "Epoch: 1/5.. Loss: 1.2978.. Test accuracy: 0.8406.. 0.0205 s/batch\n",
      "Epoch: 1/5.. Loss: 0.3526.. Test accuracy: 0.9323.. 0.0111 s/batch\n",
      "Epoch: 1/5.. Loss: 0.2165.. Test accuracy: 0.9529.. 0.0111 s/batch\n",
      "Epoch: 1/5.. Loss: 0.1701.. Test accuracy: 0.9567.. 0.0111 s/batch\n",
      "Epoch: 1/5.. Loss: 0.1360.. Test accuracy: 0.9645.. 0.0111 s/batch\n",
      "Epoch: 1/5.. Loss: 0.1349.. Test accuracy: 0.9687.. 0.0111 s/batch\n",
      "Epoch: 1/5.. Loss: 0.1223.. Test accuracy: 0.9700.. 0.0111 s/batch\n",
      "Epoch: 1/5.. Loss: 0.1000.. Test accuracy: 0.9682.. 0.0111 s/batch\n",
      "Epoch: 1/5.. Loss: 0.1094.. Test accuracy: 0.9730.. 0.0111 s/batch\n",
      "Epoch: 2/5.. Loss: 0.1007.. Test accuracy: 0.9768.. 0.0069 s/batch\n",
      "Epoch: 2/5.. Loss: 0.0875.. Test accuracy: 0.9767.. 0.0111 s/batch\n",
      "Epoch: 2/5.. Loss: 0.0810.. Test accuracy: 0.9784.. 0.0111 s/batch\n",
      "Epoch: 2/5.. Loss: 0.0853.. Test accuracy: 0.9785.. 0.0111 s/batch\n",
      "Epoch: 2/5.. Loss: 0.0775.. Test accuracy: 0.9802.. 0.0111 s/batch\n",
      "Epoch: 2/5.. Loss: 0.0679.. Test accuracy: 0.9821.. 0.0111 s/batch\n",
      "Epoch: 2/5.. Loss: 0.0625.. Test accuracy: 0.9813.. 0.0111 s/batch\n",
      "Epoch: 2/5.. Loss: 0.0688.. Test accuracy: 0.9834.. 0.0111 s/batch\n",
      "Epoch: 2/5.. Loss: 0.0642.. Test accuracy: 0.9832.. 0.0111 s/batch\n",
      "Epoch: 3/5.. Loss: 0.0708.. Test accuracy: 0.9824.. 0.0027 s/batch\n",
      "Epoch: 3/5.. Loss: 0.0493.. Test accuracy: 0.9849.. 0.0111 s/batch\n",
      "Epoch: 3/5.. Loss: 0.0746.. Test accuracy: 0.9826.. 0.0111 s/batch\n",
      "Epoch: 3/5.. Loss: 0.0549.. Test accuracy: 0.9864.. 0.0111 s/batch\n",
      "Epoch: 3/5.. Loss: 0.0518.. Test accuracy: 0.9834.. 0.0111 s/batch\n",
      "Epoch: 3/5.. Loss: 0.0481.. Test accuracy: 0.9850.. 0.0111 s/batch\n",
      "Epoch: 3/5.. Loss: 0.0569.. Test accuracy: 0.9862.. 0.0111 s/batch\n",
      "Epoch: 3/5.. Loss: 0.0531.. Test accuracy: 0.9827.. 0.0111 s/batch\n",
      "Epoch: 3/5.. Loss: 0.0462.. Test accuracy: 0.9829.. 0.0111 s/batch\n",
      "Epoch: 3/5.. Loss: 0.0460.. Test accuracy: 0.9868.. 0.0111 s/batch\n",
      "Epoch: 4/5.. Loss: 0.0434.. Test accuracy: 0.9872.. 0.0095 s/batch\n",
      "Epoch: 4/5.. Loss: 0.0415.. Test accuracy: 0.9866.. 0.0110 s/batch\n",
      "Epoch: 4/5.. Loss: 0.0487.. Test accuracy: 0.9871.. 0.0110 s/batch\n",
      "Epoch: 4/5.. Loss: 0.0367.. Test accuracy: 0.9880.. 0.0110 s/batch\n",
      "Epoch: 4/5.. Loss: 0.0418.. Test accuracy: 0.9884.. 0.0110 s/batch\n",
      "Epoch: 4/5.. Loss: 0.0490.. Test accuracy: 0.9854.. 0.0111 s/batch\n",
      "Epoch: 4/5.. Loss: 0.0349.. Test accuracy: 0.9893.. 0.0111 s/batch\n",
      "Epoch: 4/5.. Loss: 0.0403.. Test accuracy: 0.9874.. 0.0111 s/batch\n",
      "Epoch: 4/5.. Loss: 0.0387.. Test accuracy: 0.9898.. 0.0111 s/batch\n",
      "Epoch: 5/5.. Loss: 0.0326.. Test accuracy: 0.9885.. 0.0053 s/batch\n",
      "Epoch: 5/5.. Loss: 0.0326.. Test accuracy: 0.9866.. 0.0111 s/batch\n",
      "Epoch: 5/5.. Loss: 0.0347.. Test accuracy: 0.9875.. 0.0110 s/batch\n",
      "Epoch: 5/5.. Loss: 0.0306.. Test accuracy: 0.9886.. 0.0110 s/batch\n",
      "Epoch: 5/5.. Loss: 0.0366.. Test accuracy: 0.9888.. 0.0110 s/batch\n",
      "Epoch: 5/5.. Loss: 0.0326.. Test accuracy: 0.9897.. 0.0111 s/batch\n",
      "Epoch: 5/5.. Loss: 0.0328.. Test accuracy: 0.9898.. 0.0111 s/batch\n",
      "Epoch: 5/5.. Loss: 0.0350.. Test accuracy: 0.9872.. 0.0111 s/batch\n",
      "Epoch: 5/5.. Loss: 0.0355.. Test accuracy: 0.9879.. 0.0111 s/batch\n"
     ]
    }
   ],
   "source": [
    "net = ConvNet()\n",
    "criterion = nn.CrossEntropyLoss()\n",
    "optimizer = optim.Adam(net.parameters(), lr=0.001)\n",
    "\n",
    "net.cuda()\n",
    "\n",
    "trainloader.batch_size = 128\n",
    "epochs = 5\n",
    "steps = 0\n",
    "running_loss = 0\n",
    "print_every = 50\n",
    "for e in range(epochs):\n",
    "    start = time.time()\n",
    "    for images, labels in iter(trainloader):\n",
    "        \n",
    "        steps += 1\n",
    "\n",
    "        inputs = Variable(images)\n",
    "        targets = Variable(labels)\n",
    "        \n",
    "        inputs, targets = inputs.cuda(), targets.cuda()\n",
    "        \n",
    "        optimizer.zero_grad()\n",
    "        \n",
    "        output = net.forward(inputs)\n",
    "        loss = criterion(output, targets)\n",
    "        loss.backward()\n",
    "        optimizer.step()\n",
    "        \n",
    "        running_loss += loss.data[0]\n",
    "        \n",
    "        if steps % print_every == 0:\n",
    "            stop = time.time()\n",
    "            # Test accuracy\n",
    "            accuracy = 0\n",
    "            for ii, (images, labels) in enumerate(testloader):\n",
    "                \n",
    "                inputs = Variable(images, volatile=True)\n",
    "                inputs = inputs.cuda()\n",
    "                \n",
    "                # Get the class prediction and bring it back to the CPU\n",
    "                predicted = net.predict(inputs).data.cpu()\n",
    "                equality = (labels == predicted.max(1)[1])\n",
    "                accuracy += equality.type_as(torch.FloatTensor()).mean()\n",
    "            \n",
    "            print(\"Epoch: {}/{}..\".format(e+1, epochs),\n",
    "                  \"Loss: {:.4f}..\".format(running_loss/print_every),\n",
    "                  \"Test accuracy: {:.4f}..\".format(accuracy/(ii+1)),\n",
    "                  \"{:.4f} s/batch\".format((stop - start)/print_every)\n",
    "                 )\n",
    "            running_loss = 0\n",
    "            start = time.time()"
   ]
  },
  {
   "cell_type": "markdown",
   "metadata": {},
   "source": [
    "## Saving and loading models\n",
    "\n",
    "Now that we know how to build and train models, we actually need to be able to use these things after training. The general way to do this is building a dictionary with hyperparameters such as sizes of the convolutional layers and such. The parameters and other information needed to rebuild the model are stored in `net.state_dict()`. Then you build a dictionary that looks something like\n",
    "\n",
    "```python\n",
    "checkpoint = {'n_conv1': 10,\n",
    "              'n_conv2': 20,\n",
    "              'state_dict': model.state_dict()}\n",
    "```\n",
    "\n",
    "You save this check point to a file with `torch.save(checkpoint, file_object)`.\n",
    "\n",
    "Then, to load a checkpoint, use `torch.load`. This loads the whole dictionary so you have the hyperparameters to rebuild the network as well as `state_dict` which contains the values for weights and such."
   ]
  },
  {
   "cell_type": "code",
   "execution_count": 76,
   "metadata": {
    "collapsed": true
   },
   "outputs": [],
   "source": [
    "## Save the model\n",
    "filename = 'mnist1.ckpt'\n",
    "checkpoint = {'n_conv1': net.n_conv1,\n",
    "              'n_conv2': net.n_conv2,\n",
    "              'state_dict': net.state_dict()}\n",
    "with open(filename, 'wb') as f:\n",
    "    torch.save(checkpoint, f)"
   ]
  },
  {
   "cell_type": "code",
   "execution_count": 77,
   "metadata": {},
   "outputs": [],
   "source": [
    "## Load the model\n",
    "filename = 'mnist1.ckpt'\n",
    "with open(filename, 'rb') as f:\n",
    "        checkpoint = torch.load(f)\n",
    "\n",
    "model = ConvNet(n_conv1=checkpoint['n_conv1'],\n",
    "                n_conv2=checkpoint['n_conv2'])\n",
    "model.load_state_dict(checkpoint['state_dict'])"
   ]
  },
  {
   "cell_type": "code",
   "execution_count": 78,
   "metadata": {},
   "outputs": [],
   "source": [
    "dataiter = iter(testloader)"
   ]
  },
  {
   "cell_type": "code",
   "execution_count": 85,
   "metadata": {},
   "outputs": [
    {
     "data": {
      "image/png": "[encoded data removed]",
      "text/plain": [
       "<matplotlib.figure.Figure at 0x7f3b29e5f860>"
      ]
     },
     "metadata": {
      "image/png": {
       "height": 197,
       "width": 370
      }
     },
     "output_type": "display_data"
    }
   ],
   "source": [
    "images, labels = dataiter.next()\n",
    "img = images[0]\n",
    "ps = model.predict(Variable(img.resize_(1, *img.size())))\n",
    "helper.view_classify(img, ps)"
   ]
  }
 ],
 "metadata": {
  "kernelspec": {
   "display_name": "Python 3",
   "language": "python",
   "name": "python3"
  },
  "language_info": {
   "codemirror_mode": {
    "name": "ipython",
    "version": 3
   },
   "file_extension": ".py",
   "mimetype": "text/x-python",
   "name": "python",
   "nbconvert_exporter": "python",
   "pygments_lexer": "ipython3",
   "version": "3.6.1"
  }
 },
 "nbformat": 4,
 "nbformat_minor": 2
}
