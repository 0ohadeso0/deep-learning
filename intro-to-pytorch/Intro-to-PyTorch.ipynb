{
 "cells": [
  {
   "cell_type": "markdown",
   "metadata": {},
   "source": [
    "# Introduction to PyTorch\n",
    "\n",
    "In this notebook, you'll get introduced to PyTorch, a framework for building and training neural networks. PyTorch in a lot of ways behaves like the arrays you love from Numpy. These Numpy arrays, after all, are just tensors. PyTorch takes these tensors and makes it simple to move them to GPUs for the faster processing needed when training neural networks. It also provides a module that automatically calculates gradients (for backpropagation!) and another module specifically for building neural networks. All together, PyTorch ends up being more coherent with Python and the Numpy/Scipy stack, compared to TensorFlow and other frameworks.\n",
    "\n",
    "Here I'll show you how to train a fully connected network and a convolutional network on MNIST. Along the way, you'll learn how to work with tensors in PyTorch and how to calculate gradients. First off, import some modules."
   ]
  },
  {
   "cell_type": "code",
   "execution_count": 1,
   "metadata": {
    "collapsed": true
   },
   "outputs": [],
   "source": [
    "%matplotlib inline\n",
    "%config InlineBackend.figure_format = 'retina'\n",
    "\n",
    "import numpy as np\n",
    "\n",
    "import torch"
   ]
  },
  {
   "cell_type": "markdown",
   "metadata": {},
   "source": [
    "First, let's see how we work with PyTorch tensors."
   ]
  },
  {
   "cell_type": "code",
   "execution_count": 2,
   "metadata": {},
   "outputs": [
    {
     "data": {
      "text/plain": [
       "\n",
       " 0.0621  0.9923\n",
       " 0.7140  0.5864\n",
       " 0.7232  0.0876\n",
       "[torch.FloatTensor of size 3x2]"
      ]
     },
     "execution_count": 2,
     "metadata": {},
     "output_type": "execute_result"
    }
   ],
   "source": [
    "x = torch.rand(3, 2)\n",
    "x"
   ]
  },
  {
   "cell_type": "code",
   "execution_count": 3,
   "metadata": {},
   "outputs": [
    {
     "data": {
      "text/plain": [
       "\n",
       " 1  1\n",
       " 1  1\n",
       " 1  1\n",
       "[torch.FloatTensor of size 3x2]"
      ]
     },
     "execution_count": 3,
     "metadata": {},
     "output_type": "execute_result"
    }
   ],
   "source": [
    "y = torch.ones(x.size())\n",
    "y"
   ]
  },
  {
   "cell_type": "code",
   "execution_count": 4,
   "metadata": {},
   "outputs": [
    {
     "data": {
      "text/plain": [
       "\n",
       " 1.0621  1.9923\n",
       " 1.7140  1.5864\n",
       " 1.7232  1.0876\n",
       "[torch.FloatTensor of size 3x2]"
      ]
     },
     "execution_count": 4,
     "metadata": {},
     "output_type": "execute_result"
    }
   ],
   "source": [
    "z = x + y\n",
    "z"
   ]
  },
  {
   "cell_type": "markdown",
   "metadata": {},
   "source": [
    "In general PyTorch tensors behave similar to Numpy arrays. They are zero indexed and support slicing."
   ]
  },
  {
   "cell_type": "code",
   "execution_count": 5,
   "metadata": {},
   "outputs": [
    {
     "data": {
      "text/plain": [
       "\n",
       " 1.0621\n",
       " 1.9923\n",
       "[torch.FloatTensor of size 2]"
      ]
     },
     "execution_count": 5,
     "metadata": {},
     "output_type": "execute_result"
    }
   ],
   "source": [
    "z[0]"
   ]
  },
  {
   "cell_type": "code",
   "execution_count": 6,
   "metadata": {},
   "outputs": [
    {
     "data": {
      "text/plain": [
       "\n",
       " 1.9923\n",
       " 1.5864\n",
       " 1.0876\n",
       "[torch.FloatTensor of size 3x1]"
      ]
     },
     "execution_count": 6,
     "metadata": {},
     "output_type": "execute_result"
    }
   ],
   "source": [
    "z[:, 1:]"
   ]
  },
  {
   "cell_type": "markdown",
   "metadata": {},
   "source": [
    "Tensors typically have two forms of methods, one method that returns another tensor and another method that performs the operation in place. That is, the values in memory for that tensor are changed without creating a new tensor. In-place functions are always followed by an underscore, for example `z.add()` and `z.add_()`."
   ]
  },
  {
   "cell_type": "code",
   "execution_count": 7,
   "metadata": {},
   "outputs": [
    {
     "data": {
      "text/plain": [
       "\n",
       " 2.0621  2.9923\n",
       " 2.7140  2.5864\n",
       " 2.7232  2.0876\n",
       "[torch.FloatTensor of size 3x2]"
      ]
     },
     "execution_count": 7,
     "metadata": {},
     "output_type": "execute_result"
    }
   ],
   "source": [
    "# Return a new tensor with the cosines of z\n",
    "z.add(1)"
   ]
  },
  {
   "cell_type": "code",
   "execution_count": 8,
   "metadata": {},
   "outputs": [
    {
     "data": {
      "text/plain": [
       "\n",
       " 1.0621  1.9923\n",
       " 1.7140  1.5864\n",
       " 1.7232  1.0876\n",
       "[torch.FloatTensor of size 3x2]"
      ]
     },
     "execution_count": 8,
     "metadata": {},
     "output_type": "execute_result"
    }
   ],
   "source": [
    "# z tensor is unchanged\n",
    "z"
   ]
  },
  {
   "cell_type": "code",
   "execution_count": 9,
   "metadata": {},
   "outputs": [
    {
     "data": {
      "text/plain": [
       "\n",
       " 2.0621  2.9923\n",
       " 2.7140  2.5864\n",
       " 2.7232  2.0876\n",
       "[torch.FloatTensor of size 3x2]"
      ]
     },
     "execution_count": 9,
     "metadata": {},
     "output_type": "execute_result"
    }
   ],
   "source": [
    "# Calculate cosines and update z tensor in-place\n",
    "z.add_(1)"
   ]
  },
  {
   "cell_type": "code",
   "execution_count": 10,
   "metadata": {},
   "outputs": [
    {
     "data": {
      "text/plain": [
       "\n",
       " 2.0621  2.9923\n",
       " 2.7140  2.5864\n",
       " 2.7232  2.0876\n",
       "[torch.FloatTensor of size 3x2]"
      ]
     },
     "execution_count": 10,
     "metadata": {},
     "output_type": "execute_result"
    }
   ],
   "source": [
    "# z has been updated\n",
    "z"
   ]
  },
  {
   "cell_type": "markdown",
   "metadata": {},
   "source": [
    "### Reshaping\n",
    "\n",
    "Reshaping tensors is a really common operation. First to get the size and shape of tensor use `.size()`. Then, to reshape a tensor, use `.resize_()`. Notice the underscore, reshaping is an in-place operation."
   ]
  },
  {
   "cell_type": "code",
   "execution_count": 11,
   "metadata": {},
   "outputs": [
    {
     "data": {
      "text/plain": [
       "torch.Size([3, 2])"
      ]
     },
     "execution_count": 11,
     "metadata": {},
     "output_type": "execute_result"
    }
   ],
   "source": [
    "z.size()"
   ]
  },
  {
   "cell_type": "code",
   "execution_count": 12,
   "metadata": {},
   "outputs": [
    {
     "data": {
      "text/plain": [
       "\n",
       " 2.0621  2.9923  2.7140\n",
       " 2.5864  2.7232  2.0876\n",
       "[torch.FloatTensor of size 2x3]"
      ]
     },
     "execution_count": 12,
     "metadata": {},
     "output_type": "execute_result"
    }
   ],
   "source": [
    "z.resize_(2, 3)"
   ]
  },
  {
   "cell_type": "code",
   "execution_count": 13,
   "metadata": {},
   "outputs": [
    {
     "data": {
      "text/plain": [
       "\n",
       " 2.0621  2.9923  2.7140\n",
       " 2.5864  2.7232  2.0876\n",
       "[torch.FloatTensor of size 2x3]"
      ]
     },
     "execution_count": 13,
     "metadata": {},
     "output_type": "execute_result"
    }
   ],
   "source": [
    "z"
   ]
  },
  {
   "cell_type": "markdown",
   "metadata": {},
   "source": [
    "## Numpy to Torch and back\n",
    "\n",
    "Converting between Numpy arrays and Torch tensors is super simple and useful. To create a tensor from a Numpy array, use `torch.from_numpy()`. To convert a tensor to a Numpy array, use the `.numpy()` method."
   ]
  },
  {
   "cell_type": "code",
   "execution_count": 14,
   "metadata": {},
   "outputs": [
    {
     "data": {
      "text/plain": [
       "array([[ 0.30006929,  0.54738717,  0.43050245],\n",
       "       [ 0.72434824,  0.73092092,  0.59144885],\n",
       "       [ 0.93619861,  0.01186353,  0.97704375],\n",
       "       [ 0.96739721,  0.52362699,  0.21449902]])"
      ]
     },
     "execution_count": 14,
     "metadata": {},
     "output_type": "execute_result"
    }
   ],
   "source": [
    "a = np.random.rand(4,3)\n",
    "a"
   ]
  },
  {
   "cell_type": "code",
   "execution_count": 15,
   "metadata": {},
   "outputs": [
    {
     "data": {
      "text/plain": [
       "\n",
       " 0.3001  0.5474  0.4305\n",
       " 0.7243  0.7309  0.5914\n",
       " 0.9362  0.0119  0.9770\n",
       " 0.9674  0.5236  0.2145\n",
       "[torch.DoubleTensor of size 4x3]"
      ]
     },
     "execution_count": 15,
     "metadata": {},
     "output_type": "execute_result"
    }
   ],
   "source": [
    "b = torch.from_numpy(a)\n",
    "b"
   ]
  },
  {
   "cell_type": "code",
   "execution_count": 16,
   "metadata": {},
   "outputs": [
    {
     "data": {
      "text/plain": [
       "array([[ 0.30006929,  0.54738717,  0.43050245],\n",
       "       [ 0.72434824,  0.73092092,  0.59144885],\n",
       "       [ 0.93619861,  0.01186353,  0.97704375],\n",
       "       [ 0.96739721,  0.52362699,  0.21449902]])"
      ]
     },
     "execution_count": 16,
     "metadata": {},
     "output_type": "execute_result"
    }
   ],
   "source": [
    "b.numpy()"
   ]
  },
  {
   "cell_type": "markdown",
   "metadata": {},
   "source": [
    "The memory is shared between the Numpy array and Torch tensor, so if you change the values in-place of one object, the other will change as well."
   ]
  },
  {
   "cell_type": "code",
   "execution_count": 17,
   "metadata": {},
   "outputs": [
    {
     "data": {
      "text/plain": [
       "\n",
       " 0.6001  1.0948  0.8610\n",
       " 1.4487  1.4618  1.1829\n",
       " 1.8724  0.0237  1.9541\n",
       " 1.9348  1.0473  0.4290\n",
       "[torch.DoubleTensor of size 4x3]"
      ]
     },
     "execution_count": 17,
     "metadata": {},
     "output_type": "execute_result"
    }
   ],
   "source": [
    "b.mul_(2)"
   ]
  },
  {
   "cell_type": "code",
   "execution_count": 18,
   "metadata": {},
   "outputs": [
    {
     "data": {
      "text/plain": [
       "array([[ 0.60013857,  1.09477434,  0.86100489],\n",
       "       [ 1.44869649,  1.46184183,  1.1828977 ],\n",
       "       [ 1.87239721,  0.02372706,  1.9540875 ],\n",
       "       [ 1.93479441,  1.04725398,  0.42899803]])"
      ]
     },
     "execution_count": 18,
     "metadata": {},
     "output_type": "execute_result"
    }
   ],
   "source": [
    "a"
   ]
  },
  {
   "cell_type": "markdown",
   "metadata": {},
   "source": [
    "## Autograd\n",
    "\n",
    "Torch provides a module, `autograd`, for automatically calculating the gradient of tensors. It does this by keeping track of operations performed on tensors. For PyTorch to keep track of operations, you need to wrap a tensor with the `Variable` class from `torch.autograd`. You can get the tensor back with the `.data` attribute of the Variable.\n",
    "\n",
    "The gradients are computed with respect to some variable `z` with `z.backward()`. This does a backward pass through the operations the created `z`."
   ]
  },
  {
   "cell_type": "code",
   "execution_count": 19,
   "metadata": {
    "collapsed": true
   },
   "outputs": [],
   "source": [
    "from torch.autograd import Variable"
   ]
  },
  {
   "cell_type": "code",
   "execution_count": 20,
   "metadata": {},
   "outputs": [
    {
     "data": {
      "text/plain": [
       "Variable containing:\n",
       " 1  1\n",
       " 1  1\n",
       "[torch.FloatTensor of size 2x2]"
      ]
     },
     "execution_count": 20,
     "metadata": {},
     "output_type": "execute_result"
    }
   ],
   "source": [
    "x = torch.ones(2,2)\n",
    "x = Variable(x, requires_grad=True)\n",
    "x"
   ]
  },
  {
   "cell_type": "code",
   "execution_count": 21,
   "metadata": {},
   "outputs": [
    {
     "data": {
      "text/plain": [
       "Variable containing:\n",
       " 12  12\n",
       " 12  12\n",
       "[torch.FloatTensor of size 2x2]"
      ]
     },
     "execution_count": 21,
     "metadata": {},
     "output_type": "execute_result"
    }
   ],
   "source": [
    "y = 3*(x+1)**2\n",
    "y"
   ]
  },
  {
   "cell_type": "markdown",
   "metadata": {},
   "source": [
    "Below we can see the operation that created `y`, a `MulConstant` op."
   ]
  },
  {
   "cell_type": "code",
   "execution_count": 22,
   "metadata": {},
   "outputs": [
    {
     "data": {
      "text/plain": [
       "<torch.autograd._functions.basic_ops.MulConstant at 0x7f2989cced68>"
      ]
     },
     "execution_count": 22,
     "metadata": {},
     "output_type": "execute_result"
    }
   ],
   "source": [
    "y.creator"
   ]
  },
  {
   "cell_type": "code",
   "execution_count": 23,
   "metadata": {},
   "outputs": [
    {
     "data": {
      "text/plain": [
       "Variable containing:\n",
       " 12\n",
       "[torch.FloatTensor of size 1]"
      ]
     },
     "execution_count": 23,
     "metadata": {},
     "output_type": "execute_result"
    }
   ],
   "source": [
    "z = y.mean()\n",
    "z"
   ]
  },
  {
   "cell_type": "markdown",
   "metadata": {},
   "source": [
    "Again, we can check out how `z` was created, with a `Mean` operation."
   ]
  },
  {
   "cell_type": "code",
   "execution_count": 24,
   "metadata": {},
   "outputs": [
    {
     "data": {
      "text/plain": [
       "<torch.autograd._functions.reduce.Mean at 0x7f293e46cba8>"
      ]
     },
     "execution_count": 24,
     "metadata": {},
     "output_type": "execute_result"
    }
   ],
   "source": [
    "z.creator"
   ]
  },
  {
   "cell_type": "markdown",
   "metadata": {},
   "source": [
    "Since we haven't perforwmed a backward pass, `x` doesn't have a gradient yet."
   ]
  },
  {
   "cell_type": "code",
   "execution_count": 25,
   "metadata": {
    "collapsed": true
   },
   "outputs": [],
   "source": [
    "x.grad"
   ]
  },
  {
   "cell_type": "markdown",
   "metadata": {},
   "source": [
    "Now we can calculate the gradients of `z` with respect to `x` with `z.backward()`."
   ]
  },
  {
   "cell_type": "code",
   "execution_count": 26,
   "metadata": {
    "collapsed": true
   },
   "outputs": [],
   "source": [
    "z.backward()"
   ]
  },
  {
   "cell_type": "code",
   "execution_count": 27,
   "metadata": {},
   "outputs": [
    {
     "data": {
      "text/plain": [
       "Variable containing:\n",
       " 3  3\n",
       " 3  3\n",
       "[torch.FloatTensor of size 2x2]"
      ]
     },
     "execution_count": 27,
     "metadata": {},
     "output_type": "execute_result"
    }
   ],
   "source": [
    "x.grad"
   ]
  },
  {
   "cell_type": "markdown",
   "metadata": {},
   "source": [
    "These gradients calculations are particularly useful for neural networks. For training we need the gradients of the weights with respect to the cost. With PyTorch, we run data forward through the network to calculate the cost, then, go backwards to calculate the gradients with respect to the cost. Once we have the gradients we can make a gradient descent step. \n",
    "\n",
    "## Classifying MNIST with PyTorch\n",
    "\n",
    "Next I'll show you how to use this pattern to build a neural network with PyTorch. First up, we need to get our dataset. This is provided through the `torchvision` package. The code below will download the MNIST dataset, then create train and test datasets for us."
   ]
  },
  {
   "cell_type": "code",
   "execution_count": 2,
   "metadata": {
    "collapsed": true
   },
   "outputs": [],
   "source": [
    "%matplotlib inline\n",
    "\n",
    "import matplotlib.pyplot as plt\n",
    "from torchvision import datasets, transforms"
   ]
  },
  {
   "cell_type": "code",
   "execution_count": 3,
   "metadata": {
    "collapsed": true
   },
   "outputs": [],
   "source": [
    "transform = transforms.Compose([transforms.ToTensor(),\n",
    "                              transforms.Normalize((0.5, 0.5, 0.5), (0.5, 0.5, 0.5)),\n",
    "                             ])\n",
    "trainset = datasets.MNIST('MNIST_data/', download=True, train=True, transform=transform)\n",
    "trainloader = torch.utils.data.DataLoader(trainset, batch_size=64, shuffle=True)\n",
    "\n",
    "testset = datasets.MNIST('MNIST_data/', download=True, train=False, transform=transform)\n",
    "testloader = torch.utils.data.DataLoader(testset, batch_size=64, shuffle=True)"
   ]
  },
  {
   "cell_type": "code",
   "execution_count": 7,
   "metadata": {
    "collapsed": true
   },
   "outputs": [],
   "source": [
    "dataiter = iter(trainloader)\n",
    "images, labels = dataiter.next()"
   ]
  },
  {
   "cell_type": "markdown",
   "metadata": {},
   "source": [
    "We have the training data loaded into `trainloader` and we make that an iterator with `iter(trainloader)`. We'd use this to loop through the dataset for training, but here I'm just grabbing the first batch so we can check out the data. We can see below that `images` is just a tensor with size (10, 1, 28, 28). So, 10 images per batch, 1 color channel, and 28x28 images."
   ]
  },
  {
   "cell_type": "code",
   "execution_count": 8,
   "metadata": {},
   "outputs": [
    {
     "data": {
      "text/plain": [
       "torch.Size([64, 1, 28, 28])"
      ]
     },
     "execution_count": 8,
     "metadata": {},
     "output_type": "execute_result"
    }
   ],
   "source": [
    "images.size()"
   ]
  },
  {
   "cell_type": "code",
   "execution_count": 9,
   "metadata": {},
   "outputs": [
    {
     "data": {
      "text/plain": [
       "<matplotlib.image.AxesImage at 0x7f48a5ce7198>"
      ]
     },
     "execution_count": 9,
     "metadata": {},
     "output_type": "execute_result"
    },
    {
     "data": {
      "image/png": "[encoded data removed]",
      "text/plain": [
       "<matplotlib.figure.Figure at 0x7f48a5d7d710>"
      ]
     },
     "metadata": {
      "image/png": {
       "height": 250,
       "width": 253
      }
     },
     "output_type": "display_data"
    }
   ],
   "source": [
    "plt.imshow(images[2].numpy().squeeze(), cmap='Greys_r')"
   ]
  },
  {
   "cell_type": "markdown",
   "metadata": {},
   "source": [
    "## Building networks with PyTorch\n",
    "\n",
    "Here I'll use PyTorch to build a simple feedfoward network to classify the MNIST images. This network will be trained on the dataset, then we can use it to classify the test images.\n",
    "\n",
    "To build a neural network with PyTorch, you use the `torch.nn` module. The network itself is a class inheriting from `torch.nn.Module`. You define each of the operations separately, like `nn.Linear(784, 200)` for a fully connected linear layer with 784 inputs and 200 units.\n",
    "\n",
    "The class needs to include a `forward` method that implements the forward pass through the network. In this method, you pass some input tensor `x` through each of the operations you defined earlier. The `torch.nn` module also has functional equivalents for things like ReLUs in `torch.nn.functional`. This module is usually imported as `F`. Then to use a ReLU activation on some layer (which is just a tensor), you'd do `F.relu(x)`.\n",
    "\n",
    "So, for this network, I'll build it with three fully connected layers, then a softmax output for predicting."
   ]
  },
  {
   "cell_type": "code",
   "execution_count": 4,
   "metadata": {
    "collapsed": true
   },
   "outputs": [],
   "source": [
    "from torch import nn\n",
    "from torch import optim\n",
    "import torch.nn.functional as F\n",
    "from torch.autograd import Variable"
   ]
  },
  {
   "cell_type": "code",
   "execution_count": 34,
   "metadata": {},
   "outputs": [
    {
     "data": {
      "text/plain": [
       "Network (\n",
       "  (fc1): Linear (784 -> 200)\n",
       "  (fc2): Linear (200 -> 50)\n",
       "  (fc3): Linear (50 -> 10)\n",
       ")"
      ]
     },
     "execution_count": 34,
     "metadata": {},
     "output_type": "execute_result"
    }
   ],
   "source": [
    "class Network(nn.Module):\n",
    "    def __init__(self):\n",
    "        super().__init__()\n",
    "        # Defining the layers, 200, 50, 10 units each\n",
    "        self.fc1 = nn.Linear(784, 200)\n",
    "        self.fc2 = nn.Linear(200, 50)\n",
    "        # Output layer, 10 units - one for each digit\n",
    "        self.fc3 = nn.Linear(50, 10)\n",
    "        \n",
    "    def forward(self, x):\n",
    "        ''' Forward pass through the network, returns the output logits '''\n",
    "        \n",
    "        x = self.fc1(x)\n",
    "        x = F.relu(x)\n",
    "        x = self.fc2(x)\n",
    "        x = F.relu(x)\n",
    "        x = self.fc3(x)\n",
    "        \n",
    "        return x\n",
    "    \n",
    "    def predict(self, x):\n",
    "        ''' This function for predicts classes by calculating the softmax '''\n",
    "        logits = self.forward(x)\n",
    "        return F.softmax(logits)\n",
    "\n",
    "net = Network()\n",
    "net"
   ]
  },
  {
   "cell_type": "markdown",
   "metadata": {},
   "source": [
    "### Initializing weights and biases\n",
    "\n",
    "The weights and such are automatically initialized for you, but it's possible to customize how they are initialized. The weights and biases are tensors attached to the layer you defined, you can get them with `net.fc1.weight` for instance."
   ]
  },
  {
   "cell_type": "code",
   "execution_count": 35,
   "metadata": {},
   "outputs": [
    {
     "name": "stdout",
     "output_type": "stream",
     "text": [
      "Parameter containing:\n",
      " 3.0546e-02 -1.6723e-02  5.1650e-03  ...   1.6546e-02 -1.9436e-02  1.8235e-02\n",
      "-3.1358e-02 -3.4264e-02  3.3742e-02  ...   5.0590e-03  5.6460e-03 -2.3983e-02\n",
      " 1.3261e-02 -9.9746e-04 -3.1890e-02  ...  -1.8108e-02  8.9947e-03  3.1710e-02\n",
      "                ...                   ⋱                   ...                \n",
      "-3.0760e-02  8.3056e-03 -2.9209e-03  ...  -4.7647e-03  1.8860e-02 -9.7452e-03\n",
      "-1.1657e-02  3.4182e-02 -2.9062e-02  ...  -1.1172e-02 -1.1096e-02  2.3156e-02\n",
      " 1.9767e-03  3.2391e-02 -2.2479e-02  ...  -2.4886e-02  1.9301e-02 -5.1892e-03\n",
      "[torch.FloatTensor of size 200x784]\n",
      "\n",
      "Parameter containing:\n",
      "1.00000e-02 *\n",
      "  1.5207\n",
      " -2.9707\n",
      "  2.5967\n",
      "  3.0825\n",
      "  0.5150\n",
      " -1.5469\n",
      "  2.2934\n",
      "  1.0840\n",
      " -0.0489\n",
      "  0.1035\n",
      " -3.0384\n",
      "  2.0730\n",
      "  2.4545\n",
      " -2.1022\n",
      "  0.5361\n",
      " -0.6995\n",
      " -3.5105\n",
      "  1.8850\n",
      " -1.8101\n",
      " -2.5097\n",
      " -0.3929\n",
      " -0.9524\n",
      " -1.0832\n",
      " -1.8659\n",
      " -1.3500\n",
      " -2.3299\n",
      " -1.0066\n",
      " -2.2793\n",
      "  0.1423\n",
      "  0.3531\n",
      "  0.6086\n",
      "  0.7344\n",
      " -0.6550\n",
      "  1.4651\n",
      " -3.4706\n",
      " -1.1645\n",
      " -2.8092\n",
      " -2.9623\n",
      "  0.0600\n",
      "  2.4596\n",
      "  0.6399\n",
      " -0.7758\n",
      "  3.3977\n",
      " -0.0283\n",
      "  2.9992\n",
      " -1.6502\n",
      " -1.7947\n",
      " -0.0052\n",
      "  0.1030\n",
      "  2.8450\n",
      " -2.4275\n",
      " -2.3914\n",
      "  0.8700\n",
      " -3.0534\n",
      " -2.3411\n",
      " -0.3767\n",
      "  2.3767\n",
      " -3.4574\n",
      "  1.6244\n",
      "  2.7322\n",
      " -2.5596\n",
      " -2.4486\n",
      "  0.0155\n",
      " -1.5472\n",
      "  3.3484\n",
      " -1.2413\n",
      " -3.4168\n",
      "  0.9068\n",
      "  2.1774\n",
      "  3.2576\n",
      " -1.5703\n",
      "  0.9102\n",
      "  3.4200\n",
      "  0.4817\n",
      " -0.9119\n",
      "  1.8264\n",
      " -2.0161\n",
      "  2.2222\n",
      " -3.3768\n",
      " -3.4381\n",
      " -2.6905\n",
      " -2.2018\n",
      "  1.0296\n",
      "  2.8129\n",
      "  2.1205\n",
      " -1.2255\n",
      "  0.0366\n",
      " -2.9632\n",
      "  2.5759\n",
      " -0.9161\n",
      "  1.8679\n",
      " -0.5848\n",
      "  0.3542\n",
      "  0.8894\n",
      "  2.6580\n",
      " -3.1200\n",
      " -0.1515\n",
      " -3.1977\n",
      " -3.4757\n",
      "  0.4880\n",
      "  1.7863\n",
      " -1.2302\n",
      " -0.9707\n",
      " -0.6032\n",
      " -0.5339\n",
      "  1.9086\n",
      " -0.9852\n",
      "  0.0783\n",
      "  2.9445\n",
      " -3.1307\n",
      " -0.3020\n",
      "  0.8175\n",
      " -0.2162\n",
      " -2.6617\n",
      "  0.0081\n",
      "  2.9292\n",
      " -2.9874\n",
      " -0.5141\n",
      "  0.4726\n",
      " -1.7099\n",
      "  0.6724\n",
      " -3.0865\n",
      " -2.3790\n",
      " -2.9848\n",
      "  3.2161\n",
      "  3.3401\n",
      "  2.2914\n",
      " -1.9851\n",
      " -1.5372\n",
      " -0.6900\n",
      "  0.8132\n",
      " -3.4860\n",
      " -2.5038\n",
      " -2.5358\n",
      "  2.5257\n",
      " -0.3344\n",
      "  0.1528\n",
      "  1.6566\n",
      " -2.4318\n",
      " -1.5530\n",
      "  1.2736\n",
      " -0.1487\n",
      "  1.6996\n",
      " -1.0114\n",
      " -2.3146\n",
      "  3.1675\n",
      "  2.1113\n",
      " -2.4058\n",
      "  0.6010\n",
      "  0.4052\n",
      " -3.1367\n",
      " -0.3044\n",
      " -0.8141\n",
      " -3.4986\n",
      " -0.8528\n",
      "  0.8130\n",
      "  2.3283\n",
      " -2.9859\n",
      " -0.8509\n",
      "  1.9442\n",
      " -2.4592\n",
      "  1.9946\n",
      " -1.2999\n",
      "  3.0083\n",
      "  1.6757\n",
      " -1.9469\n",
      "  2.6325\n",
      "  1.5395\n",
      "  1.2861\n",
      " -3.5651\n",
      " -2.0901\n",
      " -0.4920\n",
      " -0.2816\n",
      " -0.0841\n",
      "  2.7685\n",
      " -1.9699\n",
      " -0.9749\n",
      "  2.9547\n",
      "  1.5245\n",
      "  0.3951\n",
      "  2.5971\n",
      "  1.3739\n",
      "  1.2790\n",
      "  0.1209\n",
      "  2.5315\n",
      " -2.9623\n",
      "  0.9267\n",
      " -0.2751\n",
      " -1.6935\n",
      "  1.5109\n",
      " -0.2527\n",
      " -2.0920\n",
      " -2.8009\n",
      " -3.4234\n",
      " -0.7306\n",
      " -1.3184\n",
      " -1.7449\n",
      " -2.9369\n",
      "  1.2662\n",
      " -0.8611\n",
      "[torch.FloatTensor of size 200]\n",
      "\n"
     ]
    }
   ],
   "source": [
    "print(net.fc1.weight)\n",
    "print(net.fc1.bias)"
   ]
  },
  {
   "cell_type": "markdown",
   "metadata": {},
   "source": [
    "For custom initialization, we want to modify these tensors in place. These are actually autograd *Variables*, so we need to get back the actual tensors with `net.fc1.weight.data`. Once we have the tensors, we can fill them with zeros (for biases) or random normal values."
   ]
  },
  {
   "cell_type": "code",
   "execution_count": 36,
   "metadata": {
    "scrolled": true
   },
   "outputs": [
    {
     "data": {
      "text/plain": [
       "\n",
       " 0\n",
       " 0\n",
       " 0\n",
       " 0\n",
       " 0\n",
       " 0\n",
       " 0\n",
       " 0\n",
       " 0\n",
       " 0\n",
       " 0\n",
       " 0\n",
       " 0\n",
       " 0\n",
       " 0\n",
       " 0\n",
       " 0\n",
       " 0\n",
       " 0\n",
       " 0\n",
       " 0\n",
       " 0\n",
       " 0\n",
       " 0\n",
       " 0\n",
       " 0\n",
       " 0\n",
       " 0\n",
       " 0\n",
       " 0\n",
       " 0\n",
       " 0\n",
       " 0\n",
       " 0\n",
       " 0\n",
       " 0\n",
       " 0\n",
       " 0\n",
       " 0\n",
       " 0\n",
       " 0\n",
       " 0\n",
       " 0\n",
       " 0\n",
       " 0\n",
       " 0\n",
       " 0\n",
       " 0\n",
       " 0\n",
       " 0\n",
       " 0\n",
       " 0\n",
       " 0\n",
       " 0\n",
       " 0\n",
       " 0\n",
       " 0\n",
       " 0\n",
       " 0\n",
       " 0\n",
       " 0\n",
       " 0\n",
       " 0\n",
       " 0\n",
       " 0\n",
       " 0\n",
       " 0\n",
       " 0\n",
       " 0\n",
       " 0\n",
       " 0\n",
       " 0\n",
       " 0\n",
       " 0\n",
       " 0\n",
       " 0\n",
       " 0\n",
       " 0\n",
       " 0\n",
       " 0\n",
       " 0\n",
       " 0\n",
       " 0\n",
       " 0\n",
       " 0\n",
       " 0\n",
       " 0\n",
       " 0\n",
       " 0\n",
       " 0\n",
       " 0\n",
       " 0\n",
       " 0\n",
       " 0\n",
       " 0\n",
       " 0\n",
       " 0\n",
       " 0\n",
       " 0\n",
       " 0\n",
       " 0\n",
       " 0\n",
       " 0\n",
       " 0\n",
       " 0\n",
       " 0\n",
       " 0\n",
       " 0\n",
       " 0\n",
       " 0\n",
       " 0\n",
       " 0\n",
       " 0\n",
       " 0\n",
       " 0\n",
       " 0\n",
       " 0\n",
       " 0\n",
       " 0\n",
       " 0\n",
       " 0\n",
       " 0\n",
       " 0\n",
       " 0\n",
       " 0\n",
       " 0\n",
       " 0\n",
       " 0\n",
       " 0\n",
       " 0\n",
       " 0\n",
       " 0\n",
       " 0\n",
       " 0\n",
       " 0\n",
       " 0\n",
       " 0\n",
       " 0\n",
       " 0\n",
       " 0\n",
       " 0\n",
       " 0\n",
       " 0\n",
       " 0\n",
       " 0\n",
       " 0\n",
       " 0\n",
       " 0\n",
       " 0\n",
       " 0\n",
       " 0\n",
       " 0\n",
       " 0\n",
       " 0\n",
       " 0\n",
       " 0\n",
       " 0\n",
       " 0\n",
       " 0\n",
       " 0\n",
       " 0\n",
       " 0\n",
       " 0\n",
       " 0\n",
       " 0\n",
       " 0\n",
       " 0\n",
       " 0\n",
       " 0\n",
       " 0\n",
       " 0\n",
       " 0\n",
       " 0\n",
       " 0\n",
       " 0\n",
       " 0\n",
       " 0\n",
       " 0\n",
       " 0\n",
       " 0\n",
       " 0\n",
       " 0\n",
       " 0\n",
       " 0\n",
       " 0\n",
       " 0\n",
       " 0\n",
       " 0\n",
       " 0\n",
       " 0\n",
       " 0\n",
       " 0\n",
       " 0\n",
       " 0\n",
       " 0\n",
       " 0\n",
       " 0\n",
       " 0\n",
       " 0\n",
       " 0\n",
       "[torch.FloatTensor of size 200]"
      ]
     },
     "execution_count": 36,
     "metadata": {},
     "output_type": "execute_result"
    }
   ],
   "source": [
    "# Set biases to all zeros\n",
    "net.fc1.bias.data.fill_(0)"
   ]
  },
  {
   "cell_type": "code",
   "execution_count": 37,
   "metadata": {},
   "outputs": [
    {
     "data": {
      "text/plain": [
       "\n",
       "-2.1065e-03  1.4790e-02 -9.6895e-03  ...   4.8467e-03  1.8105e-04 -8.1829e-03\n",
       "-9.3307e-03 -2.1034e-02  5.6581e-03  ...  -2.8093e-02  6.4960e-03  7.0314e-03\n",
       "-1.4578e-02  1.9654e-02 -1.2452e-03  ...  -1.0793e-02  1.3720e-02  1.8447e-02\n",
       "                ...                   ⋱                   ...                \n",
       " 2.4240e-03  1.3296e-02 -2.6586e-03  ...   4.5437e-03  8.5795e-04 -1.0118e-02\n",
       "-5.3917e-04 -3.9029e-03 -8.1842e-03  ...   3.7169e-03  9.7795e-03  7.8413e-03\n",
       "-6.4416e-03 -2.9301e-03 -1.1390e-02  ...  -1.7939e-02  1.6960e-02 -2.4967e-03\n",
       "[torch.FloatTensor of size 200x784]"
      ]
     },
     "execution_count": 37,
     "metadata": {},
     "output_type": "execute_result"
    }
   ],
   "source": [
    "# sample from random normal with standard dev = 0.01\n",
    "net.fc1.weight.data.normal_(std=0.01)"
   ]
  },
  {
   "cell_type": "markdown",
   "metadata": {},
   "source": [
    "## Training the network!\n",
    "\n",
    "The first thing we need to do for training is define our loss function. In PyTorch, you'll usually see this as `criterion`. Here we're using softmax output, so we want to use `criterion = nn.CrossEntropyLoss()` as our loss. Later when training, you use `loss = criterion(output, targets)` to calculate the actual loss.\n",
    "\n",
    "We also need to define the optimizer we're using, SGD or Adam, or something along those lines. Here I'll just use SGD with `torch.optim.SGD`, passing in the network parameters and the learning rate."
   ]
  },
  {
   "cell_type": "code",
   "execution_count": 38,
   "metadata": {
    "collapsed": true
   },
   "outputs": [],
   "source": [
    "criterion = nn.CrossEntropyLoss()\n",
    "optimizer = optim.SGD(net.parameters(), lr=0.01)"
   ]
  },
  {
   "cell_type": "markdown",
   "metadata": {},
   "source": [
    "First, let's consider just one learning step before looping through all the data. The general process with PyTorch:\n",
    "\n",
    "* Make a forward pass through the network to get the logits \n",
    "* Use the logits to calculate the loss\n",
    "* Perform a backward pass through the network with `loss.backward()` to calculate the gradients\n",
    "* Take a step with the optimizer to update the weights\n",
    "\n",
    "Below I'll go through one training step and print out the weights and gradients so you can see how it changes."
   ]
  },
  {
   "cell_type": "code",
   "execution_count": 39,
   "metadata": {},
   "outputs": [
    {
     "name": "stdout",
     "output_type": "stream",
     "text": [
      "Initial weights -  Parameter containing:\n",
      "-2.1065e-03  1.4790e-02 -9.6895e-03  ...   4.8467e-03  1.8105e-04 -8.1829e-03\n",
      "-9.3307e-03 -2.1034e-02  5.6581e-03  ...  -2.8093e-02  6.4960e-03  7.0314e-03\n",
      "-1.4578e-02  1.9654e-02 -1.2452e-03  ...  -1.0793e-02  1.3720e-02  1.8447e-02\n",
      "                ...                   ⋱                   ...                \n",
      " 2.4240e-03  1.3296e-02 -2.6586e-03  ...   4.5437e-03  8.5795e-04 -1.0118e-02\n",
      "-5.3917e-04 -3.9029e-03 -8.1842e-03  ...   3.7169e-03  9.7795e-03  7.8413e-03\n",
      "-6.4416e-03 -2.9301e-03 -1.1390e-02  ...  -1.7939e-02  1.6960e-02 -2.4967e-03\n",
      "[torch.FloatTensor of size 200x784]\n",
      "\n",
      "Gradient - Variable containing:\n",
      "1.00000e-02 *\n",
      "-0.0147 -0.0147 -0.0147  ...  -0.0147 -0.0147 -0.0147\n",
      " 0.2514  0.2514  0.2514  ...   0.2514  0.2514  0.2514\n",
      " 0.1116  0.1116  0.1116  ...   0.1116  0.1116  0.1116\n",
      "          ...             ⋱             ...          \n",
      " 0.0793  0.0793  0.0793  ...   0.0793  0.0793  0.0793\n",
      " 0.0639  0.0639  0.0639  ...   0.0639  0.0639  0.0639\n",
      " 0.0525  0.0525  0.0525  ...   0.0525  0.0525  0.0525\n",
      "[torch.FloatTensor of size 200x784]\n",
      "\n"
     ]
    }
   ],
   "source": [
    "print('Initial weights - ', net.fc1.weight)\n",
    "\n",
    "dataiter = iter(trainloader)\n",
    "images, labels = dataiter.next()\n",
    "\n",
    "images.resize_(64, 784)\n",
    "\n",
    "# Create Variables for the inputs and targets\n",
    "inputs = Variable(images)\n",
    "targets = Variable(labels)\n",
    "\n",
    "# Clear the gradients from all Variables\n",
    "optimizer.zero_grad()\n",
    "\n",
    "# Forward pass, then backward pass, then update weights\n",
    "output = net.forward(inputs)\n",
    "loss = criterion(output, targets)\n",
    "loss.backward()\n",
    "print('Gradient -', net.fc1.weight.grad)\n",
    "optimizer.step()"
   ]
  },
  {
   "cell_type": "code",
   "execution_count": 43,
   "metadata": {},
   "outputs": [
    {
     "name": "stdout",
     "output_type": "stream",
     "text": [
      "Updated weights -  Parameter containing:\n",
      "-8.3291e-03  4.9999e-04  9.6846e-03  ...  -9.1790e-03 -1.2445e-02 -7.3328e-03\n",
      " 1.1525e-02 -3.7082e-04 -9.6497e-04  ...  -1.3796e-02 -6.6014e-03 -1.8895e-03\n",
      "-1.4473e-02 -7.5187e-03 -5.1689e-03  ...  -1.1284e-02  9.3732e-03  9.0938e-03\n",
      "                ...                   ⋱                   ...                \n",
      "-9.2941e-03  9.4388e-04  2.0821e-02  ...   5.5563e-03 -1.3484e-02 -3.2505e-03\n",
      "-1.4171e-02 -4.4337e-03  3.3430e-03  ...   5.4925e-03  3.0711e-03  1.5792e-02\n",
      "-1.0633e-02 -5.1977e-03 -6.4239e-04  ...  -3.3189e-03 -9.5673e-03  2.8929e-03\n",
      "[torch.FloatTensor of size 200x784]\n",
      "\n"
     ]
    }
   ],
   "source": [
    "print('Updated weights - ', net.fc1.weight)"
   ]
  },
  {
   "cell_type": "markdown",
   "metadata": {},
   "source": [
    "### Training for real\n",
    "\n",
    "Now we'll put this algorithm into a loop so we can go through all the images. This is fairly straightforward. We'll loop through the mini-batches in our dataset, pass the data through the network to calculate the losses, get the gradients, then run the optimizer"
   ]
  },
  {
   "cell_type": "code",
   "execution_count": 40,
   "metadata": {
    "collapsed": true
   },
   "outputs": [],
   "source": [
    "net = Network()\n",
    "optimizer = optim.Adam(net.parameters(), lr=0.001)"
   ]
  },
  {
   "cell_type": "code",
   "execution_count": 41,
   "metadata": {},
   "outputs": [
    {
     "name": "stdout",
     "output_type": "stream",
     "text": [
      "Epoch: 1/1 Loss: 2.1433 Test accuracy: 0.4895\n",
      "Epoch: 1/1 Loss: 1.7227 Test accuracy: 0.5708\n",
      "Epoch: 1/1 Loss: 1.2906 Test accuracy: 0.7273\n",
      "Epoch: 1/1 Loss: 0.9938 Test accuracy: 0.7792\n",
      "Epoch: 1/1 Loss: 0.7342 Test accuracy: 0.8269\n",
      "Epoch: 1/1 Loss: 0.6477 Test accuracy: 0.8360\n",
      "Epoch: 1/1 Loss: 0.6678 Test accuracy: 0.8448\n",
      "Epoch: 1/1 Loss: 0.5542 Test accuracy: 0.8374\n",
      "Epoch: 1/1 Loss: 0.5251 Test accuracy: 0.8174\n",
      "Epoch: 1/1 Loss: 0.4761 Test accuracy: 0.8531\n",
      "Epoch: 1/1 Loss: 0.5159 Test accuracy: 0.8680\n",
      "Epoch: 1/1 Loss: 0.4346 Test accuracy: 0.8718\n",
      "Epoch: 1/1 Loss: 0.4710 Test accuracy: 0.8738\n",
      "Epoch: 1/1 Loss: 0.4060 Test accuracy: 0.8723\n",
      "Epoch: 1/1 Loss: 0.3787 Test accuracy: 0.8843\n",
      "Epoch: 1/1 Loss: 0.4455 Test accuracy: 0.8520\n",
      "Epoch: 1/1 Loss: 0.4456 Test accuracy: 0.8846\n",
      "Epoch: 1/1 Loss: 0.4595 Test accuracy: 0.8594\n",
      "Epoch: 1/1 Loss: 0.4556 Test accuracy: 0.8866\n",
      "Epoch: 1/1 Loss: 0.3593 Test accuracy: 0.8876\n",
      "Epoch: 1/1 Loss: 0.3928 Test accuracy: 0.8963\n",
      "Epoch: 1/1 Loss: 0.4361 Test accuracy: 0.8970\n",
      "Epoch: 1/1 Loss: 0.3068 Test accuracy: 0.8992\n",
      "Epoch: 1/1 Loss: 0.3447 Test accuracy: 0.8969\n",
      "Epoch: 1/1 Loss: 0.3585 Test accuracy: 0.9030\n",
      "Epoch: 1/1 Loss: 0.3380 Test accuracy: 0.9020\n",
      "Epoch: 1/1 Loss: 0.3723 Test accuracy: 0.8898\n",
      "Epoch: 1/1 Loss: 0.3813 Test accuracy: 0.9026\n",
      "Epoch: 1/1 Loss: 0.3906 Test accuracy: 0.8970\n",
      "Epoch: 1/1 Loss: 0.3448 Test accuracy: 0.8964\n",
      "Epoch: 1/1 Loss: 0.2838 Test accuracy: 0.8869\n",
      "Epoch: 1/1 Loss: 0.3543 Test accuracy: 0.8892\n",
      "Epoch: 1/1 Loss: 0.3101 Test accuracy: 0.8854\n",
      "Epoch: 1/1 Loss: 0.3254 Test accuracy: 0.9052\n",
      "Epoch: 1/1 Loss: 0.3423 Test accuracy: 0.8991\n",
      "Epoch: 1/1 Loss: 0.3561 Test accuracy: 0.8853\n",
      "Epoch: 1/1 Loss: 0.3786 Test accuracy: 0.9155\n",
      "Epoch: 1/1 Loss: 0.3946 Test accuracy: 0.8923\n",
      "Epoch: 1/1 Loss: 0.3398 Test accuracy: 0.9129\n",
      "Epoch: 1/1 Loss: 0.3290 Test accuracy: 0.9086\n",
      "Epoch: 1/1 Loss: 0.3965 Test accuracy: 0.9110\n",
      "Epoch: 1/1 Loss: 0.3001 Test accuracy: 0.9041\n",
      "Epoch: 1/1 Loss: 0.3105 Test accuracy: 0.9127\n",
      "Epoch: 1/1 Loss: 0.3021 Test accuracy: 0.9027\n",
      "Epoch: 1/1 Loss: 0.3441 Test accuracy: 0.9115\n",
      "Epoch: 1/1 Loss: 0.3053 Test accuracy: 0.9194\n",
      "Epoch: 1/1 Loss: 0.2502 Test accuracy: 0.9108\n",
      "Epoch: 1/1 Loss: 0.2975 Test accuracy: 0.9091\n",
      "Epoch: 1/1 Loss: 0.3408 Test accuracy: 0.9196\n",
      "Epoch: 1/1 Loss: 0.2305 Test accuracy: 0.9183\n",
      "Epoch: 1/1 Loss: 0.3169 Test accuracy: 0.9189\n",
      "Epoch: 1/1 Loss: 0.2780 Test accuracy: 0.9121\n",
      "Epoch: 1/1 Loss: 0.2953 Test accuracy: 0.9115\n",
      "Epoch: 1/1 Loss: 0.2609 Test accuracy: 0.9108\n",
      "Epoch: 1/1 Loss: 0.2986 Test accuracy: 0.9145\n",
      "Epoch: 1/1 Loss: 0.3848 Test accuracy: 0.9200\n",
      "Epoch: 1/1 Loss: 0.3302 Test accuracy: 0.9037\n",
      "Epoch: 1/1 Loss: 0.2728 Test accuracy: 0.9186\n",
      "Epoch: 1/1 Loss: 0.2896 Test accuracy: 0.9218\n",
      "Epoch: 1/1 Loss: 0.3050 Test accuracy: 0.9232\n",
      "Epoch: 1/1 Loss: 0.2267 Test accuracy: 0.9225\n",
      "Epoch: 1/1 Loss: 0.2306 Test accuracy: 0.9211\n",
      "Epoch: 1/1 Loss: 0.2562 Test accuracy: 0.9284\n",
      "Epoch: 1/1 Loss: 0.2237 Test accuracy: 0.9234\n",
      "Epoch: 1/1 Loss: 0.3458 Test accuracy: 0.9273\n",
      "Epoch: 1/1 Loss: 0.3019 Test accuracy: 0.9097\n",
      "Epoch: 1/1 Loss: 0.2947 Test accuracy: 0.9270\n",
      "Epoch: 1/1 Loss: 0.2679 Test accuracy: 0.9221\n",
      "Epoch: 1/1 Loss: 0.3064 Test accuracy: 0.9298\n",
      "Epoch: 1/1 Loss: 0.2663 Test accuracy: 0.9271\n",
      "Epoch: 1/1 Loss: 0.2520 Test accuracy: 0.9284\n",
      "Epoch: 1/1 Loss: 0.2390 Test accuracy: 0.9345\n",
      "Epoch: 1/1 Loss: 0.2289 Test accuracy: 0.9330\n",
      "Epoch: 1/1 Loss: 0.2752 Test accuracy: 0.9335\n",
      "Epoch: 1/1 Loss: 0.2586 Test accuracy: 0.9347\n",
      "Epoch: 1/1 Loss: 0.2518 Test accuracy: 0.9260\n",
      "Epoch: 1/1 Loss: 0.3033 Test accuracy: 0.9256\n",
      "Epoch: 1/1 Loss: 0.2493 Test accuracy: 0.9342\n",
      "Epoch: 1/1 Loss: 0.2662 Test accuracy: 0.9281\n",
      "Epoch: 1/1 Loss: 0.2187 Test accuracy: 0.9351\n",
      "Epoch: 1/1 Loss: 0.2278 Test accuracy: 0.9300\n",
      "Epoch: 1/1 Loss: 0.1979 Test accuracy: 0.9339\n",
      "Epoch: 1/1 Loss: 0.2537 Test accuracy: 0.9296\n",
      "Epoch: 1/1 Loss: 0.2174 Test accuracy: 0.9382\n",
      "Epoch: 1/1 Loss: 0.1962 Test accuracy: 0.9353\n",
      "Epoch: 1/1 Loss: 0.2136 Test accuracy: 0.9287\n",
      "Epoch: 1/1 Loss: 0.2314 Test accuracy: 0.9323\n",
      "Epoch: 1/1 Loss: 0.2394 Test accuracy: 0.9367\n",
      "Epoch: 1/1 Loss: 0.2388 Test accuracy: 0.9237\n",
      "Epoch: 1/1 Loss: 0.2202 Test accuracy: 0.9248\n",
      "Epoch: 1/1 Loss: 0.2459 Test accuracy: 0.9371\n",
      "Epoch: 1/1 Loss: 0.1971 Test accuracy: 0.9380\n",
      "Epoch: 1/1 Loss: 0.2050 Test accuracy: 0.9358\n"
     ]
    }
   ],
   "source": [
    "epochs = 1\n",
    "steps = 0\n",
    "running_loss = 0\n",
    "print_every = 10\n",
    "for e in range(epochs):\n",
    "    for images, labels in iter(trainloader):\n",
    "        steps += 1\n",
    "        # Flatten MNIST images into a 784 long vector\n",
    "        images.resize_(images.size()[0], 784)\n",
    "\n",
    "        inputs = Variable(images)\n",
    "        targets = Variable(labels)\n",
    "        optimizer.zero_grad()\n",
    "        \n",
    "        output = net.forward(inputs)\n",
    "        loss = criterion(output, targets)\n",
    "        loss.backward()\n",
    "        optimizer.step()\n",
    "        \n",
    "        running_loss += loss.data[0]\n",
    "        \n",
    "        if steps % print_every == 0:\n",
    "            # Test accuracy\n",
    "            accuracy = 0\n",
    "            for ii, (images, labels) in enumerate(testloader):\n",
    "                \n",
    "                images = images.resize_(images.size()[0], 784)\n",
    "                inputs = Variable(images, volatile=True)\n",
    "                \n",
    "                predicted = net.predict(inputs).data\n",
    "                equality = (labels == predicted.max(1)[1])\n",
    "                accuracy += equality.type_as(torch.FloatTensor()).mean()\n",
    "            \n",
    "            print(\"Epoch: {}/{}\".format(e+1, epochs),\n",
    "                  \"Loss: {:.4f}\".format(running_loss/print_every),\n",
    "                  \"Test accuracy: {:.4f}\".format(accuracy/(ii+1)))\n",
    "            running_loss = 0"
   ]
  },
  {
   "cell_type": "code",
   "execution_count": 42,
   "metadata": {
    "collapsed": true
   },
   "outputs": [],
   "source": [
    "dataiter = iter(testloader)\n",
    "images, labels = dataiter.next()"
   ]
  },
  {
   "cell_type": "code",
   "execution_count": 43,
   "metadata": {},
   "outputs": [
    {
     "data": {
      "text/plain": [
       "<matplotlib.image.AxesImage at 0x7f29341d7160>"
      ]
     },
     "execution_count": 43,
     "metadata": {},
     "output_type": "execute_result"
    },
    {
     "data": {
      "image/png": "[encoded data removed]",
      "text/plain": [
       "<matplotlib.figure.Figure at 0x7f29056e5a90>"
      ]
     },
     "metadata": {
      "image/png": {
       "height": 250,
       "width": 253
      }
     },
     "output_type": "display_data"
    }
   ],
   "source": [
    "plt.imshow(images[0].numpy().squeeze())"
   ]
  },
  {
   "cell_type": "code",
   "execution_count": 44,
   "metadata": {},
   "outputs": [
    {
     "name": "stdout",
     "output_type": "stream",
     "text": [
      "Predicted digit: 6\n"
     ]
    }
   ],
   "source": [
    "ps = net.predict(Variable(images[0].resize_(1, 784))).data.numpy()\n",
    "print(\"Predicted digit: {}\".format(ps.argmax()))"
   ]
  },
  {
   "cell_type": "markdown",
   "metadata": {},
   "source": [
    "## Convolutional Networks\n",
    "\n",
    "Next we'll check out how to build a convolutional network to classify MNIST images. It's pretty much the same as before, but we use `nn.Conv2d` for the convolutional layers and `nn.MaxPool2d` for the max-pooling layer. (Although max-pooling has fallen out of favor recently, but this is traditional so let's stick with it.)\n",
    "\n",
    "So here I'll build a convolutional network with two convolutional layers, with ReLU activations, and max-pooling after each. The first convolutional layer will have a depth of 8, use 3x3 kernels, with a stride of 1 (so no downsampling). The second convolutional layer will have a depth of 16, use 3x3 kernels, and a stride of 1 again. Both layers with have \"same\" padding, but it's done differently here than in TensorFlow. Instead of saying we want \"same\" padding and letting the framework pad the input tensors, we define how much padding we want on the tensors. The padding should be set to 1 then, since we are using 3x3 kernels and we want the center of the kernel to lie on the edges of the images. Then, there will be one pixel of the kernel falling over the edge of the images.\n",
    "\n",
    "We'll flatten the final convolutional layer and pass it to a fully connected layer. We can change the shape of the Variable `x` with `x.view`. This is then passed to the fully connected layer, which then goes to the output layer with 10 units."
   ]
  },
  {
   "cell_type": "code",
   "execution_count": 38,
   "metadata": {},
   "outputs": [],
   "source": [
    "class ConvNet(nn.Module):\n",
    "    def __init__(self, n_conv1=10, n_conv2=20):\n",
    "        super().__init__()\n",
    "        \n",
    "        self.n_conv1, self.n_conv2 = n_conv1, n_conv2\n",
    "        \n",
    "        # conv layer with depth n_conv1, 5x5 kernels, and \"same\" padding\n",
    "        self.conv1 = nn.Conv2d(1, n_conv1, 5, padding=2)\n",
    "        # conv layer with depth n_conv2, 3x3 kernels, and \"same\" padding\n",
    "        self.conv2 = nn.Conv2d(n_conv1, n_conv2, 5, padding=2)\n",
    "        self.pool = nn.MaxPool2d(2, 2)\n",
    "        \n",
    "        # The second convolutional layer will be 7x7x16, fc1 flattens it\n",
    "        self.fc1 = nn.Linear(n_conv2*7*7, 50)\n",
    "        #self.fc2 = nn.Linear(320, 50)\n",
    "        self.fc2 = nn.Linear(50, 10)\n",
    "    \n",
    "    def forward(self, x):\n",
    "        # First conv layer, then ReLU, then max-pooling\n",
    "        x = F.relu(self.pool(self.conv1(x)))\n",
    "        # Second conv layer, then ReLU, then max-pooling\n",
    "        x = F.relu(self.pool(self.conv2(x)))\n",
    "        # Flatten conv layer by reshaping\n",
    "        x = x.view(-1, self.n_conv2*7*7)\n",
    "        # Fully connected layers\n",
    "        x = F.relu(self.fc1(x))\n",
    "        x = self.fc2(x)\n",
    "        #x = F.relu(self.fc3(x))\n",
    "        \n",
    "        return x\n",
    "    \n",
    "    def predict(self, x):\n",
    "        logits = self.forward(x)\n",
    "        return F.softmax(logits)"
   ]
  },
  {
   "cell_type": "markdown",
   "metadata": {},
   "source": [
    "The training code for this is basically the same, except we aren't reshaping the images. You're still running images through the network to calculate the loss, getting the gradients, then updating the parameters. The code below trains the network on your CPU, which takes a bit. Feel free to just run it for a bit, we'll get to using the GPU next."
   ]
  },
  {
   "cell_type": "code",
   "execution_count": 7,
   "metadata": {
    "collapsed": true
   },
   "outputs": [],
   "source": [
    "import time"
   ]
  },
  {
   "cell_type": "code",
   "execution_count": 40,
   "metadata": {},
   "outputs": [
    {
     "name": "stdout",
     "output_type": "stream",
     "text": [
      "Epoch: 1/1.. Loss: 2.1266.. Test accuracy: 0.5473.. 0.0572 s/batch\n",
      "Epoch: 1/1.. Loss: 1.2436.. Test accuracy: 0.7634.. 0.0484 s/batch\n",
      "Epoch: 1/1.. Loss: 0.6640.. Test accuracy: 0.8247.. 0.0500 s/batch\n",
      "Epoch: 1/1.. Loss: 0.4540.. Test accuracy: 0.8736.. 0.0409 s/batch\n",
      "Epoch: 1/1.. Loss: 0.3851.. Test accuracy: 0.9046.. 0.0462 s/batch\n",
      "Epoch: 1/1.. Loss: 0.3399.. Test accuracy: 0.9180.. 0.0547 s/batch\n",
      "Epoch: 1/1.. Loss: 0.2781.. Test accuracy: 0.9212.. 0.0596 s/batch\n",
      "Epoch: 1/1.. Loss: 0.2842.. Test accuracy: 0.9283.. 0.0413 s/batch\n",
      "Epoch: 1/1.. Loss: 0.2330.. Test accuracy: 0.9340.. 0.0491 s/batch\n",
      "Epoch: 1/1.. Loss: 0.2259.. Test accuracy: 0.9454.. 0.0490 s/batch\n",
      "Epoch: 1/1.. Loss: 0.1855.. Test accuracy: 0.9539.. 0.0583 s/batch\n",
      "Epoch: 1/1.. Loss: 0.1790.. Test accuracy: 0.9529.. 0.0353 s/batch\n",
      "Epoch: 1/1.. Loss: 0.1491.. Test accuracy: 0.9552.. 0.0542 s/batch\n",
      "Epoch: 1/1.. Loss: 0.1532.. Test accuracy: 0.9607.. 0.0860 s/batch\n",
      "Epoch: 1/1.. Loss: 0.1495.. Test accuracy: 0.9651.. 0.0450 s/batch\n",
      "Epoch: 1/1.. Loss: 0.1352.. Test accuracy: 0.9641.. 0.0551 s/batch\n",
      "Epoch: 1/1.. Loss: 0.1303.. Test accuracy: 0.9615.. 0.0368 s/batch\n",
      "Epoch: 1/1.. Loss: 0.1193.. Test accuracy: 0.9688.. 0.0359 s/batch\n",
      "Epoch: 1/1.. Loss: 0.1200.. Test accuracy: 0.9671.. 0.0406 s/batch\n",
      "Epoch: 1/1.. Loss: 0.1300.. Test accuracy: 0.9706.. 0.0546 s/batch\n",
      "Epoch: 1/1.. Loss: 0.1082.. Test accuracy: 0.9719.. 0.0453 s/batch\n",
      "Epoch: 1/1.. Loss: 0.1075.. Test accuracy: 0.9724.. 0.0454 s/batch\n",
      "Epoch: 1/1.. Loss: 0.1040.. Test accuracy: 0.9716.. 0.0575 s/batch\n"
     ]
    }
   ],
   "source": [
    "net = ConvNet()\n",
    "criterion = nn.CrossEntropyLoss()\n",
    "optimizer = optim.Adam(net.parameters(), lr=0.001)\n",
    "\n",
    "trainloader.batch_size = 128\n",
    "\n",
    "epochs = 1\n",
    "steps = 0\n",
    "running_loss = 0\n",
    "print_every = 20\n",
    "for e in range(epochs):\n",
    "    start = time.time()\n",
    "    for images, labels in iter(trainloader):\n",
    "        \n",
    "        steps += 1\n",
    "\n",
    "        inputs = Variable(images)\n",
    "        targets = Variable(labels)\n",
    "        optimizer.zero_grad()\n",
    "        \n",
    "        output = net.forward(inputs)\n",
    "        loss = criterion(output, targets)\n",
    "        loss.backward()\n",
    "        optimizer.step()\n",
    "        \n",
    "        running_loss += loss.data[0]\n",
    "        \n",
    "        if steps % print_every == 0:\n",
    "            stop = time.time()\n",
    "            # Test accuracy\n",
    "            accuracy = 0\n",
    "            for ii, (images, labels) in enumerate(testloader):\n",
    "                \n",
    "                #images = images.resize_(images.size()[0], 784)\n",
    "                inputs = Variable(images, volatile=True)\n",
    "                \n",
    "                predicted = net.predict(inputs).data\n",
    "                equality = (labels == predicted.max(1)[1])\n",
    "                accuracy += equality.type_as(torch.FloatTensor()).mean()\n",
    "            \n",
    "            print(\"Epoch: {}/{}..\".format(e+1, epochs),\n",
    "                  \"Loss: {:.4f}..\".format(running_loss/print_every),\n",
    "                  \"Test accuracy: {:.4f}..\".format(accuracy/(ii+1)),\n",
    "                  \"{:.4f} s/batch\".format((stop - start)/print_every)\n",
    "                 )\n",
    "            running_loss = 0\n",
    "            start = time.time()"
   ]
  },
  {
   "cell_type": "markdown",
   "metadata": {},
   "source": [
    "## Speeding things up\n",
    "\n",
    "We can massively sped up our training by running the matrix operations on a GPU with CUDA. In PyTorch, we do this by sending the tensors to the GPU. First, you set the network to use the GPU with `net.cuda()`. Then, the input and target tensors are sent to the GPU, typically with some flag\n",
    "\n",
    "```\n",
    "if cuda == True:\n",
    "    inputs, targets = inputs.cuda(), targets.cuda()\n",
    "```\n",
    "\n",
    "And that's it. The output of the network will again be a tensor on the GPU, so to get it back to the CPU for further operations (such as with Numpy), you use `output = output.cpu()`."
   ]
  },
  {
   "cell_type": "code",
   "execution_count": 37,
   "metadata": {},
   "outputs": [
    {
     "name": "stdout",
     "output_type": "stream",
     "text": [
      "Epoch: 1/5.. Loss: 0.9319.. Test accuracy: 0.9140.. 0.0130 s/batch\n",
      "Epoch: 1/5.. Loss: 0.2401.. Test accuracy: 0.9546.. 0.0129 s/batch\n",
      "Epoch: 1/5.. Loss: 0.1467.. Test accuracy: 0.9678.. 0.0129 s/batch\n",
      "Epoch: 1/5.. Loss: 0.1217.. Test accuracy: 0.9708.. 0.0130 s/batch\n",
      "Epoch: 1/5.. Loss: 0.0955.. Test accuracy: 0.9747.. 0.0129 s/batch\n",
      "Epoch: 1/5.. Loss: 0.0913.. Test accuracy: 0.9815.. 0.0130 s/batch\n",
      "Epoch: 1/5.. Loss: 0.0788.. Test accuracy: 0.9811.. 0.0130 s/batch\n",
      "Epoch: 1/5.. Loss: 0.0684.. Test accuracy: 0.9789.. 0.0130 s/batch\n",
      "Epoch: 1/5.. Loss: 0.0614.. Test accuracy: 0.9835.. 0.0130 s/batch\n",
      "Epoch: 2/5.. Loss: 0.0589.. Test accuracy: 0.9856.. 0.0080 s/batch\n",
      "Epoch: 2/5.. Loss: 0.0552.. Test accuracy: 0.9855.. 0.0130 s/batch\n",
      "Epoch: 2/5.. Loss: 0.0592.. Test accuracy: 0.9850.. 0.0129 s/batch\n",
      "Epoch: 2/5.. Loss: 0.0508.. Test accuracy: 0.9833.. 0.0129 s/batch\n",
      "Epoch: 2/5.. Loss: 0.0544.. Test accuracy: 0.9873.. 0.0129 s/batch\n",
      "Epoch: 2/5.. Loss: 0.0493.. Test accuracy: 0.9887.. 0.0130 s/batch\n",
      "Epoch: 2/5.. Loss: 0.0424.. Test accuracy: 0.9869.. 0.0130 s/batch\n",
      "Epoch: 2/5.. Loss: 0.0492.. Test accuracy: 0.9855.. 0.0130 s/batch\n",
      "Epoch: 2/5.. Loss: 0.0413.. Test accuracy: 0.9856.. 0.0129 s/batch\n",
      "Epoch: 3/5.. Loss: 0.0453.. Test accuracy: 0.9904.. 0.0031 s/batch\n",
      "Epoch: 3/5.. Loss: 0.0356.. Test accuracy: 0.9897.. 0.0130 s/batch\n",
      "Epoch: 3/5.. Loss: 0.0292.. Test accuracy: 0.9878.. 0.0130 s/batch\n",
      "Epoch: 3/5.. Loss: 0.0335.. Test accuracy: 0.9849.. 0.0130 s/batch\n",
      "Epoch: 3/5.. Loss: 0.0315.. Test accuracy: 0.9888.. 0.0130 s/batch\n",
      "Epoch: 3/5.. Loss: 0.0357.. Test accuracy: 0.9879.. 0.0130 s/batch\n",
      "Epoch: 3/5.. Loss: 0.0325.. Test accuracy: 0.9886.. 0.0130 s/batch\n",
      "Epoch: 3/5.. Loss: 0.0360.. Test accuracy: 0.9883.. 0.0130 s/batch\n",
      "Epoch: 3/5.. Loss: 0.0410.. Test accuracy: 0.9896.. 0.0130 s/batch\n",
      "Epoch: 3/5.. Loss: 0.0391.. Test accuracy: 0.9895.. 0.0130 s/batch\n",
      "Epoch: 4/5.. Loss: 0.0262.. Test accuracy: 0.9907.. 0.0112 s/batch\n",
      "Epoch: 4/5.. Loss: 0.0188.. Test accuracy: 0.9882.. 0.0130 s/batch\n",
      "Epoch: 4/5.. Loss: 0.0332.. Test accuracy: 0.9904.. 0.0129 s/batch\n",
      "Epoch: 4/5.. Loss: 0.0290.. Test accuracy: 0.9909.. 0.0130 s/batch\n",
      "Epoch: 4/5.. Loss: 0.0241.. Test accuracy: 0.9903.. 0.0130 s/batch\n",
      "Epoch: 4/5.. Loss: 0.0249.. Test accuracy: 0.9907.. 0.0130 s/batch\n",
      "Epoch: 4/5.. Loss: 0.0280.. Test accuracy: 0.9893.. 0.0130 s/batch\n",
      "Epoch: 4/5.. Loss: 0.0332.. Test accuracy: 0.9897.. 0.0130 s/batch\n",
      "Epoch: 4/5.. Loss: 0.0248.. Test accuracy: 0.9904.. 0.0129 s/batch\n",
      "Epoch: 5/5.. Loss: 0.0201.. Test accuracy: 0.9902.. 0.0062 s/batch\n",
      "Epoch: 5/5.. Loss: 0.0180.. Test accuracy: 0.9912.. 0.0129 s/batch\n",
      "Epoch: 5/5.. Loss: 0.0208.. Test accuracy: 0.9896.. 0.0129 s/batch\n",
      "Epoch: 5/5.. Loss: 0.0209.. Test accuracy: 0.9910.. 0.0129 s/batch\n",
      "Epoch: 5/5.. Loss: 0.0195.. Test accuracy: 0.9894.. 0.0130 s/batch\n",
      "Epoch: 5/5.. Loss: 0.0182.. Test accuracy: 0.9891.. 0.0130 s/batch\n",
      "Epoch: 5/5.. Loss: 0.0215.. Test accuracy: 0.9889.. 0.0130 s/batch\n",
      "Epoch: 5/5.. Loss: 0.0214.. Test accuracy: 0.9883.. 0.0129 s/batch\n",
      "Epoch: 5/5.. Loss: 0.0211.. Test accuracy: 0.9902.. 0.0130 s/batch\n"
     ]
    }
   ],
   "source": [
    "net = ConvNet()\n",
    "criterion = nn.CrossEntropyLoss()\n",
    "optimizer = optim.Adam(net.parameters(), lr=0.001)\n",
    "\n",
    "net.cuda()\n",
    "\n",
    "trainloader.batch_size = 128\n",
    "epochs = 5\n",
    "steps = 0\n",
    "running_loss = 0\n",
    "print_every = 50\n",
    "for e in range(epochs):\n",
    "    start = time.time()\n",
    "    for images, labels in iter(trainloader):\n",
    "        \n",
    "        steps += 1\n",
    "\n",
    "        inputs = Variable(images)\n",
    "        targets = Variable(labels)\n",
    "        \n",
    "        inputs, targets = inputs.cuda(), targets.cuda()\n",
    "        \n",
    "        optimizer.zero_grad()\n",
    "        \n",
    "        output = net.forward(inputs)\n",
    "        loss = criterion(output, targets)\n",
    "        loss.backward()\n",
    "        optimizer.step()\n",
    "        \n",
    "        running_loss += loss.data[0]\n",
    "        \n",
    "        if steps % print_every == 0:\n",
    "            stop = time.time()\n",
    "            # Test accuracy\n",
    "            accuracy = 0\n",
    "            for ii, (images, labels) in enumerate(testloader):\n",
    "                \n",
    "                inputs = Variable(images, volatile=True)\n",
    "                \n",
    "                inputs = inputs.cuda()\n",
    "                \n",
    "                # Get the class prediction and bring it back to the CPU\n",
    "                predicted = net.predict(inputs).data.cpu()\n",
    "                equality = (labels == predicted.max(1)[1])\n",
    "                accuracy += equality.type_as(torch.FloatTensor()).mean()\n",
    "            \n",
    "            print(\"Epoch: {}/{}..\".format(e+1, epochs),\n",
    "                  \"Loss: {:.4f}..\".format(running_loss/print_every),\n",
    "                  \"Test accuracy: {:.4f}..\".format(accuracy/(ii+1)),\n",
    "                  \"{:.4f} s/batch\".format((stop - start)/print_every)\n",
    "                 )\n",
    "            running_loss = 0\n",
    "            start = time.time()"
   ]
  }
 ],
 "metadata": {
  "kernelspec": {
   "display_name": "Python 3",
   "language": "python",
   "name": "python3"
  },
  "language_info": {
   "codemirror_mode": {
    "name": "ipython",
    "version": 3
   },
   "file_extension": ".py",
   "mimetype": "text/x-python",
   "name": "python",
   "nbconvert_exporter": "python",
   "pygments_lexer": "ipython3",
   "version": "3.6.1"
  }
 },
 "nbformat": 4,
 "nbformat_minor": 2
}
