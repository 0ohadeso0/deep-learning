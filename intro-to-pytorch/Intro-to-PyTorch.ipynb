{
 "cells": [
  {
   "cell_type": "markdown",
   "metadata": {},
   "source": [
    "# Introduction to PyTorch\n",
    "\n",
    "In this notebook, you'll get introduced to PyTorch, a framework for building and training neural networks. PyTorch in a lot of ways behaves like the arrays you love from Numpy. These Numpy arrays, after all, are just tensors. PyTorch takes these tensors and makes it simple to move them to GPUs for the faster processing needed when training neural networks. It also provides a module that automatically calculates gradients (for backpropagation!) and another module specifically for building neural networks. All together, PyTorch ends up being more coherent with Python and the Numpy/Scipy stack, compared to TensorFlow and other frameworks.\n",
    "\n",
    "Here I'll show you how to train a fully connected network and a convolutional network on MNIST. Along the way, you'll learn how to work with tensors in PyTorch and how to calculate gradients. First off, import some modules. We'll import `torch` itself, as well as `torchvision` which will let us get the MNIST dataset super easy."
   ]
  },
  {
   "cell_type": "code",
   "execution_count": 1,
   "metadata": {
    "collapsed": true
   },
   "outputs": [],
   "source": [
    "%matplotlib inline\n",
    "%config InlineBackend.figure_format = 'retina'\n",
    "\n",
    "import numpy as np\n",
    "\n",
    "import torch"
   ]
  },
  {
   "cell_type": "markdown",
   "metadata": {},
   "source": [
    "First, let's see how we work with PyTorch tensors."
   ]
  },
  {
   "cell_type": "code",
   "execution_count": 2,
   "metadata": {},
   "outputs": [
    {
     "data": {
      "text/plain": [
       "\n",
       " 0.7073  0.1391\n",
       " 0.0471  0.9953\n",
       " 0.2150  0.9712\n",
       "[torch.FloatTensor of size 3x2]"
      ]
     },
     "execution_count": 2,
     "metadata": {},
     "output_type": "execute_result"
    }
   ],
   "source": [
    "x = torch.rand(3, 2)\n",
    "x"
   ]
  },
  {
   "cell_type": "code",
   "execution_count": 3,
   "metadata": {},
   "outputs": [
    {
     "data": {
      "text/plain": [
       "\n",
       " 1  1\n",
       " 1  1\n",
       " 1  1\n",
       "[torch.FloatTensor of size 3x2]"
      ]
     },
     "execution_count": 3,
     "metadata": {},
     "output_type": "execute_result"
    }
   ],
   "source": [
    "y = torch.ones(x.size())\n",
    "y"
   ]
  },
  {
   "cell_type": "code",
   "execution_count": 4,
   "metadata": {},
   "outputs": [
    {
     "data": {
      "text/plain": [
       "\n",
       " 1.7073  1.1391\n",
       " 1.0471  1.9953\n",
       " 1.2150  1.9712\n",
       "[torch.FloatTensor of size 3x2]"
      ]
     },
     "execution_count": 4,
     "metadata": {},
     "output_type": "execute_result"
    }
   ],
   "source": [
    "z = x + y\n",
    "z"
   ]
  },
  {
   "cell_type": "markdown",
   "metadata": {},
   "source": [
    "In general PyTorch tensors behave similar to Numpy arrays. They are zero indexed and support slicing."
   ]
  },
  {
   "cell_type": "code",
   "execution_count": 5,
   "metadata": {},
   "outputs": [
    {
     "data": {
      "text/plain": [
       "\n",
       " 1.7073\n",
       " 1.1391\n",
       "[torch.FloatTensor of size 2]"
      ]
     },
     "execution_count": 5,
     "metadata": {},
     "output_type": "execute_result"
    }
   ],
   "source": [
    "z[0]"
   ]
  },
  {
   "cell_type": "code",
   "execution_count": 6,
   "metadata": {},
   "outputs": [
    {
     "data": {
      "text/plain": [
       "\n",
       " 1.1391\n",
       " 1.9953\n",
       " 1.9712\n",
       "[torch.FloatTensor of size 3x1]"
      ]
     },
     "execution_count": 6,
     "metadata": {},
     "output_type": "execute_result"
    }
   ],
   "source": [
    "z[:, 1:]"
   ]
  },
  {
   "cell_type": "markdown",
   "metadata": {},
   "source": [
    "Tensors typically have two forms of methods, one method that returns another tensor and another method that performs the operation in place. That is, the values in memory for that tensor are changed without creating a new tensor. In-place functions are always followed by an underscore, for example `z.add()` and `z.add_()`."
   ]
  },
  {
   "cell_type": "code",
   "execution_count": 7,
   "metadata": {},
   "outputs": [
    {
     "data": {
      "text/plain": [
       "\n",
       " 2.7073  2.1391\n",
       " 2.0471  2.9953\n",
       " 2.2150  2.9712\n",
       "[torch.FloatTensor of size 3x2]"
      ]
     },
     "execution_count": 7,
     "metadata": {},
     "output_type": "execute_result"
    }
   ],
   "source": [
    "# Return a new tensor with the cosines of z\n",
    "z.add(1)"
   ]
  },
  {
   "cell_type": "code",
   "execution_count": 8,
   "metadata": {},
   "outputs": [
    {
     "data": {
      "text/plain": [
       "\n",
       " 1.7073  1.1391\n",
       " 1.0471  1.9953\n",
       " 1.2150  1.9712\n",
       "[torch.FloatTensor of size 3x2]"
      ]
     },
     "execution_count": 8,
     "metadata": {},
     "output_type": "execute_result"
    }
   ],
   "source": [
    "# z tensor is unchanged\n",
    "z"
   ]
  },
  {
   "cell_type": "code",
   "execution_count": 9,
   "metadata": {},
   "outputs": [
    {
     "data": {
      "text/plain": [
       "\n",
       " 2.7073  2.1391\n",
       " 2.0471  2.9953\n",
       " 2.2150  2.9712\n",
       "[torch.FloatTensor of size 3x2]"
      ]
     },
     "execution_count": 9,
     "metadata": {},
     "output_type": "execute_result"
    }
   ],
   "source": [
    "# Calculate cosines and update z tensor in-place\n",
    "z.add_(1)"
   ]
  },
  {
   "cell_type": "code",
   "execution_count": 10,
   "metadata": {},
   "outputs": [
    {
     "data": {
      "text/plain": [
       "\n",
       " 2.7073  2.1391\n",
       " 2.0471  2.9953\n",
       " 2.2150  2.9712\n",
       "[torch.FloatTensor of size 3x2]"
      ]
     },
     "execution_count": 10,
     "metadata": {},
     "output_type": "execute_result"
    }
   ],
   "source": [
    "# z has been updated\n",
    "z"
   ]
  },
  {
   "cell_type": "markdown",
   "metadata": {},
   "source": [
    "### Reshaping\n",
    "\n",
    "Reshaping tensors is a really common operation. First to get the size and shape of tensor use `.size()`. Then, to reshape a tensor, use `.resize_()`. Notice the underscore, reshaping is an in-place operation."
   ]
  },
  {
   "cell_type": "code",
   "execution_count": 11,
   "metadata": {},
   "outputs": [
    {
     "data": {
      "text/plain": [
       "torch.Size([3, 2])"
      ]
     },
     "execution_count": 11,
     "metadata": {},
     "output_type": "execute_result"
    }
   ],
   "source": [
    "z.size()"
   ]
  },
  {
   "cell_type": "code",
   "execution_count": 12,
   "metadata": {},
   "outputs": [
    {
     "data": {
      "text/plain": [
       "\n",
       " 2.7073  2.1391  2.0471\n",
       " 2.9953  2.2150  2.9712\n",
       "[torch.FloatTensor of size 2x3]"
      ]
     },
     "execution_count": 12,
     "metadata": {},
     "output_type": "execute_result"
    }
   ],
   "source": [
    "z.resize_(2, 3)"
   ]
  },
  {
   "cell_type": "code",
   "execution_count": 13,
   "metadata": {},
   "outputs": [
    {
     "data": {
      "text/plain": [
       "\n",
       " 2.7073  2.1391  2.0471\n",
       " 2.9953  2.2150  2.9712\n",
       "[torch.FloatTensor of size 2x3]"
      ]
     },
     "execution_count": 13,
     "metadata": {},
     "output_type": "execute_result"
    }
   ],
   "source": [
    "z"
   ]
  },
  {
   "cell_type": "markdown",
   "metadata": {},
   "source": [
    "## Numpy to Torch and back\n",
    "\n",
    "Converting between Numpy arrays and Torch tensors is super simple and useful. To create a tensor from a Numpy array, use `torch.from_numpy()`. To convert a tensor to a Numpy array, use the `.numpy()` method."
   ]
  },
  {
   "cell_type": "code",
   "execution_count": 14,
   "metadata": {},
   "outputs": [
    {
     "data": {
      "text/plain": [
       "array([[ 0.48796677,  0.26129878,  0.81625499],\n",
       "       [ 0.33171955,  0.09309471,  0.8326585 ],\n",
       "       [ 0.02365233,  0.86461055,  0.17049226],\n",
       "       [ 0.07009004,  0.59208774,  0.96806142]])"
      ]
     },
     "execution_count": 14,
     "metadata": {},
     "output_type": "execute_result"
    }
   ],
   "source": [
    "a = np.random.rand(4,3)\n",
    "a"
   ]
  },
  {
   "cell_type": "code",
   "execution_count": 15,
   "metadata": {},
   "outputs": [
    {
     "data": {
      "text/plain": [
       "\n",
       " 0.4880  0.2613  0.8163\n",
       " 0.3317  0.0931  0.8327\n",
       " 0.0237  0.8646  0.1705\n",
       " 0.0701  0.5921  0.9681\n",
       "[torch.DoubleTensor of size 4x3]"
      ]
     },
     "execution_count": 15,
     "metadata": {},
     "output_type": "execute_result"
    }
   ],
   "source": [
    "b = torch.from_numpy(a)\n",
    "b"
   ]
  },
  {
   "cell_type": "code",
   "execution_count": 16,
   "metadata": {},
   "outputs": [
    {
     "data": {
      "text/plain": [
       "array([[ 0.48796677,  0.26129878,  0.81625499],\n",
       "       [ 0.33171955,  0.09309471,  0.8326585 ],\n",
       "       [ 0.02365233,  0.86461055,  0.17049226],\n",
       "       [ 0.07009004,  0.59208774,  0.96806142]])"
      ]
     },
     "execution_count": 16,
     "metadata": {},
     "output_type": "execute_result"
    }
   ],
   "source": [
    "b.numpy()"
   ]
  },
  {
   "cell_type": "markdown",
   "metadata": {},
   "source": [
    "The memory is shared between the Numpy array and Torch tensor, so if you change the values in-place of one object, the other will change as well."
   ]
  },
  {
   "cell_type": "code",
   "execution_count": 17,
   "metadata": {},
   "outputs": [
    {
     "data": {
      "text/plain": [
       "\n",
       " 0.9759  0.5226  1.6325\n",
       " 0.6634  0.1862  1.6653\n",
       " 0.0473  1.7292  0.3410\n",
       " 0.1402  1.1842  1.9361\n",
       "[torch.DoubleTensor of size 4x3]"
      ]
     },
     "execution_count": 17,
     "metadata": {},
     "output_type": "execute_result"
    }
   ],
   "source": [
    "b.mul_(2)"
   ]
  },
  {
   "cell_type": "code",
   "execution_count": 18,
   "metadata": {},
   "outputs": [
    {
     "data": {
      "text/plain": [
       "array([[ 0.97593353,  0.52259756,  1.63250998],\n",
       "       [ 0.6634391 ,  0.18618941,  1.66531699],\n",
       "       [ 0.04730466,  1.7292211 ,  0.34098453],\n",
       "       [ 0.14018008,  1.18417548,  1.93612284]])"
      ]
     },
     "execution_count": 18,
     "metadata": {},
     "output_type": "execute_result"
    }
   ],
   "source": [
    "a"
   ]
  },
  {
   "cell_type": "markdown",
   "metadata": {},
   "source": [
    "## Autograd\n",
    "\n",
    "Torch provides a module, `autograd`, for automatically calculating the gradient of tensors. It does this by keeping track of operations performed on tensors. For PyTorch to keep track of operations, you need to wrap a tensor with the `Variable` class from `torch.autograd`. You can get the tensor back with the `.data` attribute of the Variable.\n",
    "\n",
    "The gradients are computed with respect to some variable `z` with `z.backward()`. This does a backward pass through the operations the created `z`."
   ]
  },
  {
   "cell_type": "code",
   "execution_count": 19,
   "metadata": {
    "collapsed": true
   },
   "outputs": [],
   "source": [
    "from torch.autograd import Variable"
   ]
  },
  {
   "cell_type": "code",
   "execution_count": 20,
   "metadata": {},
   "outputs": [
    {
     "data": {
      "text/plain": [
       "Variable containing:\n",
       " 1  1\n",
       " 1  1\n",
       "[torch.FloatTensor of size 2x2]"
      ]
     },
     "execution_count": 20,
     "metadata": {},
     "output_type": "execute_result"
    }
   ],
   "source": [
    "x = torch.ones(2,2)\n",
    "x = Variable(x, requires_grad=True)\n",
    "x"
   ]
  },
  {
   "cell_type": "code",
   "execution_count": 21,
   "metadata": {},
   "outputs": [
    {
     "data": {
      "text/plain": [
       "Variable containing:\n",
       " 12  12\n",
       " 12  12\n",
       "[torch.FloatTensor of size 2x2]"
      ]
     },
     "execution_count": 21,
     "metadata": {},
     "output_type": "execute_result"
    }
   ],
   "source": [
    "y = 3*(x+1)**2\n",
    "y"
   ]
  },
  {
   "cell_type": "markdown",
   "metadata": {},
   "source": [
    "Below we can see the operation that created `y`, a `MulConstant` op."
   ]
  },
  {
   "cell_type": "code",
   "execution_count": 22,
   "metadata": {},
   "outputs": [
    {
     "data": {
      "text/plain": [
       "<torch.autograd._functions.basic_ops.MulConstant at 0x112547e48>"
      ]
     },
     "execution_count": 22,
     "metadata": {},
     "output_type": "execute_result"
    }
   ],
   "source": [
    "y.creator"
   ]
  },
  {
   "cell_type": "code",
   "execution_count": 23,
   "metadata": {},
   "outputs": [
    {
     "data": {
      "text/plain": [
       "Variable containing:\n",
       " 12\n",
       "[torch.FloatTensor of size 1]"
      ]
     },
     "execution_count": 23,
     "metadata": {},
     "output_type": "execute_result"
    }
   ],
   "source": [
    "z = y.mean()\n",
    "z"
   ]
  },
  {
   "cell_type": "markdown",
   "metadata": {},
   "source": [
    "Again, we can check out how `z` was created, with a `Mean` operation."
   ]
  },
  {
   "cell_type": "code",
   "execution_count": 24,
   "metadata": {},
   "outputs": [
    {
     "data": {
      "text/plain": [
       "<torch.autograd._functions.reduce.Mean at 0x112547d68>"
      ]
     },
     "execution_count": 24,
     "metadata": {},
     "output_type": "execute_result"
    }
   ],
   "source": [
    "z.creator"
   ]
  },
  {
   "cell_type": "markdown",
   "metadata": {},
   "source": [
    "Since we haven't perforwmed a backward pass, `x` doesn't have a gradient yet."
   ]
  },
  {
   "cell_type": "code",
   "execution_count": 25,
   "metadata": {
    "collapsed": true
   },
   "outputs": [],
   "source": [
    "x.grad"
   ]
  },
  {
   "cell_type": "markdown",
   "metadata": {},
   "source": [
    "Now we can calculate the gradients of `z` with respect to `x` with `z.backward()`."
   ]
  },
  {
   "cell_type": "code",
   "execution_count": 26,
   "metadata": {
    "collapsed": true
   },
   "outputs": [],
   "source": [
    "z.backward()"
   ]
  },
  {
   "cell_type": "code",
   "execution_count": 27,
   "metadata": {},
   "outputs": [
    {
     "data": {
      "text/plain": [
       "Variable containing:\n",
       " 3  3\n",
       " 3  3\n",
       "[torch.FloatTensor of size 2x2]"
      ]
     },
     "execution_count": 27,
     "metadata": {},
     "output_type": "execute_result"
    }
   ],
   "source": [
    "x.grad"
   ]
  },
  {
   "cell_type": "markdown",
   "metadata": {},
   "source": [
    "These gradients calculations are particularly useful for neural networks. For training we need the gradients of the weights with respect to the cost. With PyTorch, we run data forward through the network to calculate the cost, then, go backwards to calculate the gradients with respect to the cost. Once we have the gradients we can make a gradient descent step. \n",
    "\n",
    "## Classifying MNIST with PyTorch\n",
    "\n",
    "Next I'll show you how to use this pattern to build a neural network with PyTorch. First up, we need to get our dataset. This is provided through the `torchvision` package. The code below will download the MNIST dataset, then create train and test datasets for us."
   ]
  },
  {
   "cell_type": "code",
   "execution_count": 28,
   "metadata": {
    "collapsed": true
   },
   "outputs": [],
   "source": [
    "%matplotlib inline\n",
    "\n",
    "import matplotlib.pyplot as plt\n",
    "from torchvision import datasets, transforms"
   ]
  },
  {
   "cell_type": "code",
   "execution_count": 29,
   "metadata": {
    "collapsed": true
   },
   "outputs": [],
   "source": [
    "transform = transforms.Compose([transforms.ToTensor(),\n",
    "                              transforms.Normalize((0.5, 0.5, 0.5), (0.5, 0.5, 0.5)),\n",
    "                             ])\n",
    "trainset = datasets.MNIST('MNIST_data/', download=True, train=True, transform=transform)\n",
    "trainloader = torch.utils.data.DataLoader(trainset, batch_size=64, shuffle=True)\n",
    "\n",
    "testset = datasets.MNIST('MNIST_data/', download=True, train=False, transform=transform)\n",
    "testloader = torch.utils.data.DataLoader(testset, batch_size=64, shuffle=True)"
   ]
  },
  {
   "cell_type": "code",
   "execution_count": 30,
   "metadata": {
    "collapsed": true
   },
   "outputs": [],
   "source": [
    "dataiter = iter(trainloader)\n",
    "images, labels = dataiter.next()"
   ]
  },
  {
   "cell_type": "markdown",
   "metadata": {},
   "source": [
    "We have the training data loaded into `trainloader` and we make that an iterator with `iter(trainloader)`. We'd use this to loop through the dataset for training, but here I'm just grabbing the first batch so we can check out the data. We can see below that `images` is just a tensor with size (10, 1, 28, 28). So, 10 images per batch, 1 color channel, and 28x28 images."
   ]
  },
  {
   "cell_type": "code",
   "execution_count": 31,
   "metadata": {},
   "outputs": [
    {
     "data": {
      "text/plain": [
       "torch.Size([64, 1, 28, 28])"
      ]
     },
     "execution_count": 31,
     "metadata": {},
     "output_type": "execute_result"
    }
   ],
   "source": [
    "images.size()"
   ]
  },
  {
   "cell_type": "code",
   "execution_count": 32,
   "metadata": {},
   "outputs": [
    {
     "data": {
      "text/plain": [
       "<matplotlib.image.AxesImage at 0x112604780>"
      ]
     },
     "execution_count": 32,
     "metadata": {},
     "output_type": "execute_result"
    },
    {
     "data": {
      "image/png": "[encoded data removed]",
      "text/plain": [
       "<matplotlib.figure.Figure at 0x112646080>"
      ]
     },
     "metadata": {
      "image/png": {
       "height": 250,
       "width": 253
      }
     },
     "output_type": "display_data"
    }
   ],
   "source": [
    "plt.imshow(images[2].numpy().squeeze(), cmap='Greys_r')"
   ]
  },
  {
   "cell_type": "markdown",
   "metadata": {},
   "source": [
    "## Building networks with PyTorch\n",
    "\n",
    "Here I'll use PyTorch to build a simple feedfoward network to classify the MNIST images. This network will be trained on the dataset, then we can use it to classify the test images.\n",
    "\n",
    "To build a neural network with PyTorch, you use the `torch.nn` module. The network itself is a class inheriting from `torch.nn.Module`. You define each of the operations separately, like `nn.Linear(784, 200)` for a fully connected linear layer with 784 inputs and 200 units.\n",
    "\n",
    "The class needs to include a `forward` method that implements the forward pass through the network. In this method, you pass some input tensor `x` through each of the operations you defined earlier. The `torch.nn` module also has functional equivalents for things like ReLUs in `torch.nn.functional`. This module is usually imported as `F`. Then to use a ReLU activation on some layer (which is just a tensor), you'd do `F.relu(x)`.\n",
    "\n",
    "So, for this network, I'll build it with three fully connected layers, then a softmax output for predicting."
   ]
  },
  {
   "cell_type": "code",
   "execution_count": 37,
   "metadata": {},
   "outputs": [
    {
     "data": {
      "text/plain": [
       "Network (\n",
       "  (fc1): Linear (784 -> 200)\n",
       "  (fc2): Linear (200 -> 50)\n",
       "  (fc3): Linear (50 -> 10)\n",
       ")"
      ]
     },
     "execution_count": 37,
     "metadata": {},
     "output_type": "execute_result"
    }
   ],
   "source": [
    "from torch import nn\n",
    "from torch import optim\n",
    "import torch.nn.functional as F\n",
    "\n",
    "class Network(nn.Module):\n",
    "    def __init__(self):\n",
    "        super().__init__()\n",
    "        # Defining the layers, 200, 50, 10 units each\n",
    "        self.fc1 = nn.Linear(784, 200)\n",
    "        self.fc2 = nn.Linear(200, 50)\n",
    "        # Output layer, 10 units - one for each digit\n",
    "        self.fc3 = nn.Linear(50, 10)\n",
    "        \n",
    "    def forward(self, x):\n",
    "        ''' Forward pass through the network, returns the output logits '''\n",
    "        \n",
    "        x = self.fc1(x)\n",
    "        x = F.relu(x)\n",
    "        x = self.fc2(x)\n",
    "        x = F.relu(x)\n",
    "        x = self.fc3(x)\n",
    "        \n",
    "        return x\n",
    "    \n",
    "    def predict(self, x):\n",
    "        ''' This function for predicts classes by calculating the softmax '''\n",
    "        logits = self.forward(x)\n",
    "        return F.softmax(logits)\n",
    "\n",
    "net = Network()\n",
    "net"
   ]
  },
  {
   "cell_type": "markdown",
   "metadata": {},
   "source": [
    "### Initializing weights and biases\n",
    "\n",
    "The weights and such are automatically initialized for you, but it's possible to customize how they are initialized. The weights and biases are tensors attached to the layer you defined, you can get them with `net.fc1.weight` for instance."
   ]
  },
  {
   "cell_type": "code",
   "execution_count": 38,
   "metadata": {},
   "outputs": [
    {
     "name": "stdout",
     "output_type": "stream",
     "text": [
      "Parameter containing:\n",
      "-2.4226e-02  6.9044e-03  1.1659e-02  ...   1.9245e-02 -1.8181e-02  2.0496e-02\n",
      "-2.2920e-02 -4.7067e-03  2.4595e-02  ...   7.3462e-03 -2.1871e-02 -3.5240e-02\n",
      "-6.6898e-03  1.5021e-03  2.0945e-02  ...  -3.2484e-03 -2.8591e-02 -1.1528e-02\n",
      "                ...                   ⋱                   ...                \n",
      "-2.8975e-02  8.3719e-04  3.3532e-02  ...   8.2389e-03 -3.6922e-03 -2.9158e-02\n",
      "-1.5615e-02  1.9209e-02  5.2573e-03  ...  -2.0498e-02  8.5722e-03 -9.1185e-03\n",
      " 3.5621e-02 -2.2785e-02 -3.7876e-03  ...  -7.5407e-03 -6.8937e-03  3.2289e-02\n",
      "[torch.FloatTensor of size 200x784]\n",
      "\n",
      "Parameter containing:\n",
      "1.00000e-02 *\n",
      " -1.9751\n",
      "  0.8352\n",
      "  1.8270\n",
      " -2.7052\n",
      " -0.1396\n",
      "  3.3046\n",
      "  1.0847\n",
      "  0.1046\n",
      "  1.6102\n",
      "  2.8276\n",
      "  1.6391\n",
      "  1.5929\n",
      " -1.5353\n",
      "  1.0582\n",
      "  1.2682\n",
      " -1.5305\n",
      " -0.9016\n",
      "  0.4086\n",
      " -2.1488\n",
      "  3.2304\n",
      "  1.4387\n",
      "  1.0851\n",
      " -2.0420\n",
      " -2.6827\n",
      " -2.9923\n",
      " -2.7464\n",
      "  0.0691\n",
      " -2.7820\n",
      " -0.2831\n",
      "  2.9114\n",
      " -1.7368\n",
      " -0.8774\n",
      " -0.3693\n",
      "  3.1061\n",
      "  3.2528\n",
      "  2.5780\n",
      "  2.8321\n",
      "  1.2452\n",
      "  3.0221\n",
      " -0.7264\n",
      " -1.8881\n",
      " -2.1227\n",
      "  1.7828\n",
      "  2.7377\n",
      "  0.6456\n",
      " -1.4159\n",
      " -3.1436\n",
      "  1.3002\n",
      " -3.2408\n",
      "  1.7849\n",
      "  2.9251\n",
      "  0.8707\n",
      " -2.1409\n",
      " -2.3594\n",
      " -1.9061\n",
      "  0.1839\n",
      "  1.1384\n",
      "  2.0328\n",
      " -3.2341\n",
      "  2.8451\n",
      "  3.4002\n",
      " -0.9145\n",
      " -3.4197\n",
      "  3.3791\n",
      "  2.2852\n",
      " -2.5310\n",
      "  2.7606\n",
      " -2.0456\n",
      " -2.4291\n",
      "  0.2421\n",
      " -2.2185\n",
      " -2.2774\n",
      "  3.5422\n",
      "  1.2511\n",
      "  2.4606\n",
      " -2.3787\n",
      "  0.6885\n",
      "  0.5641\n",
      " -3.3422\n",
      "  1.0239\n",
      "  2.1332\n",
      " -3.4184\n",
      " -2.6684\n",
      "  3.5374\n",
      "  3.0435\n",
      " -2.1163\n",
      "  1.2608\n",
      "  0.9877\n",
      " -0.9423\n",
      "  2.6843\n",
      " -0.0039\n",
      "  2.3653\n",
      "  1.6999\n",
      "  0.8847\n",
      " -0.6157\n",
      "  1.6510\n",
      "  2.5532\n",
      "  0.5436\n",
      "  2.1082\n",
      "  2.9515\n",
      "  3.4219\n",
      "  3.0767\n",
      "  2.6234\n",
      " -2.5000\n",
      "  3.3986\n",
      "  2.1307\n",
      "  2.2924\n",
      "  3.1278\n",
      " -3.5027\n",
      " -0.1646\n",
      "  1.4732\n",
      " -0.6407\n",
      "  1.7000\n",
      "  3.1892\n",
      " -1.2905\n",
      " -0.9605\n",
      "  2.6703\n",
      "  1.1860\n",
      "  3.1122\n",
      "  1.1714\n",
      "  0.7990\n",
      "  2.7346\n",
      "  2.7327\n",
      "  0.1498\n",
      " -0.1104\n",
      "  2.0829\n",
      "  1.0005\n",
      "  1.9072\n",
      " -1.3176\n",
      "  0.3265\n",
      "  1.9649\n",
      " -0.7532\n",
      " -0.6143\n",
      " -1.5408\n",
      " -3.0557\n",
      " -1.2473\n",
      "  0.2533\n",
      "  2.4840\n",
      " -3.2045\n",
      " -1.1238\n",
      "  0.5601\n",
      "  1.9941\n",
      "  2.0664\n",
      "  1.7748\n",
      " -0.6860\n",
      " -1.2020\n",
      " -2.2378\n",
      "  1.5859\n",
      " -1.7242\n",
      "  2.1548\n",
      " -2.8163\n",
      " -1.0959\n",
      "  1.6023\n",
      " -3.0141\n",
      " -0.3385\n",
      "  0.0478\n",
      "  3.4900\n",
      "  0.2051\n",
      " -1.2841\n",
      "  2.5545\n",
      " -2.6688\n",
      "  0.5595\n",
      "  0.4857\n",
      " -1.5454\n",
      "  2.1199\n",
      " -2.0543\n",
      "  2.3587\n",
      "  2.1784\n",
      " -1.4712\n",
      " -3.0555\n",
      " -1.0114\n",
      "  2.7551\n",
      " -3.2510\n",
      "  0.5508\n",
      " -0.8654\n",
      " -0.9089\n",
      "  1.5077\n",
      "  2.0780\n",
      "  2.4561\n",
      "  2.2926\n",
      "  3.4524\n",
      "  1.0894\n",
      "  2.8848\n",
      "  2.6689\n",
      " -1.2379\n",
      "  2.9163\n",
      " -1.4062\n",
      "  2.8372\n",
      " -1.0658\n",
      "  2.6050\n",
      " -3.3420\n",
      " -0.4282\n",
      " -0.9406\n",
      "  0.3889\n",
      "  1.6569\n",
      " -1.4391\n",
      "  1.3505\n",
      "  0.1677\n",
      "  1.0662\n",
      "  0.0476\n",
      "[torch.FloatTensor of size 200]\n",
      "\n"
     ]
    }
   ],
   "source": [
    "print(net.fc1.weight)\n",
    "print(net.fc1.bias)"
   ]
  },
  {
   "cell_type": "markdown",
   "metadata": {},
   "source": [
    "For custom initialization, we want to modify these tensors in place. These are actually autograd *Variables*, so we need to get back the actual tensors with `net.fc1.weight.data`. Once we have the tensors, we can fill them with zeros (for biases) or random normal values."
   ]
  },
  {
   "cell_type": "code",
   "execution_count": 39,
   "metadata": {
    "scrolled": true
   },
   "outputs": [
    {
     "data": {
      "text/plain": [
       "\n",
       " 0\n",
       " 0\n",
       " 0\n",
       " 0\n",
       " 0\n",
       " 0\n",
       " 0\n",
       " 0\n",
       " 0\n",
       " 0\n",
       " 0\n",
       " 0\n",
       " 0\n",
       " 0\n",
       " 0\n",
       " 0\n",
       " 0\n",
       " 0\n",
       " 0\n",
       " 0\n",
       " 0\n",
       " 0\n",
       " 0\n",
       " 0\n",
       " 0\n",
       " 0\n",
       " 0\n",
       " 0\n",
       " 0\n",
       " 0\n",
       " 0\n",
       " 0\n",
       " 0\n",
       " 0\n",
       " 0\n",
       " 0\n",
       " 0\n",
       " 0\n",
       " 0\n",
       " 0\n",
       " 0\n",
       " 0\n",
       " 0\n",
       " 0\n",
       " 0\n",
       " 0\n",
       " 0\n",
       " 0\n",
       " 0\n",
       " 0\n",
       " 0\n",
       " 0\n",
       " 0\n",
       " 0\n",
       " 0\n",
       " 0\n",
       " 0\n",
       " 0\n",
       " 0\n",
       " 0\n",
       " 0\n",
       " 0\n",
       " 0\n",
       " 0\n",
       " 0\n",
       " 0\n",
       " 0\n",
       " 0\n",
       " 0\n",
       " 0\n",
       " 0\n",
       " 0\n",
       " 0\n",
       " 0\n",
       " 0\n",
       " 0\n",
       " 0\n",
       " 0\n",
       " 0\n",
       " 0\n",
       " 0\n",
       " 0\n",
       " 0\n",
       " 0\n",
       " 0\n",
       " 0\n",
       " 0\n",
       " 0\n",
       " 0\n",
       " 0\n",
       " 0\n",
       " 0\n",
       " 0\n",
       " 0\n",
       " 0\n",
       " 0\n",
       " 0\n",
       " 0\n",
       " 0\n",
       " 0\n",
       " 0\n",
       " 0\n",
       " 0\n",
       " 0\n",
       " 0\n",
       " 0\n",
       " 0\n",
       " 0\n",
       " 0\n",
       " 0\n",
       " 0\n",
       " 0\n",
       " 0\n",
       " 0\n",
       " 0\n",
       " 0\n",
       " 0\n",
       " 0\n",
       " 0\n",
       " 0\n",
       " 0\n",
       " 0\n",
       " 0\n",
       " 0\n",
       " 0\n",
       " 0\n",
       " 0\n",
       " 0\n",
       " 0\n",
       " 0\n",
       " 0\n",
       " 0\n",
       " 0\n",
       " 0\n",
       " 0\n",
       " 0\n",
       " 0\n",
       " 0\n",
       " 0\n",
       " 0\n",
       " 0\n",
       " 0\n",
       " 0\n",
       " 0\n",
       " 0\n",
       " 0\n",
       " 0\n",
       " 0\n",
       " 0\n",
       " 0\n",
       " 0\n",
       " 0\n",
       " 0\n",
       " 0\n",
       " 0\n",
       " 0\n",
       " 0\n",
       " 0\n",
       " 0\n",
       " 0\n",
       " 0\n",
       " 0\n",
       " 0\n",
       " 0\n",
       " 0\n",
       " 0\n",
       " 0\n",
       " 0\n",
       " 0\n",
       " 0\n",
       " 0\n",
       " 0\n",
       " 0\n",
       " 0\n",
       " 0\n",
       " 0\n",
       " 0\n",
       " 0\n",
       " 0\n",
       " 0\n",
       " 0\n",
       " 0\n",
       " 0\n",
       " 0\n",
       " 0\n",
       " 0\n",
       " 0\n",
       " 0\n",
       " 0\n",
       " 0\n",
       " 0\n",
       " 0\n",
       " 0\n",
       " 0\n",
       " 0\n",
       " 0\n",
       " 0\n",
       " 0\n",
       " 0\n",
       " 0\n",
       "[torch.FloatTensor of size 200]"
      ]
     },
     "execution_count": 39,
     "metadata": {},
     "output_type": "execute_result"
    }
   ],
   "source": [
    "# Set biases to all zeros\n",
    "net.fc1.bias.data.fill_(0)"
   ]
  },
  {
   "cell_type": "code",
   "execution_count": 40,
   "metadata": {},
   "outputs": [
    {
     "data": {
      "text/plain": [
       "\n",
       "-8.2973e-03  5.3178e-04  9.7164e-03  ...  -9.1472e-03 -1.2413e-02 -7.3010e-03\n",
       " 1.1528e-02 -3.6759e-04 -9.6174e-04  ...  -1.3793e-02 -6.5981e-03 -1.8863e-03\n",
       "-1.4455e-02 -7.5008e-03 -5.1510e-03  ...  -1.1266e-02  9.3911e-03  9.1117e-03\n",
       "                ...                   ⋱                   ...                \n",
       "-9.2848e-03  9.5317e-04  2.0831e-02  ...   5.5656e-03 -1.3474e-02 -3.2412e-03\n",
       "-1.4170e-02 -4.4325e-03  3.3441e-03  ...   5.4936e-03  3.0722e-03  1.5793e-02\n",
       "-1.0642e-02 -5.2065e-03 -6.5115e-04  ...  -3.3276e-03 -9.5761e-03  2.8842e-03\n",
       "[torch.FloatTensor of size 200x784]"
      ]
     },
     "execution_count": 40,
     "metadata": {},
     "output_type": "execute_result"
    }
   ],
   "source": [
    "# sample from random normal with standard dev = 0.01\n",
    "net.fc1.weight.data.normal_(std=0.01)"
   ]
  },
  {
   "cell_type": "markdown",
   "metadata": {},
   "source": [
    "## Training the network!\n",
    "\n",
    "The first thing we need to do for training is define our loss function. In PyTorch, you'll usually see this as `criterion`. Here we're using softmax output, so we want to use `criterion = nn.CrossEntropyLoss()` as our loss. Later when training, you use `loss = criterion(output, targets)` to calculate the actual loss.\n",
    "\n",
    "We also need to define the optimizer we're using, SGD or Adam, or something along those lines. Here I'll just use SGD with `torch.optim.SGD`, passing in the network parameters and the learning rate."
   ]
  },
  {
   "cell_type": "code",
   "execution_count": 41,
   "metadata": {
    "collapsed": true
   },
   "outputs": [],
   "source": [
    "criterion = nn.CrossEntropyLoss()\n",
    "optimizer = optim.SGD(net.parameters(), lr=0.01)"
   ]
  },
  {
   "cell_type": "markdown",
   "metadata": {},
   "source": [
    "First, let's consider just one learning step before looping through all the data. The general process with PyTorch:\n",
    "\n",
    "* Make a forward pass through the network to get the logits \n",
    "* Use the logits to calculate the loss\n",
    "* Perform a backward pass through the network with `loss.backward()` to calculate the gradients\n",
    "* Take a step with the optimizer to update the weights\n",
    "\n",
    "Below I'll go through one training step and print out the weights and gradients so you can see how it changes."
   ]
  },
  {
   "cell_type": "code",
   "execution_count": 42,
   "metadata": {},
   "outputs": [
    {
     "name": "stdout",
     "output_type": "stream",
     "text": [
      "Initial weights -  Parameter containing:\n",
      "-8.2973e-03  5.3178e-04  9.7164e-03  ...  -9.1472e-03 -1.2413e-02 -7.3010e-03\n",
      " 1.1528e-02 -3.6759e-04 -9.6174e-04  ...  -1.3793e-02 -6.5981e-03 -1.8863e-03\n",
      "-1.4455e-02 -7.5008e-03 -5.1510e-03  ...  -1.1266e-02  9.3911e-03  9.1117e-03\n",
      "                ...                   ⋱                   ...                \n",
      "-9.2848e-03  9.5317e-04  2.0831e-02  ...   5.5656e-03 -1.3474e-02 -3.2412e-03\n",
      "-1.4170e-02 -4.4325e-03  3.3441e-03  ...   5.4936e-03  3.0722e-03  1.5793e-02\n",
      "-1.0642e-02 -5.2065e-03 -6.5115e-04  ...  -3.3276e-03 -9.5761e-03  2.8842e-03\n",
      "[torch.FloatTensor of size 200x784]\n",
      "\n",
      "Gradient - Variable containing:\n",
      "1.00000e-03 *\n",
      " 3.1798  3.1798  3.1798  ...   3.1798  3.1798  3.1798\n",
      " 0.3229  0.3229  0.3229  ...   0.3229  0.3229  0.3229\n",
      " 1.7920  1.7920  1.7920  ...   1.7920  1.7920  1.7920\n",
      "          ...             ⋱             ...          \n",
      " 0.9295  0.9295  0.9295  ...   0.9295  0.9295  0.9295\n",
      " 0.1123  0.1123  0.1123  ...   0.1123  0.1123  0.1123\n",
      "-0.8762 -0.8762 -0.8762  ...  -0.8762 -0.8762 -0.8762\n",
      "[torch.FloatTensor of size 200x784]\n",
      "\n"
     ]
    }
   ],
   "source": [
    "print('Initial weights - ', net.fc1.weight)\n",
    "\n",
    "dataiter = iter(trainloader)\n",
    "images, labels = dataiter.next()\n",
    "\n",
    "images.resize_(64, 784)\n",
    "\n",
    "# Create Variables for the inputs and targets\n",
    "inputs = Variable(images)\n",
    "targets = Variable(labels)\n",
    "\n",
    "# Clear the gradients from all Variables\n",
    "optimizer.zero_grad()\n",
    "\n",
    "# Forward pass, then backward pass, then update weights\n",
    "output = net.forward(inputs)\n",
    "loss = criterion(output, targets)\n",
    "loss.backward()\n",
    "print('Gradient -', net.fc1.weight.grad)\n",
    "optimizer.step()"
   ]
  },
  {
   "cell_type": "code",
   "execution_count": 43,
   "metadata": {},
   "outputs": [
    {
     "name": "stdout",
     "output_type": "stream",
     "text": [
      "Updated weights -  Parameter containing:\n",
      "-8.3291e-03  4.9999e-04  9.6846e-03  ...  -9.1790e-03 -1.2445e-02 -7.3328e-03\n",
      " 1.1525e-02 -3.7082e-04 -9.6497e-04  ...  -1.3796e-02 -6.6014e-03 -1.8895e-03\n",
      "-1.4473e-02 -7.5187e-03 -5.1689e-03  ...  -1.1284e-02  9.3732e-03  9.0938e-03\n",
      "                ...                   ⋱                   ...                \n",
      "-9.2941e-03  9.4388e-04  2.0821e-02  ...   5.5563e-03 -1.3484e-02 -3.2505e-03\n",
      "-1.4171e-02 -4.4337e-03  3.3430e-03  ...   5.4925e-03  3.0711e-03  1.5792e-02\n",
      "-1.0633e-02 -5.1977e-03 -6.4239e-04  ...  -3.3189e-03 -9.5673e-03  2.8929e-03\n",
      "[torch.FloatTensor of size 200x784]\n",
      "\n"
     ]
    }
   ],
   "source": [
    "print('Updated weights - ', net.fc1.weight)"
   ]
  },
  {
   "cell_type": "markdown",
   "metadata": {},
   "source": [
    "### Training for real\n",
    "\n",
    "Now we'll put this algorithm into a loop so we can go through all the images. This is fairly straightforward. We'll loop through the mini-batches in our dataset, pass the data through the network to calculate the losses, get the gradients, then run the optimizer"
   ]
  },
  {
   "cell_type": "code",
   "execution_count": 44,
   "metadata": {
    "collapsed": true
   },
   "outputs": [],
   "source": [
    "net = Network()\n",
    "optimizer = optim.Adam(net.parameters(), lr=0.001)"
   ]
  },
  {
   "cell_type": "code",
   "execution_count": 45,
   "metadata": {},
   "outputs": [
    {
     "name": "stdout",
     "output_type": "stream",
     "text": [
      "Epoch: 1/2 Loss: 2.1655 Test accuracy: 0.5118\n",
      "Epoch: 1/2 Loss: 1.7796 Test accuracy: 0.6890\n",
      "Epoch: 1/2 Loss: 1.3436 Test accuracy: 0.7086\n",
      "Epoch: 1/2 Loss: 1.0372 Test accuracy: 0.7620\n",
      "Epoch: 1/2 Loss: 0.8572 Test accuracy: 0.7920\n",
      "Epoch: 1/2 Loss: 0.7150 Test accuracy: 0.8084\n",
      "Epoch: 1/2 Loss: 0.7048 Test accuracy: 0.8255\n",
      "Epoch: 1/2 Loss: 0.6269 Test accuracy: 0.8478\n",
      "Epoch: 1/2 Loss: 0.6100 Test accuracy: 0.8310\n",
      "Epoch: 1/2 Loss: 0.4586 Test accuracy: 0.8500\n",
      "Epoch: 1/2 Loss: 0.5749 Test accuracy: 0.8684\n",
      "Epoch: 1/2 Loss: 0.4506 Test accuracy: 0.8522\n",
      "Epoch: 1/2 Loss: 0.5135 Test accuracy: 0.8517\n",
      "Epoch: 1/2 Loss: 0.4629 Test accuracy: 0.8610\n",
      "Epoch: 1/2 Loss: 0.4073 Test accuracy: 0.8835\n",
      "Epoch: 1/2 Loss: 0.4435 Test accuracy: 0.8704\n",
      "Epoch: 1/2 Loss: 0.4520 Test accuracy: 0.8875\n",
      "Epoch: 1/2 Loss: 0.3708 Test accuracy: 0.8738\n",
      "Epoch: 1/2 Loss: 0.3832 Test accuracy: 0.8890\n",
      "Epoch: 1/2 Loss: 0.4243 Test accuracy: 0.8914\n",
      "Epoch: 1/2 Loss: 0.4388 Test accuracy: 0.8664\n",
      "Epoch: 1/2 Loss: 0.4157 Test accuracy: 0.8930\n",
      "Epoch: 1/2 Loss: 0.3496 Test accuracy: 0.8976\n",
      "Epoch: 1/2 Loss: 0.4106 Test accuracy: 0.8957\n",
      "Epoch: 1/2 Loss: 0.3923 Test accuracy: 0.8951\n",
      "Epoch: 1/2 Loss: 0.3489 Test accuracy: 0.9025\n",
      "Epoch: 1/2 Loss: 0.3615 Test accuracy: 0.8964\n",
      "Epoch: 1/2 Loss: 0.3579 Test accuracy: 0.9023\n",
      "Epoch: 1/2 Loss: 0.4527 Test accuracy: 0.8889\n",
      "Epoch: 1/2 Loss: 0.3196 Test accuracy: 0.9024\n",
      "Epoch: 1/2 Loss: 0.3565 Test accuracy: 0.8969\n",
      "Epoch: 1/2 Loss: 0.2878 Test accuracy: 0.8935\n",
      "Epoch: 1/2 Loss: 0.3367 Test accuracy: 0.8972\n",
      "Epoch: 1/2 Loss: 0.3803 Test accuracy: 0.9026\n",
      "Epoch: 1/2 Loss: 0.3722 Test accuracy: 0.9072\n",
      "Epoch: 1/2 Loss: 0.3354 Test accuracy: 0.9082\n",
      "Epoch: 1/2 Loss: 0.3144 Test accuracy: 0.8998\n",
      "Epoch: 1/2 Loss: 0.3065 Test accuracy: 0.9009\n",
      "Epoch: 1/2 Loss: 0.3778 Test accuracy: 0.8993\n",
      "Epoch: 1/2 Loss: 0.3643 Test accuracy: 0.8881\n",
      "Epoch: 1/2 Loss: 0.3205 Test accuracy: 0.9093\n",
      "Epoch: 1/2 Loss: 0.3190 Test accuracy: 0.9104\n",
      "Epoch: 1/2 Loss: 0.3208 Test accuracy: 0.9066\n",
      "Epoch: 1/2 Loss: 0.2702 Test accuracy: 0.9111\n",
      "Epoch: 1/2 Loss: 0.3007 Test accuracy: 0.9183\n",
      "Epoch: 1/2 Loss: 0.2950 Test accuracy: 0.9116\n",
      "Epoch: 1/2 Loss: 0.2925 Test accuracy: 0.9132\n",
      "Epoch: 1/2 Loss: 0.2610 Test accuracy: 0.9165\n",
      "Epoch: 1/2 Loss: 0.3016 Test accuracy: 0.9132\n",
      "Epoch: 1/2 Loss: 0.3455 Test accuracy: 0.9136\n",
      "Epoch: 1/2 Loss: 0.3424 Test accuracy: 0.9028\n",
      "Epoch: 1/2 Loss: 0.2827 Test accuracy: 0.9204\n",
      "Epoch: 1/2 Loss: 0.2974 Test accuracy: 0.9196\n",
      "Epoch: 1/2 Loss: 0.2834 Test accuracy: 0.9129\n",
      "Epoch: 1/2 Loss: 0.2875 Test accuracy: 0.9195\n",
      "Epoch: 1/2 Loss: 0.2592 Test accuracy: 0.9224\n",
      "Epoch: 1/2 Loss: 0.3330 Test accuracy: 0.9165\n",
      "Epoch: 1/2 Loss: 0.2539 Test accuracy: 0.9218\n",
      "Epoch: 1/2 Loss: 0.2822 Test accuracy: 0.9195\n",
      "Epoch: 1/2 Loss: 0.3146 Test accuracy: 0.9168\n",
      "Epoch: 1/2 Loss: 0.3276 Test accuracy: 0.9146\n",
      "Epoch: 1/2 Loss: 0.3366 Test accuracy: 0.9185\n",
      "Epoch: 1/2 Loss: 0.3201 Test accuracy: 0.9208\n",
      "Epoch: 1/2 Loss: 0.2910 Test accuracy: 0.9250\n",
      "Epoch: 1/2 Loss: 0.2903 Test accuracy: 0.9253\n",
      "Epoch: 1/2 Loss: 0.3185 Test accuracy: 0.9270\n",
      "Epoch: 1/2 Loss: 0.2548 Test accuracy: 0.9224\n",
      "Epoch: 1/2 Loss: 0.2502 Test accuracy: 0.9283\n",
      "Epoch: 1/2 Loss: 0.2740 Test accuracy: 0.9267\n",
      "Epoch: 1/2 Loss: 0.3199 Test accuracy: 0.9260\n",
      "Epoch: 1/2 Loss: 0.2629 Test accuracy: 0.9279\n",
      "Epoch: 1/2 Loss: 0.3367 Test accuracy: 0.9014\n",
      "Epoch: 1/2 Loss: 0.3058 Test accuracy: 0.9209\n",
      "Epoch: 1/2 Loss: 0.2502 Test accuracy: 0.9301\n",
      "Epoch: 1/2 Loss: 0.2836 Test accuracy: 0.9330\n",
      "Epoch: 1/2 Loss: 0.2529 Test accuracy: 0.9286\n",
      "Epoch: 1/2 Loss: 0.2843 Test accuracy: 0.9261\n",
      "Epoch: 1/2 Loss: 0.2527 Test accuracy: 0.9341\n",
      "Epoch: 1/2 Loss: 0.2211 Test accuracy: 0.9315\n",
      "Epoch: 1/2 Loss: 0.2105 Test accuracy: 0.9332\n",
      "Epoch: 1/2 Loss: 0.2406 Test accuracy: 0.9328\n",
      "Epoch: 1/2 Loss: 0.2401 Test accuracy: 0.9338\n",
      "Epoch: 1/2 Loss: 0.2576 Test accuracy: 0.9328\n",
      "Epoch: 1/2 Loss: 0.2412 Test accuracy: 0.9350\n",
      "Epoch: 1/2 Loss: 0.2352 Test accuracy: 0.9308\n",
      "Epoch: 1/2 Loss: 0.2284 Test accuracy: 0.9322\n",
      "Epoch: 1/2 Loss: 0.2489 Test accuracy: 0.9295\n",
      "Epoch: 1/2 Loss: 0.2533 Test accuracy: 0.9347\n",
      "Epoch: 1/2 Loss: 0.2694 Test accuracy: 0.9346\n",
      "Epoch: 1/2 Loss: 0.2452 Test accuracy: 0.9383\n",
      "Epoch: 1/2 Loss: 0.2289 Test accuracy: 0.9310\n",
      "Epoch: 1/2 Loss: 0.2575 Test accuracy: 0.9345\n",
      "Epoch: 1/2 Loss: 0.2743 Test accuracy: 0.9387\n",
      "Epoch: 2/2 Loss: 0.2357 Test accuracy: 0.9287\n",
      "Epoch: 2/2 Loss: 0.2633 Test accuracy: 0.9421\n",
      "Epoch: 2/2 Loss: 0.1693 Test accuracy: 0.9354\n",
      "Epoch: 2/2 Loss: 0.2174 Test accuracy: 0.9371\n",
      "Epoch: 2/2 Loss: 0.2243 Test accuracy: 0.9351\n",
      "Epoch: 2/2 Loss: 0.1668 Test accuracy: 0.9398\n",
      "Epoch: 2/2 Loss: 0.2036 Test accuracy: 0.9351\n",
      "Epoch: 2/2 Loss: 0.2088 Test accuracy: 0.9362\n",
      "Epoch: 2/2 Loss: 0.2094 Test accuracy: 0.9374\n",
      "Epoch: 2/2 Loss: 0.2558 Test accuracy: 0.9393\n",
      "Epoch: 2/2 Loss: 0.2072 Test accuracy: 0.9406\n",
      "Epoch: 2/2 Loss: 0.2031 Test accuracy: 0.9381\n",
      "Epoch: 2/2 Loss: 0.1921 Test accuracy: 0.9415\n",
      "Epoch: 2/2 Loss: 0.2440 Test accuracy: 0.9345\n",
      "Epoch: 2/2 Loss: 0.2010 Test accuracy: 0.9377\n",
      "Epoch: 2/2 Loss: 0.2122 Test accuracy: 0.9320\n",
      "Epoch: 2/2 Loss: 0.2221 Test accuracy: 0.9408\n",
      "Epoch: 2/2 Loss: 0.1588 Test accuracy: 0.9411\n",
      "Epoch: 2/2 Loss: 0.2578 Test accuracy: 0.9418\n",
      "Epoch: 2/2 Loss: 0.1909 Test accuracy: 0.9405\n",
      "Epoch: 2/2 Loss: 0.2010 Test accuracy: 0.9415\n",
      "Epoch: 2/2 Loss: 0.1968 Test accuracy: 0.9406\n",
      "Epoch: 2/2 Loss: 0.1740 Test accuracy: 0.9466\n",
      "Epoch: 2/2 Loss: 0.2033 Test accuracy: 0.9449\n",
      "Epoch: 2/2 Loss: 0.2222 Test accuracy: 0.9446\n",
      "Epoch: 2/2 Loss: 0.1931 Test accuracy: 0.9372\n",
      "Epoch: 2/2 Loss: 0.1955 Test accuracy: 0.9367\n",
      "Epoch: 2/2 Loss: 0.1952 Test accuracy: 0.9313\n",
      "Epoch: 2/2 Loss: 0.1893 Test accuracy: 0.9403\n",
      "Epoch: 2/2 Loss: 0.2244 Test accuracy: 0.9406\n",
      "Epoch: 2/2 Loss: 0.2334 Test accuracy: 0.9452\n",
      "Epoch: 2/2 Loss: 0.2161 Test accuracy: 0.9425\n",
      "Epoch: 2/2 Loss: 0.1505 Test accuracy: 0.9430\n",
      "Epoch: 2/2 Loss: 0.1900 Test accuracy: 0.9413\n",
      "Epoch: 2/2 Loss: 0.1585 Test accuracy: 0.9442\n",
      "Epoch: 2/2 Loss: 0.1872 Test accuracy: 0.9488\n",
      "Epoch: 2/2 Loss: 0.1798 Test accuracy: 0.9483\n",
      "Epoch: 2/2 Loss: 0.1792 Test accuracy: 0.9472\n",
      "Epoch: 2/2 Loss: 0.1854 Test accuracy: 0.9409\n",
      "Epoch: 2/2 Loss: 0.1496 Test accuracy: 0.9426\n",
      "Epoch: 2/2 Loss: 0.1721 Test accuracy: 0.9479\n",
      "Epoch: 2/2 Loss: 0.2330 Test accuracy: 0.9442\n",
      "Epoch: 2/2 Loss: 0.2848 Test accuracy: 0.9466\n",
      "Epoch: 2/2 Loss: 0.1548 Test accuracy: 0.9475\n",
      "Epoch: 2/2 Loss: 0.1707 Test accuracy: 0.9479\n",
      "Epoch: 2/2 Loss: 0.1486 Test accuracy: 0.9482\n",
      "Epoch: 2/2 Loss: 0.1753 Test accuracy: 0.9452\n",
      "Epoch: 2/2 Loss: 0.1492 Test accuracy: 0.9439\n",
      "Epoch: 2/2 Loss: 0.1764 Test accuracy: 0.9381\n",
      "Epoch: 2/2 Loss: 0.1585 Test accuracy: 0.9487\n",
      "Epoch: 2/2 Loss: 0.2339 Test accuracy: 0.9472\n",
      "Epoch: 2/2 Loss: 0.1231 Test accuracy: 0.9528\n",
      "Epoch: 2/2 Loss: 0.1994 Test accuracy: 0.9502\n",
      "Epoch: 2/2 Loss: 0.1870 Test accuracy: 0.9494\n",
      "Epoch: 2/2 Loss: 0.1657 Test accuracy: 0.9501\n",
      "Epoch: 2/2 Loss: 0.1716 Test accuracy: 0.9505\n",
      "Epoch: 2/2 Loss: 0.1837 Test accuracy: 0.9479\n",
      "Epoch: 2/2 Loss: 0.1298 Test accuracy: 0.9514\n",
      "Epoch: 2/2 Loss: 0.2139 Test accuracy: 0.9515\n",
      "Epoch: 2/2 Loss: 0.1828 Test accuracy: 0.9453\n",
      "Epoch: 2/2 Loss: 0.2151 Test accuracy: 0.9497\n",
      "Epoch: 2/2 Loss: 0.1577 Test accuracy: 0.9505\n",
      "Epoch: 2/2 Loss: 0.1731 Test accuracy: 0.9499\n",
      "Epoch: 2/2 Loss: 0.1598 Test accuracy: 0.9513\n",
      "Epoch: 2/2 Loss: 0.2002 Test accuracy: 0.9459\n",
      "Epoch: 2/2 Loss: 0.1858 Test accuracy: 0.9434\n",
      "Epoch: 2/2 Loss: 0.2117 Test accuracy: 0.9353\n",
      "Epoch: 2/2 Loss: 0.1883 Test accuracy: 0.9370\n",
      "Epoch: 2/2 Loss: 0.1971 Test accuracy: 0.9500\n",
      "Epoch: 2/2 Loss: 0.1542 Test accuracy: 0.9539\n",
      "Epoch: 2/2 Loss: 0.1825 Test accuracy: 0.9537\n",
      "Epoch: 2/2 Loss: 0.1427 Test accuracy: 0.9510\n",
      "Epoch: 2/2 Loss: 0.1900 Test accuracy: 0.9497\n",
      "Epoch: 2/2 Loss: 0.1598 Test accuracy: 0.9553\n",
      "Epoch: 2/2 Loss: 0.2184 Test accuracy: 0.9532\n",
      "Epoch: 2/2 Loss: 0.1854 Test accuracy: 0.9505\n",
      "Epoch: 2/2 Loss: 0.1636 Test accuracy: 0.9494\n",
      "Epoch: 2/2 Loss: 0.1697 Test accuracy: 0.9417\n",
      "Epoch: 2/2 Loss: 0.1315 Test accuracy: 0.9422\n",
      "Epoch: 2/2 Loss: 0.1608 Test accuracy: 0.9565\n",
      "Epoch: 2/2 Loss: 0.1506 Test accuracy: 0.9571\n",
      "Epoch: 2/2 Loss: 0.1559 Test accuracy: 0.9508\n",
      "Epoch: 2/2 Loss: 0.2278 Test accuracy: 0.9516\n",
      "Epoch: 2/2 Loss: 0.1720 Test accuracy: 0.9508\n",
      "Epoch: 2/2 Loss: 0.1727 Test accuracy: 0.9557\n",
      "Epoch: 2/2 Loss: 0.2128 Test accuracy: 0.9528\n"
     ]
    },
    {
     "name": "stdout",
     "output_type": "stream",
     "text": [
      "Epoch: 2/2 Loss: 0.1526 Test accuracy: 0.9554\n",
      "Epoch: 2/2 Loss: 0.1502 Test accuracy: 0.9569\n",
      "Epoch: 2/2 Loss: 0.1969 Test accuracy: 0.9548\n",
      "Epoch: 2/2 Loss: 0.1965 Test accuracy: 0.9509\n",
      "Epoch: 2/2 Loss: 0.1657 Test accuracy: 0.9541\n",
      "Epoch: 2/2 Loss: 0.1155 Test accuracy: 0.9463\n",
      "Epoch: 2/2 Loss: 0.1828 Test accuracy: 0.9514\n",
      "Epoch: 2/2 Loss: 0.1346 Test accuracy: 0.9577\n"
     ]
    }
   ],
   "source": [
    "epochs = 2\n",
    "steps = 0\n",
    "running_loss = 0\n",
    "print_every = 10\n",
    "for e in range(epochs):\n",
    "    for images, labels in iter(trainloader):\n",
    "        steps += 1\n",
    "        # Flatten MNIST images into a 784 long vector\n",
    "        images.resize_(images.size()[0], 784)\n",
    "\n",
    "        inputs = Variable(images)\n",
    "        targets = Variable(labels)\n",
    "        optimizer.zero_grad()\n",
    "        \n",
    "        output = net.forward(inputs)\n",
    "        loss = criterion(output, targets)\n",
    "        loss.backward()\n",
    "        optimizer.step()\n",
    "        \n",
    "        running_loss += loss.data[0]\n",
    "        \n",
    "        if steps % print_every == 0:\n",
    "            # Test accuracy\n",
    "            accuracy = 0\n",
    "            for ii, (images, labels) in enumerate(testloader):\n",
    "                \n",
    "                images = images.resize_(images.size()[0], 784)\n",
    "                inputs = Variable(images, volatile=True)\n",
    "                \n",
    "                predicted = net.predict(inputs).data\n",
    "                equality = (labels == predicted.max(1)[1])\n",
    "                accuracy += equality.type_as(torch.FloatTensor()).mean()\n",
    "            \n",
    "            print(\"Epoch: {}/{}\".format(e+1, epochs),\n",
    "                  \"Loss: {:.4f}\".format(running_loss/print_every),\n",
    "                  \"Test accuracy: {:.4f}\".format(accuracy/(ii+1)))\n",
    "            running_loss = 0"
   ]
  },
  {
   "cell_type": "code",
   "execution_count": 46,
   "metadata": {
    "collapsed": true
   },
   "outputs": [],
   "source": [
    "dataiter = iter(testloader)\n",
    "images, labels = dataiter.next()"
   ]
  },
  {
   "cell_type": "code",
   "execution_count": 47,
   "metadata": {},
   "outputs": [
    {
     "data": {
      "text/plain": [
       "<matplotlib.image.AxesImage at 0x1198dc908>"
      ]
     },
     "execution_count": 47,
     "metadata": {},
     "output_type": "execute_result"
    },
    {
     "data": {
      "image/png": "[encoded data removed]",
      "text/plain": [
       "<matplotlib.figure.Figure at 0x112852ba8>"
      ]
     },
     "metadata": {
      "image/png": {
       "height": 250,
       "width": 253
      }
     },
     "output_type": "display_data"
    }
   ],
   "source": [
    "plt.imshow(images[0].numpy().squeeze())"
   ]
  },
  {
   "cell_type": "code",
   "execution_count": 48,
   "metadata": {},
   "outputs": [
    {
     "name": "stdout",
     "output_type": "stream",
     "text": [
      "Predicted digit: 3\n"
     ]
    }
   ],
   "source": [
    "ps = net.predict(Variable(images[0].resize_(1, 784))).data.numpy()\n",
    "print(\"Predicted digit: {}\".format(ps.argmax()))"
   ]
  },
  {
   "cell_type": "markdown",
   "metadata": {},
   "source": [
    "## Convolutional Networks\n",
    "\n",
    "Next we'll check out how to build a convolutional network to classify MNIST images. It's pretty much the same as before, but we use `nn.Conv2d` for the convolutional layers and `nn.MaxPool2d` for the max-pooling layer. (Although max-pooling has fallen out of favor recently, but this is traditional so let's stick with it.)\n",
    "\n",
    "So here I'll build a convolutional network with two convolutional layers, with ReLU activations, and max-pooling after each. The first convolutional layer will have a depth of 8, use 5x5 kernels, with a stride of 1 (so no downsampling). The second convolutional layer will have a depth of 16, use 5x5 kernels, and a stride of 1 again. Both layers with have \"same\" padding, but it's done differently here than in TensorFlow. Instead of saying we want \"same\" padding and letting the framework pad the input tensors, we define how much padding we want on the tensors. The padding should be set to 2 then, since we are using 5x5 kernels and we want the center of the kernel to lie on the edges of the images. Then, there will be two pixels of the kernel falling over the edge of the images.\n",
    "\n",
    "We'll flatten the final convolutional layer and pass it to a fully connected layer. We can change the shape of the Variable `x` with `x.view`. This is then passed to the fully connected layer, which then goes to the output layer with 10 units."
   ]
  },
  {
   "cell_type": "code",
   "execution_count": 50,
   "metadata": {},
   "outputs": [
    {
     "data": {
      "text/plain": [
       "ConvNet (\n",
       "  (conv1): Conv2d(1, 64, kernel_size=(5, 5), stride=(1, 1), padding=(2, 2))\n",
       "  (conv2): Conv2d(64, 128, kernel_size=(5, 5), stride=(1, 1), padding=(2, 2))\n",
       "  (pool): MaxPool2d (size=(2, 2), stride=(2, 2), dilation=(1, 1))\n",
       "  (fc1): Linear (6272 -> 1000)\n",
       "  (fc2): Linear (1000 -> 100)\n",
       "  (fc3): Linear (100 -> 10)\n",
       ")"
      ]
     },
     "execution_count": 50,
     "metadata": {},
     "output_type": "execute_result"
    }
   ],
   "source": [
    "class ConvNet(nn.Module):\n",
    "    def __init__(self):\n",
    "        super().__init__()\n",
    "        # conv layer with depth 8, 5x5 kernels, and \"same\" padding\n",
    "        self.conv1 = nn.Conv2d(1, 64, 5, padding=2)\n",
    "        # conv layer with depth 16, 5x5 kernels, and \"same\" padding\n",
    "        self.conv2 = nn.Conv2d(64, 128, 5, padding=2)\n",
    "        self.pool = nn.MaxPool2d(2, 2)\n",
    "        \n",
    "        # The second convolutional layer will be 7x7x16, fc1 flattens it\n",
    "        self.fc1 = nn.Linear(128*7*7, 1000)\n",
    "        self.fc2 = nn.Linear(1000, 100)\n",
    "        self.fc3 = nn.Linear(100, 10)\n",
    "    \n",
    "    def forward(self, x):\n",
    "        # First conv layer, then ReLU, then max-pooling\n",
    "        x = self.pool(F.relu(self.conv1(x)))\n",
    "        # Second conv layer, then ReLU, then max-pooling\n",
    "        x = self.pool(F.relu(self.conv2(x)))\n",
    "        # Flatten conv layer by reshaping\n",
    "        x = x.view(-1, 128*7*7)\n",
    "        # Fully connected layers\n",
    "        x = F.relu(self.fc1(x))\n",
    "        x = F.relu(self.fc2(x))\n",
    "        x = F.relu(self.fc3(x))\n",
    "        \n",
    "        return x\n",
    "    \n",
    "    def predict(self, x):\n",
    "        logits = self.forward(x)\n",
    "        return F.softmax(logits)\n",
    "        \n",
    "net = ConvNet()\n",
    "net"
   ]
  },
  {
   "cell_type": "markdown",
   "metadata": {},
   "source": [
    "The training code for this is basically the same, except we aren't reshaping the images. You're still running images through the network to calculate the loss, getting the gradients, then updating the parameters. The code below trains the network on your CPU, which takes a bit. Feel free to just run it for a bit, we'll get to using the GPU next."
   ]
  },
  {
   "cell_type": "code",
   "execution_count": 52,
   "metadata": {},
   "outputs": [
    {
     "name": "stdout",
     "output_type": "stream",
     "text": [
      "Epoch: 1/1 Loss: 2.2463 Test accuracy: 0.2972\n",
      "Epoch: 1/1 Loss: 1.6526 Test accuracy: 0.5121\n",
      "Epoch: 1/1 Loss: 1.2701 Test accuracy: 0.5799\n",
      "Epoch: 1/1 Loss: 1.2005 Test accuracy: 0.5897\n",
      "Epoch: 1/1 Loss: 1.0926 Test accuracy: 0.6306\n",
      "Epoch: 1/1 Loss: 0.9862 Test accuracy: 0.6457\n",
      "Epoch: 1/1 Loss: 0.9483 Test accuracy: 0.6825\n",
      "Epoch: 1/1 Loss: 0.8141 Test accuracy: 0.7507\n",
      "Epoch: 1/1 Loss: 0.8676 Test accuracy: 0.7503\n",
      "Epoch: 1/1 Loss: 0.6657 Test accuracy: 0.7591\n",
      "Epoch: 1/1 Loss: 0.6406 Test accuracy: 0.7655\n",
      "Epoch: 1/1 Loss: 0.6527 Test accuracy: 0.7606\n",
      "Epoch: 1/1 Loss: 0.6800 Test accuracy: 0.7576\n",
      "Epoch: 1/1 Loss: 0.6701 Test accuracy: 0.7604\n",
      "Epoch: 1/1 Loss: 0.6097 Test accuracy: 0.7614\n",
      "Epoch: 1/1 Loss: 0.5549 Test accuracy: 0.7646\n",
      "Epoch: 1/1 Loss: 0.5696 Test accuracy: 0.7625\n",
      "Epoch: 1/1 Loss: 0.5864 Test accuracy: 0.7599\n",
      "Epoch: 1/1 Loss: 0.6358 Test accuracy: 0.7623\n",
      "Epoch: 1/1 Loss: 0.6188 Test accuracy: 0.7703\n",
      "Epoch: 1/1 Loss: 0.6129 Test accuracy: 0.7687\n",
      "Epoch: 1/1 Loss: 0.5643 Test accuracy: 0.7712\n"
     ]
    },
    {
     "ename": "KeyboardInterrupt",
     "evalue": "",
     "output_type": "error",
     "traceback": [
      "\u001b[0;31m---------------------------------------------------------------------------\u001b[0m",
      "\u001b[0;31mKeyboardInterrupt\u001b[0m                         Traceback (most recent call last)",
      "\u001b[0;32m<ipython-input-52-4ea2c1276c8b>\u001b[0m in \u001b[0;36m<module>\u001b[0;34m()\u001b[0m\n\u001b[1;32m     34\u001b[0m                 \u001b[0minputs\u001b[0m \u001b[0;34m=\u001b[0m \u001b[0mVariable\u001b[0m\u001b[0;34m(\u001b[0m\u001b[0mimages\u001b[0m\u001b[0;34m,\u001b[0m \u001b[0mvolatile\u001b[0m\u001b[0;34m=\u001b[0m\u001b[0;32mTrue\u001b[0m\u001b[0;34m)\u001b[0m\u001b[0;34m\u001b[0m\u001b[0m\n\u001b[1;32m     35\u001b[0m \u001b[0;34m\u001b[0m\u001b[0m\n\u001b[0;32m---> 36\u001b[0;31m                 \u001b[0mpredicted\u001b[0m \u001b[0;34m=\u001b[0m \u001b[0mnet\u001b[0m\u001b[0;34m.\u001b[0m\u001b[0mpredict\u001b[0m\u001b[0;34m(\u001b[0m\u001b[0minputs\u001b[0m\u001b[0;34m)\u001b[0m\u001b[0;34m.\u001b[0m\u001b[0mdata\u001b[0m\u001b[0;34m\u001b[0m\u001b[0m\n\u001b[0m\u001b[1;32m     37\u001b[0m                 \u001b[0mequality\u001b[0m \u001b[0;34m=\u001b[0m \u001b[0;34m(\u001b[0m\u001b[0mlabels\u001b[0m \u001b[0;34m==\u001b[0m \u001b[0mpredicted\u001b[0m\u001b[0;34m.\u001b[0m\u001b[0mmax\u001b[0m\u001b[0;34m(\u001b[0m\u001b[0;36m1\u001b[0m\u001b[0;34m)\u001b[0m\u001b[0;34m[\u001b[0m\u001b[0;36m1\u001b[0m\u001b[0;34m]\u001b[0m\u001b[0;34m)\u001b[0m\u001b[0;34m\u001b[0m\u001b[0m\n\u001b[1;32m     38\u001b[0m                 \u001b[0maccuracy\u001b[0m \u001b[0;34m+=\u001b[0m \u001b[0mequality\u001b[0m\u001b[0;34m.\u001b[0m\u001b[0mtype_as\u001b[0m\u001b[0;34m(\u001b[0m\u001b[0mtorch\u001b[0m\u001b[0;34m.\u001b[0m\u001b[0mFloatTensor\u001b[0m\u001b[0;34m(\u001b[0m\u001b[0;34m)\u001b[0m\u001b[0;34m)\u001b[0m\u001b[0;34m.\u001b[0m\u001b[0mmean\u001b[0m\u001b[0;34m(\u001b[0m\u001b[0;34m)\u001b[0m\u001b[0;34m\u001b[0m\u001b[0m\n",
      "\u001b[0;32m<ipython-input-50-ce2c5235a6bd>\u001b[0m in \u001b[0;36mpredict\u001b[0;34m(self, x)\u001b[0m\n\u001b[1;32m     28\u001b[0m \u001b[0;34m\u001b[0m\u001b[0m\n\u001b[1;32m     29\u001b[0m     \u001b[0;32mdef\u001b[0m \u001b[0mpredict\u001b[0m\u001b[0;34m(\u001b[0m\u001b[0mself\u001b[0m\u001b[0;34m,\u001b[0m \u001b[0mx\u001b[0m\u001b[0;34m)\u001b[0m\u001b[0;34m:\u001b[0m\u001b[0;34m\u001b[0m\u001b[0m\n\u001b[0;32m---> 30\u001b[0;31m         \u001b[0mlogits\u001b[0m \u001b[0;34m=\u001b[0m \u001b[0mself\u001b[0m\u001b[0;34m.\u001b[0m\u001b[0mforward\u001b[0m\u001b[0;34m(\u001b[0m\u001b[0mx\u001b[0m\u001b[0;34m)\u001b[0m\u001b[0;34m\u001b[0m\u001b[0m\n\u001b[0m\u001b[1;32m     31\u001b[0m         \u001b[0;32mreturn\u001b[0m \u001b[0mF\u001b[0m\u001b[0;34m.\u001b[0m\u001b[0msoftmax\u001b[0m\u001b[0;34m(\u001b[0m\u001b[0mlogits\u001b[0m\u001b[0;34m)\u001b[0m\u001b[0;34m\u001b[0m\u001b[0m\n\u001b[1;32m     32\u001b[0m \u001b[0;34m\u001b[0m\u001b[0m\n",
      "\u001b[0;32m<ipython-input-50-ce2c5235a6bd>\u001b[0m in \u001b[0;36mforward\u001b[0;34m(self, x)\u001b[0m\n\u001b[1;32m     15\u001b[0m     \u001b[0;32mdef\u001b[0m \u001b[0mforward\u001b[0m\u001b[0;34m(\u001b[0m\u001b[0mself\u001b[0m\u001b[0;34m,\u001b[0m \u001b[0mx\u001b[0m\u001b[0;34m)\u001b[0m\u001b[0;34m:\u001b[0m\u001b[0;34m\u001b[0m\u001b[0m\n\u001b[1;32m     16\u001b[0m         \u001b[0;31m# First conv layer, then ReLU, then max-pooling\u001b[0m\u001b[0;34m\u001b[0m\u001b[0;34m\u001b[0m\u001b[0m\n\u001b[0;32m---> 17\u001b[0;31m         \u001b[0mx\u001b[0m \u001b[0;34m=\u001b[0m \u001b[0mself\u001b[0m\u001b[0;34m.\u001b[0m\u001b[0mpool\u001b[0m\u001b[0;34m(\u001b[0m\u001b[0mF\u001b[0m\u001b[0;34m.\u001b[0m\u001b[0mrelu\u001b[0m\u001b[0;34m(\u001b[0m\u001b[0mself\u001b[0m\u001b[0;34m.\u001b[0m\u001b[0mconv1\u001b[0m\u001b[0;34m(\u001b[0m\u001b[0mx\u001b[0m\u001b[0;34m)\u001b[0m\u001b[0;34m)\u001b[0m\u001b[0;34m)\u001b[0m\u001b[0;34m\u001b[0m\u001b[0m\n\u001b[0m\u001b[1;32m     18\u001b[0m         \u001b[0;31m# Second conv layer, then ReLU, then max-pooling\u001b[0m\u001b[0;34m\u001b[0m\u001b[0;34m\u001b[0m\u001b[0m\n\u001b[1;32m     19\u001b[0m         \u001b[0mx\u001b[0m \u001b[0;34m=\u001b[0m \u001b[0mself\u001b[0m\u001b[0;34m.\u001b[0m\u001b[0mpool\u001b[0m\u001b[0;34m(\u001b[0m\u001b[0mF\u001b[0m\u001b[0;34m.\u001b[0m\u001b[0mrelu\u001b[0m\u001b[0;34m(\u001b[0m\u001b[0mself\u001b[0m\u001b[0;34m.\u001b[0m\u001b[0mconv2\u001b[0m\u001b[0;34m(\u001b[0m\u001b[0mx\u001b[0m\u001b[0;34m)\u001b[0m\u001b[0;34m)\u001b[0m\u001b[0;34m)\u001b[0m\u001b[0;34m\u001b[0m\u001b[0m\n",
      "\u001b[0;32m/Users/mat/miniconda3/envs/pytorch/lib/python3.5/site-packages/torch/nn/modules/module.py\u001b[0m in \u001b[0;36m__call__\u001b[0;34m(self, *input, **kwargs)\u001b[0m\n\u001b[1;32m    204\u001b[0m \u001b[0;34m\u001b[0m\u001b[0m\n\u001b[1;32m    205\u001b[0m     \u001b[0;32mdef\u001b[0m \u001b[0m__call__\u001b[0m\u001b[0;34m(\u001b[0m\u001b[0mself\u001b[0m\u001b[0;34m,\u001b[0m \u001b[0;34m*\u001b[0m\u001b[0minput\u001b[0m\u001b[0;34m,\u001b[0m \u001b[0;34m**\u001b[0m\u001b[0mkwargs\u001b[0m\u001b[0;34m)\u001b[0m\u001b[0;34m:\u001b[0m\u001b[0;34m\u001b[0m\u001b[0m\n\u001b[0;32m--> 206\u001b[0;31m         \u001b[0mresult\u001b[0m \u001b[0;34m=\u001b[0m \u001b[0mself\u001b[0m\u001b[0;34m.\u001b[0m\u001b[0mforward\u001b[0m\u001b[0;34m(\u001b[0m\u001b[0;34m*\u001b[0m\u001b[0minput\u001b[0m\u001b[0;34m,\u001b[0m \u001b[0;34m**\u001b[0m\u001b[0mkwargs\u001b[0m\u001b[0;34m)\u001b[0m\u001b[0;34m\u001b[0m\u001b[0m\n\u001b[0m\u001b[1;32m    207\u001b[0m         \u001b[0;32mfor\u001b[0m \u001b[0mhook\u001b[0m \u001b[0;32min\u001b[0m \u001b[0mself\u001b[0m\u001b[0;34m.\u001b[0m\u001b[0m_forward_hooks\u001b[0m\u001b[0;34m.\u001b[0m\u001b[0mvalues\u001b[0m\u001b[0;34m(\u001b[0m\u001b[0;34m)\u001b[0m\u001b[0;34m:\u001b[0m\u001b[0;34m\u001b[0m\u001b[0m\n\u001b[1;32m    208\u001b[0m             \u001b[0mhook_result\u001b[0m \u001b[0;34m=\u001b[0m \u001b[0mhook\u001b[0m\u001b[0;34m(\u001b[0m\u001b[0mself\u001b[0m\u001b[0;34m,\u001b[0m \u001b[0minput\u001b[0m\u001b[0;34m,\u001b[0m \u001b[0mresult\u001b[0m\u001b[0;34m)\u001b[0m\u001b[0;34m\u001b[0m\u001b[0m\n",
      "\u001b[0;32m/Users/mat/miniconda3/envs/pytorch/lib/python3.5/site-packages/torch/nn/modules/pooling.py\u001b[0m in \u001b[0;36mforward\u001b[0;34m(self, input)\u001b[0m\n\u001b[1;32m    141\u001b[0m         return F.max_pool2d(input, self.kernel_size, self.stride,\n\u001b[1;32m    142\u001b[0m                             \u001b[0mself\u001b[0m\u001b[0;34m.\u001b[0m\u001b[0mpadding\u001b[0m\u001b[0;34m,\u001b[0m \u001b[0mself\u001b[0m\u001b[0;34m.\u001b[0m\u001b[0mdilation\u001b[0m\u001b[0;34m,\u001b[0m \u001b[0mself\u001b[0m\u001b[0;34m.\u001b[0m\u001b[0mceil_mode\u001b[0m\u001b[0;34m,\u001b[0m\u001b[0;34m\u001b[0m\u001b[0m\n\u001b[0;32m--> 143\u001b[0;31m                             self.return_indices)\n\u001b[0m\u001b[1;32m    144\u001b[0m \u001b[0;34m\u001b[0m\u001b[0m\n\u001b[1;32m    145\u001b[0m     \u001b[0;32mdef\u001b[0m \u001b[0m__repr__\u001b[0m\u001b[0;34m(\u001b[0m\u001b[0mself\u001b[0m\u001b[0;34m)\u001b[0m\u001b[0;34m:\u001b[0m\u001b[0;34m\u001b[0m\u001b[0m\n",
      "\u001b[0;32m/Users/mat/miniconda3/envs/pytorch/lib/python3.5/site-packages/torch/nn/functional.py\u001b[0m in \u001b[0;36mmax_pool2d\u001b[0;34m(input, kernel_size, stride, padding, dilation, ceil_mode, return_indices)\u001b[0m\n\u001b[1;32m    219\u001b[0m                ceil_mode=False, return_indices=False):\n\u001b[1;32m    220\u001b[0m     return _functions.thnn.MaxPool2d(kernel_size, stride, padding, dilation,\n\u001b[0;32m--> 221\u001b[0;31m                                      return_indices, ceil_mode)(input)\n\u001b[0m\u001b[1;32m    222\u001b[0m \u001b[0;34m\u001b[0m\u001b[0m\n\u001b[1;32m    223\u001b[0m \u001b[0;34m\u001b[0m\u001b[0m\n",
      "\u001b[0;32m/Users/mat/miniconda3/envs/pytorch/lib/python3.5/site-packages/torch/nn/_functions/thnn/pooling.py\u001b[0m in \u001b[0;36mforward\u001b[0;34m(self, input)\u001b[0m\n\u001b[1;32m     86\u001b[0m                                                       \u001b[0mself\u001b[0m\u001b[0;34m.\u001b[0m\u001b[0mpadding\u001b[0m\u001b[0;34m[\u001b[0m\u001b[0;36m1\u001b[0m\u001b[0;34m]\u001b[0m\u001b[0;34m,\u001b[0m \u001b[0mself\u001b[0m\u001b[0;34m.\u001b[0m\u001b[0mpadding\u001b[0m\u001b[0;34m[\u001b[0m\u001b[0;36m0\u001b[0m\u001b[0;34m]\u001b[0m\u001b[0;34m,\u001b[0m\u001b[0;34m\u001b[0m\u001b[0m\n\u001b[1;32m     87\u001b[0m                                                       \u001b[0mself\u001b[0m\u001b[0;34m.\u001b[0m\u001b[0mdilation\u001b[0m\u001b[0;34m[\u001b[0m\u001b[0;36m1\u001b[0m\u001b[0;34m]\u001b[0m\u001b[0;34m,\u001b[0m \u001b[0mself\u001b[0m\u001b[0;34m.\u001b[0m\u001b[0mdilation\u001b[0m\u001b[0;34m[\u001b[0m\u001b[0;36m0\u001b[0m\u001b[0;34m]\u001b[0m\u001b[0;34m,\u001b[0m\u001b[0;34m\u001b[0m\u001b[0m\n\u001b[0;32m---> 88\u001b[0;31m                                                       self.ceil_mode)\n\u001b[0m\u001b[1;32m     89\u001b[0m         \u001b[0;32mif\u001b[0m \u001b[0mself\u001b[0m\u001b[0;34m.\u001b[0m\u001b[0mreturn_indices\u001b[0m\u001b[0;34m:\u001b[0m\u001b[0;34m\u001b[0m\u001b[0m\n\u001b[1;32m     90\u001b[0m             \u001b[0mself\u001b[0m\u001b[0;34m.\u001b[0m\u001b[0msave_for_backward\u001b[0m\u001b[0;34m(\u001b[0m\u001b[0minput\u001b[0m\u001b[0;34m,\u001b[0m \u001b[0mindices\u001b[0m\u001b[0;34m)\u001b[0m\u001b[0;34m\u001b[0m\u001b[0m\n",
      "\u001b[0;31mKeyboardInterrupt\u001b[0m: "
     ]
    }
   ],
   "source": [
    "net = ConvNet()\n",
    "criterion = nn.CrossEntropyLoss()\n",
    "optimizer = optim.Adam(net.parameters(), lr=0.001)\n",
    "\n",
    "#trainloader.batch_size = 64\n",
    "\n",
    "epochs = 1\n",
    "steps = 0\n",
    "running_loss = 0\n",
    "print_every = 10\n",
    "for e in range(epochs):\n",
    "    for images, labels in iter(trainloader):\n",
    "        steps += 1\n",
    "        # Flatten MNIST images into a 784 long vector\n",
    "        #images.resize_(images.size()[0], 784)\n",
    "\n",
    "        inputs = Variable(images)\n",
    "        targets = Variable(labels)\n",
    "        optimizer.zero_grad()\n",
    "        \n",
    "        output = net.forward(inputs)\n",
    "        loss = criterion(output, targets)\n",
    "        loss.backward()\n",
    "        optimizer.step()\n",
    "        \n",
    "        running_loss += loss.data[0]\n",
    "        \n",
    "        if steps % print_every == 0:\n",
    "            # Test accuracy\n",
    "            accuracy = 0\n",
    "            for ii, (images, labels) in enumerate(testloader):\n",
    "                \n",
    "                #images = images.resize_(images.size()[0], 784)\n",
    "                inputs = Variable(images, volatile=True)\n",
    "                \n",
    "                predicted = net.predict(inputs).data\n",
    "                equality = (labels == predicted.max(1)[1])\n",
    "                accuracy += equality.type_as(torch.FloatTensor()).mean()\n",
    "            \n",
    "            print(\"Epoch: {}/{}\".format(e+1, epochs),\n",
    "                  \"Loss: {:.4f}\".format(running_loss/print_every),\n",
    "                  \"Test accuracy: {:.4f}\".format(accuracy/(ii+1)))\n",
    "            running_loss = 0"
   ]
  },
  {
   "cell_type": "markdown",
   "metadata": {},
   "source": [
    "## Speeding things up\n",
    "\n",
    "We can massively sped up our training by running the matrix operations on a GPU with CUDA. In PyTorch, we do this by sending the tensors to the GPU. First, you set the network to use the GPU with `net.cuda()`. Then, the input and target tensors are sent to the GPU, typically with some flag\n",
    "\n",
    "```\n",
    "if cuda == True:\n",
    "    inputs, targets = inputs.cuda(), targets.cuda()\n",
    "```\n",
    "\n",
    "And that's it. The output of the network will again be a tensor on the GPU, so to get it back to the CPU for further operations (such as with Numpy), you used `output = output.cpu()`."
   ]
  },
  {
   "cell_type": "code",
   "execution_count": null,
   "metadata": {
    "collapsed": true
   },
   "outputs": [],
   "source": []
  }
 ],
 "metadata": {
  "kernelspec": {
   "display_name": "Python 3",
   "language": "python",
   "name": "python3"
  },
  "language_info": {
   "codemirror_mode": {
    "name": "ipython",
    "version": 3
   },
   "file_extension": ".py",
   "mimetype": "text/x-python",
   "name": "python",
   "nbconvert_exporter": "python",
   "pygments_lexer": "ipython3",
   "version": "3.5.3"
  }
 },
 "nbformat": 4,
 "nbformat_minor": 2
}
